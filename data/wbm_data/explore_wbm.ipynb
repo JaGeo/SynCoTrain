{
 "cells": [
  {
   "cell_type": "code",
   "execution_count": 1,
   "metadata": {},
   "outputs": [],
   "source": [
    "import json\n",
    "from pymatgen.core.structure import Structure\n",
    "from pymatgen.core.periodic_table import Element\n",
    "import os\n",
    "current_dir = os.path.dirname(os.path.realpath('__file__'))\n",
    "os.chdir('../../data_scripts')\n",
    "from crystal_funcs import clean_oxide\n",
    "os.chdir(current_dir)\n",
    "import numpy as np\n",
    "import pandas as pd"
   ]
  },
  {
   "cell_type": "code",
   "execution_count": 2,
   "metadata": {},
   "outputs": [],
   "source": [
    "file_path = \"2022-10-19-wbm-computed-structure-entries+init-structs.json\"\n",
    "\n",
    "with open(file_path) as file:\n",
    "    data = json.load(file)\n"
   ]
  },
  {
   "cell_type": "code",
   "execution_count": 3,
   "metadata": {},
   "outputs": [
    {
     "data": {
      "text/plain": [
       "dict"
      ]
     },
     "execution_count": 3,
     "metadata": {},
     "output_type": "execute_result"
    }
   ],
   "source": [
    "type(data)"
   ]
  },
  {
   "cell_type": "code",
   "execution_count": 4,
   "metadata": {},
   "outputs": [
    {
     "data": {
      "text/plain": [
       "dict_keys(['material_id', 'formula_from_cse', 'initial_structure', 'computed_structure_entry'])"
      ]
     },
     "execution_count": 4,
     "metadata": {},
     "output_type": "execute_result"
    }
   ],
   "source": [
    "data.keys()"
   ]
  },
  {
   "cell_type": "markdown",
   "metadata": {},
   "source": [
    "initial_structure are unrelaxed. computed_structure_entry['structure'] are the relaxed structures."
   ]
  },
  {
   "cell_type": "code",
   "execution_count": 5,
   "metadata": {},
   "outputs": [],
   "source": [
    "wbm_data = list(data['computed_structure_entry'].values())"
   ]
  },
  {
   "cell_type": "code",
   "execution_count": 6,
   "metadata": {},
   "outputs": [],
   "source": [
    "for d in wbm_data:\n",
    "    d['material_id'] = d['entry_id']\n",
    "    del d['entry_id']\n",
    "    d['structure'] = Structure.from_dict(d['structure'])"
   ]
  },
  {
   "cell_type": "code",
   "execution_count": 7,
   "metadata": {},
   "outputs": [
    {
     "name": "stdout",
     "output_type": "stream",
     "text": [
      "27946\n"
     ]
    }
   ],
   "source": [
    "oxs = [d for d in wbm_data if Element('O') in d['structure'].elements]\n",
    "# filter out structures without oxygen\n",
    "print(len(oxs))"
   ]
  },
  {
   "cell_type": "code",
   "execution_count": 8,
   "metadata": {},
   "outputs": [
    {
     "name": "stdout",
     "output_type": "stream",
     "text": [
      "The initial data length is 27946\n",
      "The number of entries with anions other than Oxygen were 4232\n",
      "The number of entries with different oxidation types were 1633\n",
      "The number of entries where valence/oxidation could not be analyzed were 7987\n",
      "The number of entries where the primitive structure could not be calculated were 0\n",
      "The length of data after removing undesired entries is  14094\n"
     ]
    }
   ],
   "source": [
    "# oxs_short = oxs[:100]\n",
    "\n",
    "# good_data = clean_oxide(experimental=False, pymatgenArray = oxs_short,\n",
    "good_data = clean_oxide(experimental=False, pymatgenArray = oxs,\n",
    "                                     reportBadData=False, read_oxide_type = False)\n"
   ]
  },
  {
   "cell_type": "code",
   "execution_count": 9,
   "metadata": {},
   "outputs": [],
   "source": [
    "# good_data[0]"
   ]
  },
  {
   "cell_type": "code",
   "execution_count": 10,
   "metadata": {},
   "outputs": [],
   "source": [
    "df = pd.DataFrame.from_records(good_data)\n",
    "df = df.drop(columns=['@module', '@class', 'data'])\n"
   ]
  },
  {
   "cell_type": "code",
   "execution_count": 11,
   "metadata": {},
   "outputs": [
    {
     "data": {
      "text/plain": [
       "Index(['energy', 'composition', 'correction', 'parameters', 'structure',\n",
       "       'material_id'],\n",
       "      dtype='object')"
      ]
     },
     "execution_count": 11,
     "metadata": {},
     "output_type": "execute_result"
    }
   ],
   "source": [
    "df.columns"
   ]
  },
  {
   "cell_type": "code",
   "execution_count": 12,
   "metadata": {},
   "outputs": [],
   "source": [
    "df.to_pickle('wbm_oxides.pkl')"
   ]
  },
  {
   "cell_type": "markdown",
   "metadata": {},
   "source": [
    "Switching to an array seems difficult and unnecessary. But, it seems we need to add a material_id component to each data point. \n",
    "That could be obtained through data['material_id'] of the same index. Don't worry too much about sampling the correct index at first; we're gonna use the entire data after the pipeline is written anyways."
   ]
  },
  {
   "cell_type": "code",
   "execution_count": 13,
   "metadata": {},
   "outputs": [
    {
     "data": {
      "text/html": [
       "<div>\n",
       "<style scoped>\n",
       "    .dataframe tbody tr th:only-of-type {\n",
       "        vertical-align: middle;\n",
       "    }\n",
       "\n",
       "    .dataframe tbody tr th {\n",
       "        vertical-align: top;\n",
       "    }\n",
       "\n",
       "    .dataframe thead th {\n",
       "        text-align: right;\n",
       "    }\n",
       "</style>\n",
       "<table border=\"1\" class=\"dataframe\">\n",
       "  <thead>\n",
       "    <tr style=\"text-align: right;\">\n",
       "      <th></th>\n",
       "      <th>energy</th>\n",
       "      <th>composition</th>\n",
       "      <th>correction</th>\n",
       "      <th>parameters</th>\n",
       "      <th>structure</th>\n",
       "      <th>material_id</th>\n",
       "    </tr>\n",
       "  </thead>\n",
       "  <tbody>\n",
       "    <tr>\n",
       "      <th>0</th>\n",
       "      <td>-61.336153</td>\n",
       "      <td>{'O': 5.0, 'Na': 1.0, 'Bi': 1.0, 'B': 2.0}</td>\n",
       "      <td>0.0</td>\n",
       "      <td>{'potcar_symbols': ['PAW_PBE Na_pv 05Jan2001',...</td>\n",
       "      <td>[[1.71238096 1.02567987 3.29744478] Na, [1.270...</td>\n",
       "      <td>wbm-1-4374</td>\n",
       "    </tr>\n",
       "    <tr>\n",
       "      <th>1</th>\n",
       "      <td>-87.844284</td>\n",
       "      <td>{'Ba': 2.0, 'O': 6.0, 'B': 2.0, 'Eu': 1.0}</td>\n",
       "      <td>0.0</td>\n",
       "      <td>{'potcar_symbols': ['PAW_PBE Eu 08Apr2002', 'P...</td>\n",
       "      <td>[[-8.91300683e-05  3.43426255e+00  6.10967762e...</td>\n",
       "      <td>wbm-1-4375</td>\n",
       "    </tr>\n",
       "    <tr>\n",
       "      <th>2</th>\n",
       "      <td>-80.455899</td>\n",
       "      <td>{'Ba': 2.0, 'O': 6.0, 'B': 2.0, 'Yb': 1.0}</td>\n",
       "      <td>0.0</td>\n",
       "      <td>{'potcar_symbols': ['PAW_PBE B 06Sep2000', 'PA...</td>\n",
       "      <td>[[-2.74103904  1.88398374  4.42993739] B, [2.7...</td>\n",
       "      <td>wbm-1-4376</td>\n",
       "    </tr>\n",
       "    <tr>\n",
       "      <th>3</th>\n",
       "      <td>-79.000502</td>\n",
       "      <td>{'Ba': 3.0, 'O': 6.0, 'B': 2.0}</td>\n",
       "      <td>0.0</td>\n",
       "      <td>{'potcar_symbols': ['PAW_PBE B 06Sep2000', 'PA...</td>\n",
       "      <td>[[-2.74266703  2.05258232  4.87025798] B, [2.7...</td>\n",
       "      <td>wbm-1-4377</td>\n",
       "    </tr>\n",
       "    <tr>\n",
       "      <th>4</th>\n",
       "      <td>-84.876555</td>\n",
       "      <td>{'Hf': 1.0, 'Ba': 1.0, 'B': 2.0, 'O': 6.0}</td>\n",
       "      <td>0.0</td>\n",
       "      <td>{'potcar_symbols': ['PAW_PBE B 06Sep2000', 'PA...</td>\n",
       "      <td>[[2.59805358 1.49998554 1.65859481] B, [7.7941...</td>\n",
       "      <td>wbm-1-4378</td>\n",
       "    </tr>\n",
       "  </tbody>\n",
       "</table>\n",
       "</div>"
      ],
      "text/plain": [
       "      energy                                 composition  correction  \\\n",
       "0 -61.336153  {'O': 5.0, 'Na': 1.0, 'Bi': 1.0, 'B': 2.0}         0.0   \n",
       "1 -87.844284  {'Ba': 2.0, 'O': 6.0, 'B': 2.0, 'Eu': 1.0}         0.0   \n",
       "2 -80.455899  {'Ba': 2.0, 'O': 6.0, 'B': 2.0, 'Yb': 1.0}         0.0   \n",
       "3 -79.000502             {'Ba': 3.0, 'O': 6.0, 'B': 2.0}         0.0   \n",
       "4 -84.876555  {'Hf': 1.0, 'Ba': 1.0, 'B': 2.0, 'O': 6.0}         0.0   \n",
       "\n",
       "                                          parameters  \\\n",
       "0  {'potcar_symbols': ['PAW_PBE Na_pv 05Jan2001',...   \n",
       "1  {'potcar_symbols': ['PAW_PBE Eu 08Apr2002', 'P...   \n",
       "2  {'potcar_symbols': ['PAW_PBE B 06Sep2000', 'PA...   \n",
       "3  {'potcar_symbols': ['PAW_PBE B 06Sep2000', 'PA...   \n",
       "4  {'potcar_symbols': ['PAW_PBE B 06Sep2000', 'PA...   \n",
       "\n",
       "                                           structure material_id  \n",
       "0  [[1.71238096 1.02567987 3.29744478] Na, [1.270...  wbm-1-4374  \n",
       "1  [[-8.91300683e-05  3.43426255e+00  6.10967762e...  wbm-1-4375  \n",
       "2  [[-2.74103904  1.88398374  4.42993739] B, [2.7...  wbm-1-4376  \n",
       "3  [[-2.74266703  2.05258232  4.87025798] B, [2.7...  wbm-1-4377  \n",
       "4  [[2.59805358 1.49998554 1.65859481] B, [7.7941...  wbm-1-4378  "
      ]
     },
     "execution_count": 13,
     "metadata": {},
     "output_type": "execute_result"
    }
   ],
   "source": [
    "df.head()"
   ]
  },
  {
   "cell_type": "code",
   "execution_count": 20,
   "metadata": {},
   "outputs": [],
   "source": [
    "save_dir = \"../../predict_target/label_alignn_format/poscars_for_synth_prediction/wbm_oxides\"\n",
    "os.makedirs(save_dir, exist_ok=True)"
   ]
  },
  {
   "cell_type": "code",
   "execution_count": 29,
   "metadata": {},
   "outputs": [],
   "source": [
    "# writing poscars into save_dir for prediction\n",
    "for i, row in df.iterrows():\n",
    "    crystal = row['structure']\n",
    "    filename = f\"POSCAR-{row['material_id']}.vasp\"\n",
    "    filepath = os.path.join(save_dir, filename)\n",
    "    crystal.to(filename=filepath, fmt='poscar')\n",
    "    # break"
   ]
  },
  {
   "cell_type": "code",
   "execution_count": 32,
   "metadata": {},
   "outputs": [
    {
     "name": "stdout",
     "output_type": "stream",
     "text": [
      "Number of files in ../../predict_target/label_alignn_format/poscars_for_synth_prediction/wbm_oxides: 14094\n"
     ]
    }
   ],
   "source": [
    "file_count = len(os.listdir(save_dir))\n",
    "print(f\"Number of files in {save_dir}: {file_count}\")"
   ]
  },
  {
   "cell_type": "code",
   "execution_count": null,
   "metadata": {},
   "outputs": [],
   "source": []
  },
  {
   "cell_type": "code",
   "execution_count": null,
   "metadata": {},
   "outputs": [],
   "source": []
  }
 ],
 "metadata": {
  "kernelspec": {
   "display_name": "Python 3",
   "language": "python",
   "name": "python3"
  },
  "language_info": {
   "codemirror_mode": {
    "name": "ipython",
    "version": 3
   },
   "file_extension": ".py",
   "mimetype": "text/x-python",
   "name": "python",
   "nbconvert_exporter": "python",
   "pygments_lexer": "ipython3",
   "version": "3.10.8"
  }
 },
 "nbformat": 4,
 "nbformat_minor": 2
}
