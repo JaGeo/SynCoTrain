{
 "cells": [
  {
   "cell_type": "code",
   "execution_count": 26,
   "metadata": {},
   "outputs": [],
   "source": [
    "### This script loads lightStructureEnv, calculates StructureConn, and saves SC instead of LSE under the same file names.\n",
    "\n",
    "# This supresses warnings.\n",
    "import warnings\n",
    "warnings.filterwarnings('ignore')\n",
    "\n",
    "import numpy as np\n",
    "import sys\n",
    "import matplotlib.pyplot as plt\n",
    "import pandas as pd\n",
    "from pymatgen.analysis.bond_valence import BVAnalyzer\n",
    "from pymatgen.symmetry.analyzer import SpacegroupAnalyzer\n",
    "import pickle\n",
    "\n",
    "from pymatgen.util.coord import get_angle\n",
    "from pymatgen.analysis.chemenv.coordination_environments.chemenv_strategies import SimplestChemenvStrategy\n",
    "from pymatgen.analysis.chemenv.coordination_environments.coordination_geometry_finder import LocalGeometryFinder\n",
    "from pymatgen.analysis.chemenv.coordination_environments.structure_environments import LightStructureEnvironments\n",
    "from pymatgen.ext.matproj import MPRester\n",
    "from pymatgen.analysis.chemenv.utils.defs_utils import AdditionalConditions\n",
    "from pymatgen.analysis.chemenv.connectivity.connectivity_finder import ConnectivityFinder\n",
    "\n",
    "\n",
    "# import multiprocessing\n",
    "# from joblib import Parallel, delayed  #cant't install joblib. Needs to update anaconda, which I'm not athorized to do.\n",
    "import logging\n",
    "import os"
   ]
  },
  {
   "cell_type": "code",
   "execution_count": 19,
   "metadata": {},
   "outputs": [],
   "source": [
    "data_chunk_list = [file for file in os.listdir('data') if file.startswith(\"coordata_\")]"
   ]
  },
  {
   "cell_type": "code",
   "execution_count": 24,
   "metadata": {},
   "outputs": [
    {
     "ename": "NameError",
     "evalue": "name 'ConnectivityFinder' is not defined",
     "output_type": "error",
     "traceback": [
      "\u001b[0;31m---------------------------------------------------------------------------\u001b[0m",
      "\u001b[0;31mNameError\u001b[0m                                 Traceback (most recent call last)",
      "\u001b[0;32m<ipython-input-24-a740079447c6>\u001b[0m in \u001b[0;36m<module>\u001b[0;34m\u001b[0m\n\u001b[1;32m      2\u001b[0m     \u001b[0mlse_data\u001b[0m \u001b[0;34m=\u001b[0m \u001b[0mnp\u001b[0m\u001b[0;34m.\u001b[0m\u001b[0mload\u001b[0m\u001b[0;34m(\u001b[0m\u001b[0;34m'data/'\u001b[0m\u001b[0;34m+\u001b[0m\u001b[0mchunk\u001b[0m\u001b[0;34m,\u001b[0m\u001b[0mallow_pickle\u001b[0m\u001b[0;34m=\u001b[0m\u001b[0;32mTrue\u001b[0m\u001b[0;34m)\u001b[0m\u001b[0;34m\u001b[0m\u001b[0;34m\u001b[0m\u001b[0m\n\u001b[1;32m      3\u001b[0m     \u001b[0mres\u001b[0m\u001b[0;34m=\u001b[0m \u001b[0;34m[\u001b[0m\u001b[0;34m]\u001b[0m\u001b[0;34m\u001b[0m\u001b[0;34m\u001b[0m\u001b[0m\n\u001b[0;32m----> 4\u001b[0;31m     \u001b[0mcf\u001b[0m\u001b[0;34m=\u001b[0m \u001b[0mConnectivityFinder\u001b[0m\u001b[0;34m(\u001b[0m\u001b[0;34m)\u001b[0m\u001b[0;34m\u001b[0m\u001b[0;34m\u001b[0m\u001b[0m\n\u001b[0m\u001b[1;32m      5\u001b[0m     \u001b[0;32mbreak\u001b[0m\u001b[0;34m\u001b[0m\u001b[0;34m\u001b[0m\u001b[0m\n\u001b[1;32m      6\u001b[0m     \u001b[0;32mfor\u001b[0m \u001b[0mdatum\u001b[0m \u001b[0;32min\u001b[0m \u001b[0mlse_data\u001b[0m\u001b[0;34m:\u001b[0m\u001b[0;34m\u001b[0m\u001b[0;34m\u001b[0m\u001b[0m\n",
      "\u001b[0;31mNameError\u001b[0m: name 'ConnectivityFinder' is not defined"
     ]
    }
   ],
   "source": [
    "for chunk in data_chunk_list:\n",
    "    lse_data = np.load('data/'+chunk,allow_pickle=True)\n",
    "    cf= ConnectivityFinder()\n",
    "    print('Calculating Structure Connectivity for ', chunk)\n",
    "    for datum in lse_data:\n",
    "        try:\n",
    "            lse = datum['lightStructureEnv']\n",
    "        except:\n",
    "            continue\n",
    "        sc=cf.get_structure_connectivity(light_structure_environments=lse)\n",
    "        del datum['lightStructureEnv'] #this structure currently exists under the StructureConnectivity object, no need to keep 2 copies.\n",
    "        datum['StructureConn'] = sc\n",
    "\n",
    "    np.save(chunk, lse_data)\n",
    "\n",
    "\n"
   ]
  }
 ],
 "metadata": {
  "interpreter": {
   "hash": "d881fe04b8036d0b8b9635f133a2307ff78ee33e9456056d69e2a1b2a2a638df"
  },
  "kernelspec": {
   "display_name": "Python 3.9.6 64-bit ('PMG': conda)",
   "name": "python3"
  },
  "language_info": {
   "codemirror_mode": {
    "name": "ipython",
    "version": 3
   },
   "file_extension": ".py",
   "mimetype": "text/x-python",
   "name": "python",
   "nbconvert_exporter": "python",
   "pygments_lexer": "ipython3",
   "version": "3.9.6"
  },
  "orig_nbformat": 4
 },
 "nbformat": 4,
 "nbformat_minor": 2
}
