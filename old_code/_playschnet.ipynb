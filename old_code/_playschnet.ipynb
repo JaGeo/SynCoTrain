{
 "cells": [
  {
   "cell_type": "markdown",
   "metadata": {},
   "source": [
    "First set up for using Schnet on our crystal data."
   ]
  },
  {
   "cell_type": "code",
   "execution_count": 43,
   "metadata": {},
   "outputs": [],
   "source": [
    "import os\n",
    "import sys\n",
    "import numpy as np\n",
    "import matplotlib.pyplot as plt\n",
    "import schnetpack as spk\n",
    "from schnetpack import AtomsData"
   ]
  },
  {
   "cell_type": "code",
   "execution_count": 44,
   "metadata": {},
   "outputs": [],
   "source": [
    "from pymatgen.io.ase import AseAtomsAdaptor as pase\n",
    "from sklearn.preprocessing import StandardScaler, MinMaxScaler"
   ]
  },
  {
   "cell_type": "code",
   "execution_count": 39,
   "metadata": {},
   "outputs": [
    {
     "name": "stdout",
     "output_type": "stream",
     "text": [
      "The length of Tunder15 is 2752\n"
     ]
    },
    {
     "name": "stderr",
     "output_type": "stream",
     "text": [
      "/tmp/ipykernel_14823/903673777.py:9: VisibleDeprecationWarning: Creating an ndarray from ragged nested sequences (which is a list-or-tuple of lists-or-tuples-or ndarrays with different lengths or shapes) is deprecated. If you meant to do this, you must specify 'dtype=object' when creating the ndarray.\n",
      "  TAtoms = np.array(TAtoms)\n"
     ]
    }
   ],
   "source": [
    "# # #converting data for prototype:\n",
    "# theoGoodData = np.load(\"theoretical_data/goodata.npy\", allow_pickle=True)\n",
    "# Tunder15 = [datum['structure'] for datum in theoGoodData if len(datum['structure'])<12]\n",
    "# print(\"The length of Tunder15 is\", len(Tunder15))\n",
    "# # #converting all the pymatgen structure objects to ase atom objects.\n",
    "# TAtoms = []\n",
    "# for material in Tunder15:\n",
    "#     TAtoms.append(pase.get_atoms(material))\n",
    "# TAtoms = np.array(TAtoms)\n",
    "# np.save('data_for_dev_try/TheoAtomsUnder12', TAtoms)"
   ]
  },
  {
   "cell_type": "code",
   "execution_count": 46,
   "metadata": {},
   "outputs": [
    {
     "name": "stdout",
     "output_type": "stream",
     "text": [
      "The length of Punder15 is 1170\n"
     ]
    },
    {
     "name": "stderr",
     "output_type": "stream",
     "text": [
      "/tmp/ipykernel_14823/2208740611.py:9: VisibleDeprecationWarning: Creating an ndarray from ragged nested sequences (which is a list-or-tuple of lists-or-tuples-or ndarrays with different lengths or shapes) is deprecated. If you meant to do this, you must specify 'dtype=object' when creating the ndarray.\n",
      "  PAtoms = np.array(PAtoms)\n"
     ]
    }
   ],
   "source": [
    "# # #converting data for prototype:\n",
    "# posGoodData = np.load(\"positive_data/goodata.npy\", allow_pickle=True)\n",
    "# Punder15 = [datum['structure'] for datum in posGoodData if len(datum['structure'])<12]\n",
    "# print(\"The length of Punder15 is\", len(Punder15))\n",
    "# # #converting all the pymatgen structure objects to ase atom objects.\n",
    "# PAtoms = []\n",
    "# for material in Punder15:\n",
    "#     PAtoms.append(pase.get_atoms(material))\n",
    "# PAtoms = np.array(PAtoms)\n",
    "# np.save('data_for_dev_try/PosAtomsUnder12', PAtoms)"
   ]
  },
  {
   "cell_type": "code",
   "execution_count": 54,
   "metadata": {},
   "outputs": [],
   "source": [
    "t = np.load(\"tmpData/theoSmallData.npy\", allow_pickle=True)\n",
    "tt = np.load(\"tmpData/theoSmallTestData.npy\", allow_pickle=True)"
   ]
  },
  {
   "cell_type": "code",
   "execution_count": 55,
   "metadata": {},
   "outputs": [],
   "source": [
    "p = np.load(\"tmpData/posSmallData.npy\", allow_pickle=True)\n",
    "pp = np.load(\"tmpData/posSmallTestData.npy\", allow_pickle=True)"
   ]
  },
  {
   "cell_type": "code",
   "execution_count": 57,
   "metadata": {},
   "outputs": [
    {
     "data": {
      "text/plain": [
       "400"
      ]
     },
     "execution_count": 57,
     "metadata": {},
     "output_type": "execute_result"
    }
   ],
   "source": [
    "len(tt)"
   ]
  },
  {
   "cell_type": "code",
   "execution_count": null,
   "metadata": {},
   "outputs": [],
   "source": []
  },
  {
   "cell_type": "code",
   "execution_count": null,
   "metadata": {},
   "outputs": [],
   "source": []
  },
  {
   "cell_type": "code",
   "execution_count": null,
   "metadata": {},
   "outputs": [],
   "source": []
  },
  {
   "cell_type": "code",
   "execution_count": 41,
   "metadata": {},
   "outputs": [
    {
     "data": {
      "text/plain": [
       "1170"
      ]
     },
     "execution_count": 41,
     "metadata": {},
     "output_type": "execute_result"
    }
   ],
   "source": [
    "len(PAtoms)"
   ]
  },
  {
   "cell_type": "code",
   "execution_count": 3,
   "metadata": {},
   "outputs": [],
   "source": [
    "# Here we \"good\" data which has been filtered for undesired crystals, but not yet featurized.\n",
    "testdata = np.load(\"positive_data/goodata.npy\", allow_pickle=True)"
   ]
  },
  {
   "cell_type": "code",
   "execution_count": 4,
   "metadata": {},
   "outputs": [
    {
     "data": {
      "text/plain": [
       "((10105,), 80952)"
      ]
     },
     "execution_count": 4,
     "metadata": {},
     "output_type": "execute_result"
    }
   ],
   "source": [
    "testdata.shape, sys.getsizeof(testdata)"
   ]
  },
  {
   "cell_type": "code",
   "execution_count": 5,
   "metadata": {},
   "outputs": [],
   "source": [
    "strucLenList = [len(datum['structure']) for datum in testdata]"
   ]
  },
  {
   "cell_type": "code",
   "execution_count": 6,
   "metadata": {},
   "outputs": [
    {
     "data": {
      "image/png": "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",
      "text/plain": [
       "<Figure size 432x288 with 1 Axes>"
      ]
     },
     "metadata": {
      "needs_background": "light"
     },
     "output_type": "display_data"
    }
   ],
   "source": [
    "plt.hist(strucLenList, bins=100);"
   ]
  },
  {
   "cell_type": "code",
   "execution_count": 7,
   "metadata": {},
   "outputs": [],
   "source": [
    "# numAtoms = np.array(strucLenList)\n",
    "# numAtoms.sort()\n",
    "# numAtoms = numAtoms[:int(.7*len(strucLenList))]\n",
    "# sizeLim = numAtoms[-1]\n",
    "# del strucLenList\n",
    "# del numAtoms"
   ]
  },
  {
   "cell_type": "code",
   "execution_count": 8,
   "metadata": {},
   "outputs": [],
   "source": [
    "dataList = [datum for datum in testdata if len(datum['structure'])<40]"
   ]
  },
  {
   "cell_type": "code",
   "execution_count": 9,
   "metadata": {},
   "outputs": [],
   "source": [
    "testdata = np.array(dataList)\n",
    "# this was done to remove larger structures out of the training sample to \n",
    "# check whether the zero padding was responsible for memory overflow."
   ]
  },
  {
   "cell_type": "code",
   "execution_count": 10,
   "metadata": {},
   "outputs": [],
   "source": [
    "del dataList"
   ]
  },
  {
   "cell_type": "code",
   "execution_count": 11,
   "metadata": {},
   "outputs": [],
   "source": [
    "# we just keep the first 1000 data points for speed testing. Even this took a while.\n",
    "# testdata = testdata[:1000]"
   ]
  },
  {
   "cell_type": "code",
   "execution_count": 12,
   "metadata": {},
   "outputs": [
    {
     "name": "stdout",
     "output_type": "stream",
     "text": [
      "Atoms(symbols='Ba2O2', pbc=True, cell=[[1.924676, -3.333636, 0.0], [1.924676, 3.333636, 0.0], [0.0, 0.0, 6.695042]], initial_magmoms=...)\n"
     ]
    }
   ],
   "source": [
    "# just an example of a pymatgen structure converted to ase atom object.\n",
    "newAtom = pase.get_atoms(testdata[0]['structure'])\n",
    "print(newAtom)"
   ]
  },
  {
   "cell_type": "code",
   "execution_count": 13,
   "metadata": {},
   "outputs": [
    {
     "name": "stderr",
     "output_type": "stream",
     "text": [
      "/tmp/ipykernel_28671/2574726218.py:5: VisibleDeprecationWarning: Creating an ndarray from ragged nested sequences (which is a list-or-tuple of lists-or-tuples-or ndarrays with different lengths or shapes) is deprecated. If you meant to do this, you must specify 'dtype=object' when creating the ndarray.\n",
      "  newAtoms = np.array(newAtoms)\n"
     ]
    }
   ],
   "source": [
    "# converting all the pymatgen structure objects to ase atom objects.\n",
    "newAtoms = []\n",
    "for material in testdata:\n",
    "    newAtoms.append(pase.get_atoms(material['structure']))\n",
    "newAtoms = np.array(newAtoms)"
   ]
  },
  {
   "cell_type": "code",
   "execution_count": 14,
   "metadata": {},
   "outputs": [],
   "source": [
    "temptestfepa = [np.array(crystal[\"formation_energy_per_atom\"], dtype=np.float32).flatten() for crystal in testdata]\n",
    "# we need the array shape to be (1,) instead of (). So we need .flatten() or reshape() or similar.\n",
    "# gpu works better with float32 data type."
   ]
  },
  {
   "cell_type": "code",
   "execution_count": 15,
   "metadata": {},
   "outputs": [
    {
     "data": {
      "image/png": "iVBORw0KGgoAAAANSUhEUgAAAXcAAAD4CAYAAAAXUaZHAAAAOXRFWHRTb2Z0d2FyZQBNYXRwbG90bGliIHZlcnNpb24zLjQuMywgaHR0cHM6Ly9tYXRwbG90bGliLm9yZy/MnkTPAAAACXBIWXMAAAsTAAALEwEAmpwYAAASmklEQVR4nO3dcYxV6X3e8e8T1l7HdiLvdgdKgC1UQm5YN163I+rUUttknSzJWmZbiQpHSVCDRP8gjV2lSiCWalUVElUqt5HabYVsN0ixTahjC+SVYlMay6rkLJ5db+IFliw1GxhDYOI2cRJXpJBf/5hDehfuMGeYuXOZd78fCZ1z3vueO88g9MzhzDnnpqqQJLXlu8YdQJK09Cx3SWqQ5S5JDbLcJalBlrskNeiBcQcAeOSRR2rjxo3jjiFJK8rzzz//h1U1Mey1+6LcN27cyNTU1LhjSNKKkuT353rN0zKS1CDLXZIaZLlLUoN6lXuSf57kdJKXknw6yZuSPJzkRJJXuuVDA/P3Jzmf5FySJ0cXX5I0zLzlnmQd8HPAZFW9A1gF7AT2ASerajNwstsmyZbu9ceAbcAzSVaNJr4kaZi+p2UeAL47yQPAm4HLwHbgcPf6YeDpbn07cKSqrlfVBeA8sHXJEkuS5jVvuVfVN4F/C1wErgB/XFVfBNZU1ZVuzhVgdbfLOuDSwFtMd2OvkWRPkqkkUzMzM4v7LiRJr9HntMxDzB6NbwK+D3hLkp+82y5Dxu54rnBVHaqqyaqanJgYeg2+JOke9Tkt817gQlXNVNX/BT4L/F3gapK1AN3yWjd/GtgwsP96Zk/jSJKWSZ87VC8C707yZuD/AE8AU8CfAbuAg93yWDf/OPCpJB9l9kh/M3BqiXNriW3c92yvea8efGrESSQthXnLvaqeS/IZ4AXgBvA14BDwVuBokt3M/gDY0c0/neQocKabv7eqbo4ovyRpiF7PlqmqjwAfuW34OrNH8cPmHwAOLC6aJOleeYeqJDXIcpekBlnuktQgy12SGmS5S1KDLHdJapDlLkkNstwlqUGWuyQ1yHKXpAZZ7pLUIMtdkhpkuUtSgyx3SWqQ5S5JDer1PHetXH0/YUlSWzxyl6QGzVvuSd6e5MWBP99O8qEkDyc5keSVbvnQwD77k5xPci7Jk6P9FiRJt5u33KvqXFU9XlWPA38b+A7wOWAfcLKqNgMnu22SbAF2Ao8B24BnkqwaTXxJ0jALPS3zBPA/q+r3ge3A4W78MPB0t74dOFJV16vqAnAe2LoEWSVJPS203HcCn+7W11TVFYBuubobXwdcGthnuht7jSR7kkwlmZqZmVlgDEnS3fQu9yRvBN4P/Nf5pg4ZqzsGqg5V1WRVTU5MTPSNIUnqYSGXQv4Y8EJVXe22ryZZW1VXkqwFrnXj08CGgf3WA5cXH1W3eHmjpPks5LTMB/j/p2QAjgO7uvVdwLGB8Z1JHkyyCdgMnFpsUElSf72O3JO8GfgR4J8ODB8EjibZDVwEdgBU1ekkR4EzwA1gb1XdXNLUkqS76lXuVfUd4K/cNvYtZq+eGTb/AHBg0ekkSffEO1QlqUGWuyQ1yHKXpAZZ7pLUIMtdkhpkuUtSgyx3SWqQ5S5JDbLcJalBlrskNchyl6QGWe6S1CDLXZIaZLlLUoMW8klMUu9PgXr14FMjTiLpbjxyl6QGWe6S1KBe5Z7kbUk+k+TlJGeT/GCSh5OcSPJKt3xoYP7+JOeTnEvy5OjiS5KG6Xvk/ivAb1bV3wDeCZwF9gEnq2ozcLLbJskWYCfwGLANeCbJqqUOLkma27zlnuR7gb8HfBygqv68qv4I2A4c7qYdBp7u1rcDR6rqelVdAM4DW5c2tiTpbvocuf91YAb4L0m+luRjSd4CrKmqKwDdcnU3fx1waWD/6W7sNZLsSTKVZGpmZmZR34Qk6bX6lPsDwN8C/lNVvQv4M7pTMHPIkLG6Y6DqUFVNVtXkxMREr7CSpH76lPs0MF1Vz3Xbn2G27K8mWQvQLa8NzN8wsP964PLSxJUk9TFvuVfVHwCXkry9G3oCOAMcB3Z1Y7uAY936cWBnkgeTbAI2A6eWNLUk6a763qH6z4BPJnkj8A3gnzD7g+Fokt3ARWAHQFWdTnKU2R8AN4C9VXVzyZNLkubUq9yr6kVgcshLT8wx/wBw4N5jSZIWw2fL3Ef6PrdFkubj4wckqUGWuyQ1yHKXpAZZ7pLUIMtdkhrk1TIaCT+xSRovj9wlqUGWuyQ1yHKXpAZZ7pLUIMtdkhpkuUtSgyx3SWqQ5S5JDbLcJalB3qGqsfJOVmk0eh25J3k1ydeTvJhkqht7OMmJJK90y4cG5u9Pcj7JuSRPjiq8JGm4hZyW+aGqeryqbn3c3j7gZFVtBk522yTZAuwEHgO2Ac8kWbWEmSVJ81jMOfftwOFu/TDw9MD4kaq6XlUXgPPA1kV8HUnSAvUt9wK+mOT5JHu6sTVVdQWgW67uxtcBlwb2ne7GJEnLpO8vVN9TVZeTrAZOJHn5LnMzZKzumDT7Q2IPwKOPPtozhiSpj15H7lV1uVteAz7H7GmWq0nWAnTLa930aWDDwO7rgctD3vNQVU1W1eTExMS9fweSpDvMW+5J3pLke26tAz8KvAQcB3Z103YBx7r148DOJA8m2QRsBk4tdXBJ0tz6nJZZA3wuya35n6qq30zyVeBokt3ARWAHQFWdTnIUOAPcAPZW1c2RpJckDTVvuVfVN4B3Dhn/FvDEHPscAA4sOp0k6Z74+AFJapDlLkkNstwlqUGWuyQ1yHKXpAZZ7pLUIMtdkhpkuUtSgyx3SWqQ5S5JDbLcJalBlrskNchyl6QGWe6S1CDLXZIaZLlLUoMsd0lqkOUuSQ3qXe5JViX5WpLPd9sPJzmR5JVu+dDA3P1Jzic5l+TJUQSXJM1tIUfuHwTODmzvA05W1WbgZLdNki3ATuAxYBvwTJJVSxNXktRHr3JPsh54CvjYwPB24HC3fhh4emD8SFVdr6oLwHlg65KklST10vfI/d8DvwD8xcDYmqq6AtAtV3fj64BLA/Omu7HXSLInyVSSqZmZmYXmliTdxbzlnuR9wLWqer7ne2bIWN0xUHWoqiaranJiYqLnW0uS+nigx5z3AO9P8uPAm4DvTfJrwNUka6vqSpK1wLVu/jSwYWD/9cDlpQwtSbq7eY/cq2p/Va2vqo3M/qL0v1fVTwLHgV3dtF3AsW79OLAzyYNJNgGbgVNLnlySNKc+R+5zOQgcTbIbuAjsAKiq00mOAmeAG8Deqrq56KQr2MZ9z447gqTXmQWVe1V9CfhSt/4t4Ik55h0ADiwymyTpHnmHqiQ1aDGnZaRl0/fU1qsHnxpxEmll8MhdkhpkuUtSgyx3SWqQ5S5JDbLcJalBlrskNchyl6QGWe6S1CDLXZIaZLlLUoMsd0lqkOUuSQ2y3CWpQZa7JDXIcpekBs1b7knelORUkt9JcjrJv+rGH05yIskr3fKhgX32Jzmf5FySJ0f5DUiS7tTnyP068MNV9U7gcWBbkncD+4CTVbUZONltk2QLsx+k/RiwDXgmyaoRZJckzWHecq9Zf9ptvqH7U8B24HA3fhh4ulvfDhypqutVdQE4D2xdytCSpLvrdc49yaokLwLXgBNV9RywpqquAHTL1d30dcClgd2nu7Hb33NPkqkkUzMzM4v4FiRJt+tV7lV1s6oeB9YDW5O84y7TM+wthrznoaqarKrJiYmJXmElSf0s6GqZqvoj4EvMnku/mmQtQLe81k2bBjYM7LYeuLzYoJKk/vpcLTOR5G3d+ncD7wVeBo4Du7ppu4Bj3fpxYGeSB5NsAjYDp5Y4tyTpLh7oMWctcLi74uW7gKNV9fkkXwGOJtkNXAR2AFTV6SRHgTPADWBvVd0cTXxJ0jCpuuN0+LKbnJysqampcccYmY37nh13BA3x6sGnxh1BWpQkz1fV5LDXvENVkhpkuUtSgyx3SWqQ5S5JDbLcJalBlrskNchyl6QGWe6S1CDLXZIaZLlLUoMsd0lqUJ8Hh2kOPjNG0v3KI3dJapDlLkkNstwlqUGWuyQ1yHKXpAb1+QzVDUl+K8nZJKeTfLAbfzjJiSSvdMuHBvbZn+R8knNJnhzlNyBJulOfI/cbwM9X1fcD7wb2JtkC7ANOVtVm4GS3TffaTuAxYBvwTPf5q5KkZTJvuVfVlap6oVv/E+AssA7YDhzuph0Gnu7WtwNHqup6VV0AzgNblzi3JOkuFnQTU5KNwLuA54A1VXUFZn8AJFndTVsH/PbAbtPd2O3vtQfYA/Doo48uOLi0WH1vQvODtLUS9f6FapK3Ar8BfKiqvn23qUPG6o6BqkNVNVlVkxMTE31jSJJ66FXuSd7AbLF/sqo+2w1fTbK2e30tcK0bnwY2DOy+Hri8NHElSX30uVomwMeBs1X10YGXjgO7uvVdwLGB8Z1JHkyyCdgMnFq6yJKk+fQ55/4e4KeAryd5sRv7JeAgcDTJbuAisAOgqk4nOQqcYfZKm71VdXOpg0uS5jZvuVfV/2D4eXSAJ+bY5wBwYBG5JEmL4B2qktQgy12SGmS5S1KDLHdJapDlLkkNstwlqUGWuyQ1yHKXpAZZ7pLUIMtdkhpkuUtSgyx3SWqQ5S5JDbLcJalBlrskNchyl6QGWe6S1KB5P4kpySeA9wHXquod3djDwK8DG4FXgX9cVf+7e20/sBu4CfxcVX1hJMlHaOO+Z8cdQZIWpc+R+68C224b2wecrKrNwMlumyRbgJ3AY90+zyRZtWRpJUm99PkM1S8n2Xjb8HbgH3Trh4EvAb/YjR+pquvAhSTnga3AV5Yor7Ts+v5P7tWDT404idTfvZ5zX1NVVwC65epufB1waWDedDcmSVpGS/0L1QwZq6ETkz1JppJMzczMLHEMSXp9u9dyv5pkLUC3vNaNTwMbBuatBy4Pe4OqOlRVk1U1OTExcY8xJEnD3Gu5Hwd2deu7gGMD4zuTPJhkE7AZOLW4iJKkhepzKeSnmf3l6SNJpoGPAAeBo0l2AxeBHQBVdTrJUeAMcAPYW1U3R5RdkjSHPlfLfGCOl56YY/4B4MBiQkmSFsc7VCWpQZa7JDXIcpekBlnuktQgy12SGmS5S1KDLHdJatC817lL6senR+p+4pG7JDXIcpekBlnuktQgy12SGmS5S1KDLHdJapDlLkkNel1d5973OmRplLweXsvhdVXu0kriDwEthqdlJKlBIztyT7IN+BVgFfCxqjo4qq8lvZ55hK9hRlLuSVYB/xH4EWAa+GqS41V1ZhRfT9LSWurfT/mDZfmN6sh9K3C+qr4BkOQIsB2w3KUxWQkXFPi/kKUzqnJfB1wa2J4G/s7ghCR7gD3d5p8mOTeiLH09AvzhmDMs1ErMDOZeTvdF5vybBe9y19z38H7LYRx/139trhdGVe4ZMlav2ag6BBwa0ddfsCRTVTU57hwLsRIzg7mX00rMDCsz9/2WeVRXy0wDGwa21wOXR/S1JEm3GVW5fxXYnGRTkjcCO4HjI/pakqTbjOS0TFXdSPKzwBeYvRTyE1V1ehRfawndN6eIFmAlZgZzL6eVmBlWZu77KnOqav5ZkqQVxTtUJalBlrskNchyHyLJv0hSSR4Zd5b5JPnXSX43yYtJvpjk+8adqY8kv5zk5S7755K8bdyZ5pNkR5LTSf4iyX1zydtckmxLci7J+ST7xp2njySfSHItyUvjztJXkg1JfivJ2e7fxwfHnQks9zsk2cDsYxMujjtLT79cVT9QVY8Dnwf+5Zjz9HUCeEdV/QDwe8D+Mefp4yXgHwFfHneQ+Qw8AuTHgC3AB5JsGW+qXn4V2DbuEAt0A/j5qvp+4N3A3vvh79pyv9O/A36B2266ul9V1bcHNt/Cysn9xaq60W3+NrP3QtzXqupsVY37Tuq+/vIRIFX158CtR4Dc16rqy8D/GneOhaiqK1X1Qrf+J8BZZu/SHyuf5z4gyfuBb1bV7yTDbrK9PyU5APw08MfAD405zr34GeDXxx2iMfM+AkRLL8lG4F3Ac2OO8vor9yT/DfirQ176MPBLwI8ub6L53S1zVR2rqg8DH06yH/hZ4CPLGnAO8+Xu5nyY2f/WfnI5s82lT+YVYt5HgGhpJXkr8BvAh277H/VYvO7KvareO2w8yd8ENgG3jtrXAy8k2VpVf7CMEe8wV+YhPgU8y31S7vPlTrILeB/wRN0nN1ws4O/6fucjQJZRkjcwW+yfrKrPjjsPvA7LfS5V9XVg9a3tJK8Ck1U19ifq3U2SzVX1Srf5fuDlcebpq/swl18E/n5VfWfceRr0l48AAb7J7CNAfmK8kdqU2aPBjwNnq+qj485zi79QXfkOJnkpye8ye0rpvrgMq4f/AHwPcKK7jPM/jzvQfJL8wyTTwA8Czyb5wrgzzaX7ZfWtR4CcBY6ugEeAkOTTwFeAtyeZTrJ73Jl6eA/wU8APd/+WX0zy4+MO5eMHJKlBHrlLUoMsd0lqkOUuSQ2y3CWpQZa7JDXIcpekBlnuktSg/wfLDhkyGc+FYQAAAABJRU5ErkJggg==",
      "text/plain": [
       "<Figure size 432x288 with 1 Axes>"
      ]
     },
     "metadata": {
      "needs_background": "light"
     },
     "output_type": "display_data"
    }
   ],
   "source": [
    "plt.hist(np.array(temptestfepa), bins =30);"
   ]
  },
  {
   "cell_type": "code",
   "execution_count": 16,
   "metadata": {},
   "outputs": [],
   "source": [
    "goodIndex = [i for i,fepa in enumerate(temptestfepa) if fepa<1.0]\n",
    "testfepa = [fepa for fepa in temptestfepa if fepa<1.0]\n",
    "del temptestfepa\n",
    "# removing a couple of outliers for better scaling"
   ]
  },
  {
   "cell_type": "code",
   "execution_count": 17,
   "metadata": {},
   "outputs": [
    {
     "data": {
      "image/png": "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",
      "text/plain": [
       "<Figure size 432x288 with 1 Axes>"
      ]
     },
     "metadata": {
      "needs_background": "light"
     },
     "output_type": "display_data"
    }
   ],
   "source": [
    "plt.hist(np.array(testfepa), bins=30);"
   ]
  },
  {
   "cell_type": "code",
   "execution_count": null,
   "metadata": {},
   "outputs": [],
   "source": []
  },
  {
   "cell_type": "code",
   "execution_count": 18,
   "metadata": {},
   "outputs": [],
   "source": [
    "ss = StandardScaler()\n",
    "testfepa = ss.fit_transform(testfepa).astype(np.float32)\n",
    "# for now we scale everything since it's not clear how to play with schnetpack.data.atoms.AtomsData, which is the format after the test-train split."
   ]
  },
  {
   "cell_type": "code",
   "execution_count": 19,
   "metadata": {},
   "outputs": [
    {
     "data": {
      "image/png": "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",
      "text/plain": [
       "<Figure size 432x288 with 1 Axes>"
      ]
     },
     "metadata": {
      "needs_background": "light"
     },
     "output_type": "display_data"
    }
   ],
   "source": [
    "plt.hist(np.array(testfepa), bins=30);"
   ]
  },
  {
   "cell_type": "code",
   "execution_count": 20,
   "metadata": {},
   "outputs": [],
   "source": [
    "newAtoms = newAtoms[goodIndex]"
   ]
  },
  {
   "cell_type": "code",
   "execution_count": 21,
   "metadata": {},
   "outputs": [
    {
     "data": {
      "text/plain": [
       "True"
      ]
     },
     "execution_count": 21,
     "metadata": {},
     "output_type": "execute_result"
    }
   ],
   "source": [
    "len(newAtoms) == len(testfepa)"
   ]
  },
  {
   "cell_type": "code",
   "execution_count": 22,
   "metadata": {},
   "outputs": [
    {
     "data": {
      "text/plain": [
       "Atoms(symbols='Ba2O2', pbc=True, cell=[[1.924676, -3.333636, 0.0], [1.924676, 3.333636, 0.0], [0.0, 0.0, 6.695042]], initial_magmoms=...)"
      ]
     },
     "execution_count": 22,
     "metadata": {},
     "output_type": "execute_result"
    }
   ],
   "source": [
    "newAtoms[0]"
   ]
  },
  {
   "cell_type": "code",
   "execution_count": null,
   "metadata": {},
   "outputs": [],
   "source": []
  },
  {
   "cell_type": "code",
   "execution_count": 23,
   "metadata": {},
   "outputs": [],
   "source": [
    "fepa_list = [dict(fepa=crystalFepa) for crystalFepa in testfepa]"
   ]
  },
  {
   "cell_type": "code",
   "execution_count": 24,
   "metadata": {},
   "outputs": [],
   "source": [
    "%rm './new_dataset.db'\n",
    "new_dataset = AtomsData('./new_dataset.db', available_properties=['fepa'], \n",
    "                        environment_provider= spk.environment.AseEnvironmentProvider(5))\n",
    "new_dataset.add_systems(newAtoms, fepa_list)"
   ]
  },
  {
   "cell_type": "code",
   "execution_count": 25,
   "metadata": {},
   "outputs": [],
   "source": [
    "# %rm './new_dataset.db'\n",
    "# new_dataset = AtomsData('./new_dataset.db', available_properties=['fepa'])\n",
    "# new_dataset.add_systems(newAtoms, fepa_list)"
   ]
  },
  {
   "cell_type": "code",
   "execution_count": null,
   "metadata": {},
   "outputs": [],
   "source": []
  },
  {
   "cell_type": "code",
   "execution_count": null,
   "metadata": {},
   "outputs": [],
   "source": []
  },
  {
   "cell_type": "code",
   "execution_count": 26,
   "metadata": {},
   "outputs": [
    {
     "name": "stdout",
     "output_type": "stream",
     "text": [
      "- fepa\n",
      "\n",
      "Properties of molecule with id 0:\n",
      "- fepa : torch.Size([1])\n",
      "- _atomic_numbers : torch.Size([4])\n",
      "- _positions : torch.Size([4, 3])\n",
      "- _neighbors : torch.Size([4, 24])\n",
      "- _cell : torch.Size([3, 3])\n",
      "- _cell_offset : torch.Size([4, 24, 3])\n",
      "- _idx : torch.Size([1])\n"
     ]
    }
   ],
   "source": [
    "for p in new_dataset.available_properties:\n",
    "    print('-', p)\n",
    "print()\n",
    "\n",
    "example = new_dataset[0]\n",
    "print('Properties of molecule with id 0:')\n",
    "\n",
    "for k, v in example.items():\n",
    "    print('-', k, ':', v.shape)"
   ]
  },
  {
   "cell_type": "code",
   "execution_count": 27,
   "metadata": {},
   "outputs": [
    {
     "name": "stdout",
     "output_type": "stream",
     "text": [
      "The total length of the data set is 6316\n",
      "The length of the training set is 4421\n",
      "The length of the validation set is 884\n",
      "The length of the test set is 1011\n"
     ]
    }
   ],
   "source": [
    "trainLength = round(len(new_dataset)*.7)\n",
    "valLength = round(trainLength*.2)\n",
    "\n",
    "train, val, test = spk.train_test_split(\n",
    "        data=new_dataset,\n",
    "        num_train=trainLength,\n",
    "        num_val=valLength,\n",
    "        # split_file=os.path.join(qm9tut, \"split.npz\"),\n",
    "    )\n",
    "\n",
    "print(\"The total length of the data set is\", len(new_dataset))\n",
    "print(\"The length of the training set is\", trainLength)\n",
    "print(\"The length of the validation set is\", valLength)\n",
    "print(\"The length of the test set is\", len(new_dataset)-(trainLength+valLength))"
   ]
  },
  {
   "cell_type": "code",
   "execution_count": 28,
   "metadata": {},
   "outputs": [],
   "source": [
    "train_loader = spk.AtomsLoader(train, batch_size=10, shuffle=True)\n",
    "val_loader = spk.AtomsLoader(val, batch_size=10)"
   ]
  },
  {
   "cell_type": "code",
   "execution_count": 29,
   "metadata": {},
   "outputs": [],
   "source": [
    "# here we skip the recommended atomref and means and stds from atoms. We can later add them from a different database, vasp energies or e_above_hull. \n",
    "# Here is the link:\n",
    "# https://schnetpack.readthedocs.io/en/stable/tutorials/tutorial_02_qm9.html#Dataset-statistics"
   ]
  },
  {
   "cell_type": "code",
   "execution_count": 30,
   "metadata": {},
   "outputs": [
    {
     "data": {
      "text/plain": [
       "array([-0.5241292], dtype=float32)"
      ]
     },
     "execution_count": 30,
     "metadata": {},
     "output_type": "execute_result"
    }
   ],
   "source": [
    "# current form of the data\n",
    "new_dataset.get_properties(0)[1]['fepa']"
   ]
  },
  {
   "cell_type": "code",
   "execution_count": 31,
   "metadata": {},
   "outputs": [],
   "source": [
    "# schnet = spk.representation.SchNet(\n",
    "#     n_atom_basis=30, n_filters=30, n_gaussians=20, n_interactions=5,\n",
    "#     cutoff=4., cutoff_network=spk.nn.cutoff.CosineCutoff\n",
    "# )\n",
    "schnet = spk.representation.SchNet(\n",
    "    n_atom_basis=128, n_filters=128, n_gaussians=25, n_interactions=5,\n",
    "    cutoff=4., cutoff_network=spk.nn.cutoff.CosineCutoff\n",
    ")\n",
    "# (2880x128 and 30x15)"
   ]
  },
  {
   "cell_type": "code",
   "execution_count": 32,
   "metadata": {},
   "outputs": [],
   "source": [
    "# output_U0 = spk.atomistic.Atomwise(n_in=30, property='fepa')\n",
    "output_U0 = spk.atomistic.Atomwise(n_in=128, property='fepa')\n"
   ]
  },
  {
   "cell_type": "code",
   "execution_count": 33,
   "metadata": {},
   "outputs": [],
   "source": [
    "model = spk.AtomisticModel(representation=schnet, output_modules=output_U0)"
   ]
  },
  {
   "cell_type": "code",
   "execution_count": 34,
   "metadata": {},
   "outputs": [
    {
     "data": {
      "text/plain": [
       "50"
      ]
     },
     "execution_count": 34,
     "metadata": {},
     "output_type": "execute_result"
    }
   ],
   "source": [
    "len(list(model.parameters()))\n",
    "# dir(model)"
   ]
  },
  {
   "cell_type": "code",
   "execution_count": 35,
   "metadata": {},
   "outputs": [],
   "source": [
    "# ###This is in the tutorial but it is not used (I first had the wrong variable name here but did not get an error.)\n",
    "# ###I assume they later changed to schnetpack.train.build_mse_loss() used below and forgot about this. I am keeping it just to make sure.\n",
    "\n",
    "# # loss function\n",
    "# def mse_loss(batch, result):\n",
    "#     diff = batch['fepa']-result['fepa']\n",
    "#     err_sq = torch.mean(diff ** 2)\n",
    "#     return err_sq"
   ]
  },
  {
   "cell_type": "code",
   "execution_count": 36,
   "metadata": {},
   "outputs": [],
   "source": [
    "from torch.optim import Adam\n",
    "\n",
    "# build optimizer\n",
    "optimizer = Adam(model.parameters(), lr=1e-4)"
   ]
  },
  {
   "cell_type": "code",
   "execution_count": 37,
   "metadata": {},
   "outputs": [],
   "source": [
    "qm9tut = './qm9tut'\n",
    "if not os.path.exists('qm9tut'):\n",
    "    os.makedirs(qm9tut)\n"
   ]
  },
  {
   "cell_type": "code",
   "execution_count": 38,
   "metadata": {},
   "outputs": [],
   "source": [
    "# before setting up the trainer, remove previous training checkpoints and logs\n",
    "%rm -r ./qm9tut/checkpoints\n",
    "%rm -r ./qm9tut/log.csv\n",
    "\n",
    "import schnetpack.train as trn\n",
    "\n",
    "loss = trn.build_mse_loss(['fepa'])\n",
    "\n",
    "metrics = [spk.metrics.MeanAbsoluteError('fepa')]\n",
    "hooks = [\n",
    "    trn.CSVHook(log_path=qm9tut, metrics=metrics),\n",
    "    trn.ReduceLROnPlateauHook(\n",
    "        optimizer,\n",
    "        patience=10,\n",
    "        factor=0.85,\n",
    "        stop_after_min=True\n",
    "    )\n",
    "    #     trn.ReduceLROnPlateauHook(\n",
    "    #     optimizer,\n",
    "    #     patience=5, factor=0.8, min_lr=1e-6,\n",
    "    #     stop_after_min=True\n",
    "    # )\n",
    "]\n",
    "\n",
    "trainer = trn.Trainer(\n",
    "    model_path=qm9tut,\n",
    "    model=model,\n",
    "    hooks=hooks,\n",
    "    loss_fn=loss,\n",
    "    optimizer=optimizer,\n",
    "    train_loader=train_loader,\n",
    "    validation_loader=val_loader,\n",
    ")"
   ]
  },
  {
   "cell_type": "code",
   "execution_count": 40,
   "metadata": {},
   "outputs": [],
   "source": [
    "# device = \"cpu\" # change to 'cpu' if gpu is not available\n",
    "device = \"cuda:2\" # change to 'cpu' if gpu is not available\n",
    "# original device was 'cuda'.\n",
    "n_epochs = 100 # 200 takes about 10 min on a notebook GPU. reduces for playing around (this comment was made for 200 epochs, not 20 as in here.)\n",
    "trainer.train(device=device, n_epochs=n_epochs)"
   ]
  },
  {
   "cell_type": "code",
   "execution_count": null,
   "metadata": {},
   "outputs": [],
   "source": []
  },
  {
   "cell_type": "code",
   "execution_count": null,
   "metadata": {},
   "outputs": [
    {
     "name": "stdout",
     "output_type": "stream",
     "text": [
      "Final validation MAE: 0.38 eV = 8.85 kcal/mol\n"
     ]
    },
    {
     "data": {
      "image/png": "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",
      "text/plain": [
       "<Figure size 1008x360 with 2 Axes>"
      ]
     },
     "metadata": {
      "needs_background": "light"
     },
     "output_type": "display_data"
    }
   ],
   "source": [
    "# import numpy as np\n",
    "import matplotlib.pyplot as plt\n",
    "from ase.units import kcal, mol\n",
    "\n",
    "results = np.loadtxt(os.path.join(qm9tut, 'log.csv'), skiprows=1, delimiter=',')\n",
    "\n",
    "time = results[:,0]-results[0,0]\n",
    "learning_rate = results[:,1]\n",
    "train_loss = results[:,2]\n",
    "val_loss = results[:,3]\n",
    "val_mae = results[:,4]\n",
    "\n",
    "print('Final validation MAE:', np.round(val_mae[-1], 2), 'eV =',\n",
    "      np.round(val_mae[-1] / (kcal/mol), 2), 'kcal/mol')\n",
    "\n",
    "plt.figure(figsize=(14,5))\n",
    "plt.subplot(1,2,1)\n",
    "plt.plot(time, val_loss, label='Validation')\n",
    "plt.plot(time, train_loss, label='Train')\n",
    "plt.yscale('log')\n",
    "plt.ylabel('Loss [eV]')\n",
    "plt.xlabel('Time [s]')\n",
    "plt.legend()\n",
    "plt.subplot(1,2,2)\n",
    "plt.plot(time, val_mae)\n",
    "plt.ylabel('mean abs. error [eV]')\n",
    "plt.xlabel('Time [s]')\n",
    "# plt.show()\n",
    "plt.savefig('tempfigDev.jpg')"
   ]
  },
  {
   "cell_type": "code",
   "execution_count": null,
   "metadata": {},
   "outputs": [],
   "source": []
  },
  {
   "cell_type": "code",
   "execution_count": 63,
   "metadata": {},
   "outputs": [],
   "source": [
    "import torch"
   ]
  },
  {
   "cell_type": "code",
   "execution_count": 66,
   "metadata": {},
   "outputs": [],
   "source": [
    "torch.save(model.state_dict(),\"fepaschnet\")"
   ]
  },
  {
   "cell_type": "code",
   "execution_count": 70,
   "metadata": {},
   "outputs": [],
   "source": [
    "model2 = spk.AtomisticModel(representation=schnet, output_modules=output_U0)\n"
   ]
  },
  {
   "cell_type": "code",
   "execution_count": 71,
   "metadata": {},
   "outputs": [
    {
     "data": {
      "text/plain": [
       "<All keys matched successfully>"
      ]
     },
     "execution_count": 71,
     "metadata": {},
     "output_type": "execute_result"
    }
   ],
   "source": [
    "model2.load_state_dict(torch.load('fepaschnet'))"
   ]
  },
  {
   "cell_type": "code",
   "execution_count": 75,
   "metadata": {},
   "outputs": [],
   "source": [
    "trainer2 = trn.Trainer(\n",
    "    model_path=qm9tut,\n",
    "    model=model2,\n",
    "    hooks=hooks,\n",
    "    loss_fn=loss,\n",
    "    optimizer=optimizer,\n",
    "    train_loader=train_loader,\n",
    "    validation_loader=val_loader,\n",
    ")"
   ]
  },
  {
   "cell_type": "code",
   "execution_count": 79,
   "metadata": {},
   "outputs": [
    {
     "name": "stderr",
     "output_type": "stream",
     "text": [
      "/home/samariam/anaconda3/envs/schMat/lib/python3.10/site-packages/ase/atoms.py:967: VisibleDeprecationWarning: Use get_global_number_of_atoms() instead\n",
      "  warnings.warn('Use get_global_number_of_atoms() instead',\n"
     ]
    }
   ],
   "source": [
    "# device = \"cpu\" # change to 'cpu' if gpu is not available\n",
    "device = \"cuda:3\" # change to 'cpu' if gpu is not available\n",
    "# original device was 'cuda'.\n",
    "n_epochs = 2 # 200 takes about 10 min on a notebook GPU. reduces for playing around (this comment was made for 200 epochs, not 20 as in here.)\n",
    "trainer2.train(device=device, n_epochs=n_epochs)"
   ]
  },
  {
   "cell_type": "code",
   "execution_count": 80,
   "metadata": {},
   "outputs": [
    {
     "name": "stdout",
     "output_type": "stream",
     "text": [
      "Final validation MAE: 0.35 eV = 8.0 kcal/mol\n"
     ]
    },
    {
     "data": {
      "image/png": "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",
      "text/plain": [
       "<Figure size 1008x360 with 2 Axes>"
      ]
     },
     "metadata": {
      "needs_background": "light"
     },
     "output_type": "display_data"
    }
   ],
   "source": [
    "# import numpy as np\n",
    "import matplotlib.pyplot as plt\n",
    "from ase.units import kcal, mol\n",
    "\n",
    "results = np.loadtxt(os.path.join(qm9tut, 'log.csv'), skiprows=1, delimiter=',')\n",
    "\n",
    "time = results[:,0]-results[0,0]\n",
    "learning_rate = results[:,1]\n",
    "train_loss = results[:,2]\n",
    "val_loss = results[:,3]\n",
    "val_mae = results[:,4]\n",
    "\n",
    "print('Final validation MAE:', np.round(val_mae[-1], 2), 'eV =',\n",
    "      np.round(val_mae[-1] / (kcal/mol), 2), 'kcal/mol')\n",
    "\n",
    "plt.figure(figsize=(14,5))\n",
    "plt.subplot(1,2,1)\n",
    "plt.plot(time, val_loss, label='Validation')\n",
    "plt.plot(time, train_loss, label='Train')\n",
    "plt.yscale('log')\n",
    "plt.ylabel('Loss [eV]')\n",
    "plt.xlabel('Time [s]')\n",
    "plt.legend()\n",
    "plt.subplot(1,2,2)\n",
    "plt.plot(time, val_mae)\n",
    "plt.ylabel('mean abs. error [eV]')\n",
    "plt.xlabel('Time [s]')\n",
    "# plt.show()\n",
    "plt.savefig('tempfig.jpg')"
   ]
  },
  {
   "cell_type": "code",
   "execution_count": 81,
   "metadata": {},
   "outputs": [],
   "source": [
    "torch.cuda.empty_cache()"
   ]
  },
  {
   "cell_type": "code",
   "execution_count": null,
   "metadata": {},
   "outputs": [],
   "source": []
  }
 ],
 "metadata": {
<<<<<<< HEAD
  "kernelspec": {
   "display_name": "Python 3.10.2 ('schMat')",
=======
  "interpreter": {
   "hash": "3c032b536c655ed0b8a9016c128fb8375bb51e849d76b509f3136e520a1e3dd0"
  },
  "kernelspec": {
   "display_name": "Python (schnetDev)",
>>>>>>> ad6a1638312a82879c755be18cc1360c99e7b4c9
   "language": "python",
   "name": "python3"
  },
  "language_info": {
   "codemirror_mode": {
    "name": "ipython",
    "version": 3
   },
   "file_extension": ".py",
   "mimetype": "text/x-python",
   "name": "python",
   "nbconvert_exporter": "python",
   "pygments_lexer": "ipython3",
   "version": "3.10.2"
  },
  "orig_nbformat": 4,
  "vscode": {
   "interpreter": {
    "hash": "3c032b536c655ed0b8a9016c128fb8375bb51e849d76b509f3136e520a1e3dd0"
   }
  }
 },
 "nbformat": 4,
 "nbformat_minor": 2
}
