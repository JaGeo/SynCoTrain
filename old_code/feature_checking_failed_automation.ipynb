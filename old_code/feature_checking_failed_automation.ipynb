{
 "cells": [
  {
   "cell_type": "code",
   "execution_count": 1,
   "id": "09c22339",
   "metadata": {},
   "outputs": [],
   "source": [
    "import logging\n",
    "from pymatgen.ext.matproj import MPRester\n",
    "import numpy as np"
   ]
  },
  {
   "cell_type": "code",
   "execution_count": 6,
   "id": "9624e679",
   "metadata": {},
   "outputs": [],
   "source": [
    "from pymatgen.io.cif import Structure\n",
    "\n",
    "s = Structure.from_file('../chemheuristics/gitData/testCry1.cif')"
   ]
  },
  {
   "cell_type": "code",
   "execution_count": 4,
   "id": "42153f0f",
   "metadata": {},
   "outputs": [],
   "source": [
    "from robocrys import StructureCondenser, StructureDescriber"
   ]
  },
  {
   "cell_type": "code",
   "execution_count": 2,
   "id": "9bb9d6bf",
   "metadata": {},
   "outputs": [],
   "source": [
    "# key=\"Q0tUKnAE52sy7hVO\"\n",
    "# # Get a structure from the materials project\n",
    "# a = MPRester(key)\n",
    "# struct = a.get_structure_by_material_id('mp-1143')"
   ]
  },
  {
   "cell_type": "code",
   "execution_count": 12,
   "id": "59fbf7db",
   "metadata": {},
   "outputs": [
    {
     "name": "stderr",
     "output_type": "stream",
     "text": [
      "/home/sasan/miniconda3/envs/PMG/lib/python3.9/site-packages/pymatgen/analysis/local_env.py:4137: UserWarning: No oxidation states specified on sites! For better results, set the site oxidation states in the structure.\n",
      "  warnings.warn(\n",
      "/home/sasan/miniconda3/envs/PMG/lib/python3.9/site-packages/pymatgen/analysis/local_env.py:3940: UserWarning: CrystalNN: cannot locate an appropriate radius, covalent or atomic radii will be used, this can lead to non-optimal results.\n",
      "  warnings.warn(\n"
     ]
    }
   ],
   "source": [
    "condenser = StructureCondenser()\n",
    "describer = StructureDescriber()\n",
    "\n",
    "condensed_structure = condenser.condense_structure(s)\n",
    "# description = describer.describe(condensed_structure)"
   ]
  },
  {
   "cell_type": "code",
   "execution_count": 21,
   "id": "0997b684",
   "metadata": {},
   "outputs": [],
   "source": [
    "atomIndex=0"
   ]
  },
  {
   "cell_type": "code",
   "execution_count": 98,
   "id": "1b801457",
   "metadata": {
    "scrolled": true
   },
   "outputs": [],
   "source": [
    "robocrys_nn_dists = np.unique(np.sort([round(val[0],4) for val in condensed_structure['distances'][atomIndex].values()]))"
   ]
  },
  {
   "cell_type": "code",
   "execution_count": 368,
   "id": "0a968364",
   "metadata": {},
   "outputs": [],
   "source": [
    "Nnn_distances = list(condensed_structure['nnn_distances'][atomIndex].values())\n",
    "Nnn_distances=[list(distance.values()) for distance in Nnn_distances]\n",
    "\n",
    "r = []\n",
    "for ttt in nnn_distances:\n",
    "    for tt in ttt:\n",
    "        for t in tt:\n",
    "            r.append(t)\n",
    "robocrys_Nnn_distances = np.unique(np.sort(np.round(np.array(r),4)))"
   ]
  },
  {
   "cell_type": "code",
   "execution_count": 372,
   "id": "3caa4163",
   "metadata": {},
   "outputs": [],
   "source": [
    "angles_list = list(condensed_structure['angles'][atomIndex].values())\n",
    "angles_list=[list(angles.values()) for angles in angles_list]\n",
    "\n",
    "y = []\n",
    "for ttt in angles_list:\n",
    "    for tt in ttt:\n",
    "        for t in tt:\n",
    "            y.append(t)\n",
    "robocrys_angles = np.unique(np.sort(np.round(np.array(y),4)))"
   ]
  },
  {
   "cell_type": "code",
   "execution_count": null,
   "id": "6a0cb4b4",
   "metadata": {},
   "outputs": [],
   "source": []
  },
  {
   "cell_type": "markdown",
   "id": "aa81140f",
   "metadata": {
    "scrolled": false
   },
   "source": [
    "#### ChemEnv data "
   ]
  },
  {
   "cell_type": "code",
   "execution_count": 373,
   "id": "22a31caa",
   "metadata": {},
   "outputs": [],
   "source": [
    "# !ls ../chemheuristics/gitData/"
   ]
  },
  {
   "cell_type": "code",
   "execution_count": 46,
   "id": "56da247f",
   "metadata": {},
   "outputs": [],
   "source": [
    "testCrys = np.load(\"../chemheuristics/gitData/testCrystalFeats.npy\",allow_pickle=True)"
   ]
  },
  {
   "cell_type": "code",
   "execution_count": 64,
   "id": "449e71be",
   "metadata": {},
   "outputs": [
    {
     "data": {
      "text/plain": [
       "array([2.4094, 2.4701, 2.5087, 2.5332, 2.7199, 2.7492, 2.9647, 3.0214])"
      ]
     },
     "execution_count": 64,
     "metadata": {},
     "output_type": "execute_result"
    }
   ],
   "source": [
    "chemenv_nn_dists = np.unique(np.sort([round(dist[0],4) for dist in testCrys[1]['feats'][atomIndex]['NN_distances']]))"
   ]
  },
  {
   "cell_type": "code",
   "execution_count": 104,
   "id": "54bd41ca",
   "metadata": {},
   "outputs": [],
   "source": [
    "chemenv_Nnn_dists = np.unique(np.sort([round(dist[0],4) for dist in testCrys[1]['feats'][atomIndex]['poly_distances']]))"
   ]
  },
  {
   "cell_type": "code",
   "execution_count": 268,
   "id": "fd234af7",
   "metadata": {},
   "outputs": [],
   "source": [
    "angles_list2 = testCrys[1]['feats'][atomIndex]['connectivity_angles']\n",
    "\n",
    "z = []\n",
    "for angleAtom in angles_list2:\n",
    "    for angle in angleAtom[1:]:\n",
    "        try:\n",
    "            z.append(angle[0])\n",
    "        except KeyError:\n",
    "            print('wrong data type')\n",
    "            continue\n",
    "\n",
    "chemenv_angles = np.unique(np.sort(np.round(np.array(z),4)))"
   ]
  },
  {
   "cell_type": "code",
   "execution_count": null,
   "id": "84a1bda5",
   "metadata": {},
   "outputs": [],
   "source": []
  },
  {
   "cell_type": "markdown",
   "id": "d8e9f9dc",
   "metadata": {},
   "source": [
    "### compare"
   ]
  },
  {
   "cell_type": "code",
   "execution_count": 383,
   "id": "86bed5c9",
   "metadata": {},
   "outputs": [],
   "source": [
    "def featureSummary(structure, ChemEnvFeats):\n",
    "    condenser = StructureCondenser()\n",
    "#     describer = StructureDescriber()\n",
    "    condensed_structure = condenser.condense_structure(structure)\n",
    "    for atomIndex in range(len(structure)):\n",
    "        robocrys_nn_dists = np.unique(np.sort([round(val[0],4) for val in condensed_structure['distances'][atomIndex].values()]))\n",
    "        Nnn_distances = list(condensed_structure['nnn_distances'][atomIndex].values())\n",
    "        Nnn_distances=[list(distance.values()) for distance in Nnn_distances]\n",
    "\n",
    "        r = []\n",
    "        for ttt in nnn_distances:\n",
    "            for tt in ttt:\n",
    "                for t in tt:\n",
    "                    r.append(t)\n",
    "        robocrys_Nnn_distances = np.unique(np.sort(np.round(np.array(r),4)))\n",
    "        \n",
    "        angles_list = list(condensed_structure['angles'][atomIndex].values())\n",
    "        angles_list=[list(angles.values()) for angles in angles_list]\n",
    "\n",
    "        y = []\n",
    "        for ttt in angles_list:\n",
    "            for tt in ttt:\n",
    "                for t in tt:\n",
    "                    y.append(t)\n",
    "        robocrys_angles = np.unique(np.sort(np.round(np.array(y),4)))\n",
    "        \n",
    "#         ==================================\n",
    "        \n",
    "        chemenv_nn_dists = np.unique(np.sort([round(dist[0],4) for dist in testCrys[1]['feats'][atomIndex]['NN_distances']]))\n",
    "        chemenv_Nnn_dists = np.unique(np.sort([round(dist[0],4) for dist in testCrys[1]['feats'][atomIndex]['poly_distances']]))\n",
    "        \n",
    "        angles_list2 = testCrys[1]['feats'][atomIndex]['connectivity_angles']\n",
    "\n",
    "        z = []\n",
    "        for angleAtom in angles_list2:\n",
    "            for angle in angleAtom[1:]:\n",
    "                try:\n",
    "                    z.append(angle[0])\n",
    "                except KeyError:\n",
    "                    print('wrong data type')\n",
    "                    continue\n",
    "\n",
    "        chemenv_angles = np.unique(np.sort(np.round(np.array(z),4)))\n",
    "        \n",
    "#         =================================\n",
    "        if np.all(robocrys_nn_dists == chemenv_nn_dists):\n",
    "            print('neighbor atom distances match for atom index', atomIndex)\n",
    "        if np.all(robocrys_Nnn_distances ==chemenv_Nnn_dists):\n",
    "            print('neighbor polyhedra distances match for atom index', atomIndex)\n",
    "        \n",
    "        if np.all(robocrys_angles.shape==chemenv_angles.shape):\n",
    "            if np.all(robocrys_angles==chemenv_angles):\n",
    "                print('angles match for atom index', atomIndex)\n",
    "        else:\n",
    "            if len(robocrys_angles) == len(chemenv_angles)+1:\n",
    "                for ang in range(len(robocrys_angles)):\n",
    "                    if np.all(np.delete(robocrys_angles, ang)==chemenv_angles):\n",
    "                        print('angles almost match for atom index', atomIndex, 'with a missing angle')\n",
    "\n",
    "    return                        \n",
    "\n",
    "        \n"
   ]
  },
  {
   "cell_type": "code",
   "execution_count": 384,
   "id": "d8443a5a",
   "metadata": {},
   "outputs": [
    {
     "name": "stderr",
     "output_type": "stream",
     "text": [
      "/home/sasan/miniconda3/envs/PMG/lib/python3.9/site-packages/pymatgen/analysis/local_env.py:4137: UserWarning: No oxidation states specified on sites! For better results, set the site oxidation states in the structure.\n",
      "  warnings.warn(\n",
      "/home/sasan/miniconda3/envs/PMG/lib/python3.9/site-packages/pymatgen/analysis/local_env.py:3940: UserWarning: CrystalNN: cannot locate an appropriate radius, covalent or atomic radii will be used, this can lead to non-optimal results.\n",
      "  warnings.warn(\n"
     ]
    },
    {
     "name": "stdout",
     "output_type": "stream",
     "text": [
      "wrong data type\n",
      "wrong data type\n",
      "neighbor atom distances match for atom index 0\n",
      "neighbor polyhedra distances match for atom index 0\n",
      "angles almost match for atom index 0 with a missing angle\n"
     ]
    },
    {
     "ename": "KeyError",
     "evalue": "1",
     "output_type": "error",
     "traceback": [
      "\u001b[0;31m---------------------------------------------------------------------------\u001b[0m",
      "\u001b[0;31mKeyError\u001b[0m                                  Traceback (most recent call last)",
      "\u001b[0;32m<ipython-input-384-02410a1fcdc1>\u001b[0m in \u001b[0;36m<module>\u001b[0;34m\u001b[0m\n\u001b[0;32m----> 1\u001b[0;31m \u001b[0mfeatureSummary\u001b[0m\u001b[0;34m(\u001b[0m\u001b[0ms\u001b[0m\u001b[0;34m,\u001b[0m\u001b[0mtestCrys\u001b[0m\u001b[0;34m[\u001b[0m\u001b[0;36m1\u001b[0m\u001b[0;34m]\u001b[0m\u001b[0;34m)\u001b[0m\u001b[0;34m\u001b[0m\u001b[0;34m\u001b[0m\u001b[0m\n\u001b[0m",
      "\u001b[0;32m<ipython-input-383-aeca7be415a4>\u001b[0m in \u001b[0;36mfeatureSummary\u001b[0;34m(structure, ChemEnvFeats)\u001b[0m\n\u001b[1;32m      4\u001b[0m     \u001b[0mcondensed_structure\u001b[0m \u001b[0;34m=\u001b[0m \u001b[0mcondenser\u001b[0m\u001b[0;34m.\u001b[0m\u001b[0mcondense_structure\u001b[0m\u001b[0;34m(\u001b[0m\u001b[0mstructure\u001b[0m\u001b[0;34m)\u001b[0m\u001b[0;34m\u001b[0m\u001b[0;34m\u001b[0m\u001b[0m\n\u001b[1;32m      5\u001b[0m     \u001b[0;32mfor\u001b[0m \u001b[0matomIndex\u001b[0m \u001b[0;32min\u001b[0m \u001b[0mrange\u001b[0m\u001b[0;34m(\u001b[0m\u001b[0mlen\u001b[0m\u001b[0;34m(\u001b[0m\u001b[0mstructure\u001b[0m\u001b[0;34m)\u001b[0m\u001b[0;34m)\u001b[0m\u001b[0;34m:\u001b[0m\u001b[0;34m\u001b[0m\u001b[0;34m\u001b[0m\u001b[0m\n\u001b[0;32m----> 6\u001b[0;31m         \u001b[0mrobocrys_nn_dists\u001b[0m \u001b[0;34m=\u001b[0m \u001b[0mnp\u001b[0m\u001b[0;34m.\u001b[0m\u001b[0munique\u001b[0m\u001b[0;34m(\u001b[0m\u001b[0mnp\u001b[0m\u001b[0;34m.\u001b[0m\u001b[0msort\u001b[0m\u001b[0;34m(\u001b[0m\u001b[0;34m[\u001b[0m\u001b[0mround\u001b[0m\u001b[0;34m(\u001b[0m\u001b[0mval\u001b[0m\u001b[0;34m[\u001b[0m\u001b[0;36m0\u001b[0m\u001b[0;34m]\u001b[0m\u001b[0;34m,\u001b[0m\u001b[0;36m4\u001b[0m\u001b[0;34m)\u001b[0m \u001b[0;32mfor\u001b[0m \u001b[0mval\u001b[0m \u001b[0;32min\u001b[0m \u001b[0mcondensed_structure\u001b[0m\u001b[0;34m[\u001b[0m\u001b[0;34m'distances'\u001b[0m\u001b[0;34m]\u001b[0m\u001b[0;34m[\u001b[0m\u001b[0matomIndex\u001b[0m\u001b[0;34m]\u001b[0m\u001b[0;34m.\u001b[0m\u001b[0mvalues\u001b[0m\u001b[0;34m(\u001b[0m\u001b[0;34m)\u001b[0m\u001b[0;34m]\u001b[0m\u001b[0;34m)\u001b[0m\u001b[0;34m)\u001b[0m\u001b[0;34m\u001b[0m\u001b[0;34m\u001b[0m\u001b[0m\n\u001b[0m\u001b[1;32m      7\u001b[0m         \u001b[0mNnn_distances\u001b[0m \u001b[0;34m=\u001b[0m \u001b[0mlist\u001b[0m\u001b[0;34m(\u001b[0m\u001b[0mcondensed_structure\u001b[0m\u001b[0;34m[\u001b[0m\u001b[0;34m'nnn_distances'\u001b[0m\u001b[0;34m]\u001b[0m\u001b[0;34m[\u001b[0m\u001b[0matomIndex\u001b[0m\u001b[0;34m]\u001b[0m\u001b[0;34m.\u001b[0m\u001b[0mvalues\u001b[0m\u001b[0;34m(\u001b[0m\u001b[0;34m)\u001b[0m\u001b[0;34m)\u001b[0m\u001b[0;34m\u001b[0m\u001b[0;34m\u001b[0m\u001b[0m\n\u001b[1;32m      8\u001b[0m         \u001b[0mNnn_distances\u001b[0m\u001b[0;34m=\u001b[0m\u001b[0;34m[\u001b[0m\u001b[0mlist\u001b[0m\u001b[0;34m(\u001b[0m\u001b[0mdistance\u001b[0m\u001b[0;34m.\u001b[0m\u001b[0mvalues\u001b[0m\u001b[0;34m(\u001b[0m\u001b[0;34m)\u001b[0m\u001b[0;34m)\u001b[0m \u001b[0;32mfor\u001b[0m \u001b[0mdistance\u001b[0m \u001b[0;32min\u001b[0m \u001b[0mNnn_distances\u001b[0m\u001b[0;34m]\u001b[0m\u001b[0;34m\u001b[0m\u001b[0;34m\u001b[0m\u001b[0m\n",
      "\u001b[0;31mKeyError\u001b[0m: 1"
     ]
    }
   ],
   "source": [
    "featureSummary(s,testCrys[1])"
   ]
  },
  {
   "cell_type": "code",
   "execution_count": null,
   "id": "a443a188",
   "metadata": {},
   "outputs": [],
   "source": []
  },
  {
   "cell_type": "code",
   "execution_count": 101,
   "id": "c739c15b",
   "metadata": {},
   "outputs": [
    {
     "data": {
      "text/plain": [
       "array([ True,  True,  True,  True,  True,  True,  True,  True])"
      ]
     },
     "execution_count": 101,
     "metadata": {},
     "output_type": "execute_result"
    }
   ],
   "source": [
    "robocrys_nn_dists == chemenv_nn_dists"
   ]
  },
  {
   "cell_type": "code",
   "execution_count": 371,
   "id": "1379c486",
   "metadata": {},
   "outputs": [
    {
     "data": {
      "text/plain": [
       "array([ True,  True,  True,  True,  True,  True,  True,  True,  True,\n",
       "        True,  True,  True])"
      ]
     },
     "execution_count": 371,
     "metadata": {},
     "output_type": "execute_result"
    }
   ],
   "source": [
    "robocrys_Nnn_distances ==chemenv_Nnn_dists"
   ]
  },
  {
   "cell_type": "code",
   "execution_count": 336,
   "id": "20971bb9",
   "metadata": {},
   "outputs": [
    {
     "name": "stdout",
     "output_type": "stream",
     "text": [
      "angles almost match with 1 missing value\n"
     ]
    }
   ],
   "source": [
    "if np.all(robocrys_angles.shape==chemenv_angles.shape):\n",
    "    if np.all(robocrys_angles==chemenv_angles):\n",
    "        print('angles match')\n",
    "else:\n",
    "    if len(robocrys_angles) == len(chemenv_angles)+1:\n",
    "        for ang in range(len(robocrys_angles)):\n",
    "            if np.all(np.delete(robocrys_angles, ang)==chemenv_angles):\n",
    "                print('angles almost match with 1 missing value')"
   ]
  },
  {
   "cell_type": "code",
   "execution_count": null,
   "id": "833a338b",
   "metadata": {},
   "outputs": [],
   "source": []
  }
 ],
 "metadata": {
  "kernelspec": {
   "display_name": "Python 3",
   "language": "python",
   "name": "python3"
  },
  "language_info": {
   "codemirror_mode": {
    "name": "ipython",
    "version": 3
   },
   "file_extension": ".py",
   "mimetype": "text/x-python",
   "name": "python",
   "nbconvert_exporter": "python",
   "pygments_lexer": "ipython3",
   "version": "3.9.5"
  },
  "toc": {
   "base_numbering": 1,
   "nav_menu": {},
   "number_sections": true,
   "sideBar": true,
   "skip_h1_title": false,
   "title_cell": "Table of Contents",
   "title_sidebar": "Contents",
   "toc_cell": false,
   "toc_position": {},
   "toc_section_display": true,
   "toc_window_display": false
  },
  "varInspector": {
   "cols": {
    "lenName": 16,
    "lenType": 16,
    "lenVar": 40
   },
   "kernels_config": {
    "python": {
     "delete_cmd_postfix": "",
     "delete_cmd_prefix": "del ",
     "library": "var_list.py",
     "varRefreshCmd": "print(var_dic_list())"
    },
    "r": {
     "delete_cmd_postfix": ") ",
     "delete_cmd_prefix": "rm(",
     "library": "var_list.r",
     "varRefreshCmd": "cat(var_dic_list()) "
    }
   },
   "types_to_exclude": [
    "module",
    "function",
    "builtin_function_or_method",
    "instance",
    "_Feature"
   ],
   "window_display": false
  }
 },
 "nbformat": 4,
 "nbformat_minor": 5
}
