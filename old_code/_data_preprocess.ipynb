{
 "cells": [
  {
   "cell_type": "code",
   "execution_count": 1,
   "metadata": {},
   "outputs": [],
   "source": [
    "from pymatgen.io.ase import AseAtomsAdaptor as pase\n",
    "import numpy as np"
   ]
  },
  {
   "cell_type": "code",
   "execution_count": 2,
   "metadata": {},
   "outputs": [],
   "source": [
    "theoretical_path = \"data_for_dev_try/theoretical/\"\n",
    "experimental_path = \"data_for_dev_try/experimental/\""
   ]
  },
  {
   "cell_type": "code",
   "execution_count": 3,
   "metadata": {},
   "outputs": [],
   "source": [
    "# # #converting data for prototype:\n",
    "# theoGoodData = np.load(\"data_for_dev_try/theoretical/theoreticalgoodata.npy\", allow_pickle=True)\n",
    "# # #converting data for prototype:\n",
    "# posGoodData = np.load(\"data_for_dev_try/experimental/PosAtomsUnd12arr.npy\", allow_pickle=True)\n",
    "\n",
    "Tunder12 = np.load(theoretical_path+'goodata.npy', allow_pickle=True)\n",
    "Punder12 = np.load(experimental_path+'goodata.npy', allow_pickle=True)"
   ]
  },
  {
   "cell_type": "code",
   "execution_count": 4,
   "metadata": {},
   "outputs": [
    {
     "name": "stdout",
     "output_type": "stream",
     "text": [
      "The length of Tunder12 is 2913\n",
      "The length of Punder12 is 1476\n"
     ]
    }
   ],
   "source": [
    "# ### I already queried for the desired size limit. No excess structure to throw away.\n",
    "\n",
    "# Tunder12 = [datum['structure'] for datum in theoGoodData if len(datum['structure'])<12]\n",
    "# Tunder12 = np.array([datum for datum in theoGoodData if len(datum['structure'])<12])\n",
    "print(\"The length of Tunder12 is\", len(Tunder12))\n",
    "\n",
    "# Punder12 = [datum['structure'] for datum in posGoodData if len(datum['structure'])<12]\n",
    "# Punder12 = np.array([datum for datum in posGoodData if len(datum['structure'])<12])\n",
    "print(\"The length of Punder12 is\", len(Punder12))\n"
   ]
  },
  {
   "cell_type": "code",
   "execution_count": 5,
   "metadata": {},
   "outputs": [],
   "source": [
    "# theoGoodData.shape, posGoodData.shape"
   ]
  },
  {
   "cell_type": "code",
   "execution_count": 6,
   "metadata": {},
   "outputs": [
    {
     "data": {
      "text/plain": [
       "1.9735772357723578"
      ]
     },
     "execution_count": 6,
     "metadata": {},
     "output_type": "execute_result"
    }
   ],
   "source": [
    "len(Tunder12)/ len(Punder12)"
   ]
  },
  {
   "cell_type": "code",
   "execution_count": 7,
   "metadata": {},
   "outputs": [],
   "source": [
    "entries_to_remove = ('exp.tags','icsd_ids','formula', 'pretty_formula', 'structure' )"
   ]
  },
  {
   "cell_type": "code",
   "execution_count": 8,
   "metadata": {},
   "outputs": [],
   "source": [
    "# #converting all the pymatgen structure objects to ase atom objects.\n",
    "for material in Tunder12:\n",
    "    atoms = pase.get_atoms(material['structure'])\n",
    "    material['atoms'] = atoms\n",
    "    for key in entries_to_remove:    #removing pymatgen object not to need the installation later.\n",
    "        _ = material.pop(key, None)\n",
    "\n",
    "np.save(theoretical_path+'TheoAtomsUnd12arr', Tunder12)"
   ]
  },
  {
   "cell_type": "code",
   "execution_count": null,
   "metadata": {},
   "outputs": [],
   "source": []
  },
  {
   "cell_type": "code",
   "execution_count": 9,
   "metadata": {},
   "outputs": [],
   "source": [
    "# #converting all the pymatgen structure objects to ase atom objects.\n",
    "for material in Punder12:\n",
    "    atoms = pase.get_atoms(material['structure'])\n",
    "    material['atoms'] = atoms\n",
    "    for key in entries_to_remove:    #removing pymatgen object not to need the installation later.\n",
    "        _ = material.pop(key, None)\n",
    "    \n",
    "np.save(experimental_path+'PosAtomsUnd12arr', Punder12)"
   ]
  },
  {
   "cell_type": "code",
   "execution_count": null,
   "metadata": {},
   "outputs": [],
   "source": []
  },
  {
   "cell_type": "code",
   "execution_count": 3,
   "metadata": {},
   "outputs": [],
   "source": [
    "# #converting data for prototype:\n",
    "theoGoodData = np.load(\"theoretical_data/goodata.npy\", allow_pickle=True)\n",
    "# #converting data for prototype:\n",
    "posGoodData = np.load(\"positive_data/goodata.npy\", allow_pickle=True)"
   ]
  },
  {
   "cell_type": "code",
   "execution_count": 4,
   "metadata": {},
   "outputs": [
    {
     "name": "stdout",
     "output_type": "stream",
     "text": [
      "The length of Tunder12 is 2752\n",
      "The length of Punder12 is 1170\n"
     ]
    }
   ],
   "source": [
    "Tunder12 = [datum['structure'] for datum in theoGoodData if len(datum['structure'])<12]\n",
    "Tunder12 = np.array([datum for datum in theoGoodData if len(datum['structure'])<12])\n",
    "print(\"The length of Tunder12 is\", len(Tunder12))\n",
    "\n",
    "Punder12 = [datum['structure'] for datum in posGoodData if len(datum['structure'])<12]\n",
    "Punder12 = np.array([datum for datum in posGoodData if len(datum['structure'])<12])\n",
    "print(\"The length of Punder12 is\", len(Punder12))\n"
   ]
  },
  {
   "cell_type": "code",
   "execution_count": null,
   "metadata": {},
   "outputs": [
    {
     "data": {
      "text/plain": [
       "3922"
      ]
     },
     "metadata": {},
     "output_type": "display_data"
    }
   ],
   "source": [
    "len(Tunder12)+len(Punder12)"
   ]
  },
  {
   "cell_type": "code",
   "execution_count": 11,
   "metadata": {},
   "outputs": [],
   "source": [
    "Punder_eah = np.array([datum['e_above_hull'] for datum in posGoodData if len(datum['structure'])<12])\n",
    "Punder_fepa = np.array([datum['formation_energy_per_atom'] for datum in posGoodData if len(datum['structure'])<12])\n",
    "Punder_id = np.array([datum['material_id'] for datum in posGoodData if len(datum['structure'])<12])\n"
   ]
  },
  {
   "cell_type": "code",
   "execution_count": 13,
   "metadata": {},
   "outputs": [],
   "source": [
    "import pandas as pd"
   ]
  },
  {
   "cell_type": "code",
   "execution_count": 14,
   "metadata": {},
   "outputs": [],
   "source": [
    "tdf = pd.DataFrame()\n",
    "tdf['e_ab_hull'] = Punder_eah\n",
    "tdf['fepa'] = Punder_fepa\n",
    "tdf['material_id'] = Punder_id\n"
   ]
  },
  {
   "cell_type": "code",
   "execution_count": 17,
   "metadata": {},
   "outputs": [],
   "source": [
    "tdf.to_csv('data_for_dev_try/tempPosPoster.csv')"
   ]
  },
  {
   "cell_type": "code",
   "execution_count": null,
   "metadata": {},
   "outputs": [],
   "source": []
  }
 ],
 "metadata": {
  "kernelspec": {
   "display_name": "Python 3.10.2 ('pmg')",
   "language": "python",
   "name": "python3"
  },
  "language_info": {
   "codemirror_mode": {
    "name": "ipython",
    "version": 3
   },
   "file_extension": ".py",
   "mimetype": "text/x-python",
   "name": "python",
   "nbconvert_exporter": "python",
   "pygments_lexer": "ipython3",
   "version": "3.10.2"
  },
  "orig_nbformat": 4,
  "vscode": {
   "interpreter": {
    "hash": "d1a27d8d45b62387ee3542127e36a124af74c41199c87124ba49949dc696444f"
   }
  }
 },
 "nbformat": 4,
 "nbformat_minor": 2
}
