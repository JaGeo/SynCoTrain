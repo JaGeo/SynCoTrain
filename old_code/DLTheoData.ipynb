{
 "cells": [
  {
   "cell_type": "markdown",
   "metadata": {},
   "source": [
    "Related links:\n",
    "\n",
    "https://pypi.org/project/qmpy-rester/"
   ]
  },
  {
   "cell_type": "code",
   "execution_count": null,
   "metadata": {},
   "outputs": [],
   "source": [
    "# from pymatgen.ext.optimade import OptimadeRester\n",
    "# import qmpy_rester as qr\n",
    "\n",
    "# with OptimadeRester(alias_or_structure_resource_url= \"oqmd\") as m:\n",
    "#     # print(dir(m))\n",
    "#     m._timeout = 120\n",
    "#     data = m.get_structures(elements='O', nelements = 2)\n",
    "#we get a timeout with this code, even after increasing it to 600 sec (default is 10 sec).\n",
    "\n",
    "\n",
    "# with qr.QMPYRester() as q:\n",
    "#     kwargs = {\n",
    "#         \"element_set\": \"O\",      # composition include (Fe OR Mn) AND O\n",
    "#         \"stability\": \"<0.9\",            # hull distance smaller than -0.1 eV\n",
    "#         \"natom\": \"<300\",                  # number of atoms (IN SUPERCELL?) less than 3\n",
    "#         }\n",
    "#     list_of_data = q.get_oqmd_phases(**kwargs)\n",
    "\n",
    "\n",
    "# ## Return list of data\n",
    "# with qr.QMPYRester() as q:\n",
    "#     kwargs = {\n",
    "#         \"elements\": \"O\",                    # include element Fe and Mn\n",
    "#         \"nelements\": \"<3\",                      # less than 4 element species in the compound\n",
    "#         \"_oqmd_stability\": \"<0.9\",                # stability calculted by oqmd is less than 0\n",
    "#         }\n",
    "#     list_of_data_2 = q.get_optimade_structures(**kwargs)    "
   ]
  },
  {
   "cell_type": "code",
   "execution_count": 1,
   "metadata": {},
   "outputs": [],
   "source": [
    "import numpy as np\n",
    "import sys\n",
    "import os\n",
    "from pymatgen.ext.matproj import MPRester\n",
    "import requests\n",
    "import json\n",
    "import pathlib\n",
    "pathlib.Path().resolve()\n",
    "from pymatgen.core.structure import Structure\n",
    "import pickle\n"
   ]
  },
  {
   "cell_type": "code",
   "execution_count": 2,
   "metadata": {},
   "outputs": [],
   "source": [
    "from pymatgen.ext.optimade import OptimadeRester\n",
    "import qmpy_rester as qr\n"
   ]
  },
  {
   "cell_type": "code",
   "execution_count": 3,
   "metadata": {},
   "outputs": [],
   "source": [
    "\n",
    "MPID = \"Q0tUKnAE52sy7hVO\"\n"
   ]
  },
  {
   "cell_type": "code",
   "execution_count": 4,
   "metadata": {},
   "outputs": [],
   "source": [
    "import pymatgen as pm"
   ]
  },
  {
   "cell_type": "code",
   "execution_count": 5,
   "metadata": {},
   "outputs": [
    {
     "data": {
      "text/plain": [
       "'2022.2.10'"
      ]
     },
     "execution_count": 5,
     "metadata": {},
     "output_type": "execute_result"
    }
   ],
   "source": [
    "pm.core.__version__"
   ]
  },
  {
   "cell_type": "code",
   "execution_count": 6,
   "metadata": {},
   "outputs": [
    {
     "name": "stdout",
     "output_type": "stream",
     "text": [
      "{'db': '2020_09_08', 'pymatgen': '2022.0.8', 'rest': '2.0'}\n"
     ]
    }
   ],
   "source": [
    "# request below is just made to print the version of the database and pymatgen\n",
    "response = requests.get(\n",
    "    \"https://www.materialsproject.org/rest/v2/materials/mp-1234/vasp\",\n",
    "    {\"API_KEY\": MPID})\n",
    "response_data = json.loads(response.text)\n",
    "print(response_data.get('version'))\n"
   ]
  },
  {
   "cell_type": "code",
   "execution_count": 46,
   "metadata": {},
   "outputs": [
    {
     "ename": "FileNotFoundError",
     "evalue": "[Errno 2] No such file or directory: 'positive_data/local_crystal_features.npy'",
     "output_type": "error",
     "traceback": [
      "\u001b[0;31m---------------------------------------------------------------------------\u001b[0m",
      "\u001b[0;31mFileNotFoundError\u001b[0m                         Traceback (most recent call last)",
      "Input \u001b[0;32mIn [46]\u001b[0m, in \u001b[0;36m<cell line: 1>\u001b[0;34m()\u001b[0m\n\u001b[0;32m----> 1\u001b[0m t \u001b[38;5;241m=\u001b[39m \u001b[43mnp\u001b[49m\u001b[38;5;241;43m.\u001b[39;49m\u001b[43mload\u001b[49m\u001b[43m(\u001b[49m\u001b[38;5;124;43m'\u001b[39;49m\u001b[38;5;124;43mpositive_data/local_crystal_features.npy\u001b[39;49m\u001b[38;5;124;43m'\u001b[39;49m\u001b[43m,\u001b[49m\u001b[43m \u001b[49m\u001b[43mallow_pickle\u001b[49m\u001b[43m \u001b[49m\u001b[38;5;241;43m=\u001b[39;49m\u001b[43m \u001b[49m\u001b[38;5;28;43;01mTrue\u001b[39;49;00m\u001b[43m)\u001b[49m\n",
      "File \u001b[0;32m~/miniconda3/envs/PMG/lib/python3.9/site-packages/numpy/lib/npyio.py:407\u001b[0m, in \u001b[0;36mload\u001b[0;34m(file, mmap_mode, allow_pickle, fix_imports, encoding)\u001b[0m\n\u001b[1;32m    405\u001b[0m     own_fid \u001b[38;5;241m=\u001b[39m \u001b[38;5;28;01mFalse\u001b[39;00m\n\u001b[1;32m    406\u001b[0m \u001b[38;5;28;01melse\u001b[39;00m:\n\u001b[0;32m--> 407\u001b[0m     fid \u001b[38;5;241m=\u001b[39m stack\u001b[38;5;241m.\u001b[39menter_context(\u001b[38;5;28;43mopen\u001b[39;49m\u001b[43m(\u001b[49m\u001b[43mos_fspath\u001b[49m\u001b[43m(\u001b[49m\u001b[43mfile\u001b[49m\u001b[43m)\u001b[49m\u001b[43m,\u001b[49m\u001b[43m \u001b[49m\u001b[38;5;124;43m\"\u001b[39;49m\u001b[38;5;124;43mrb\u001b[39;49m\u001b[38;5;124;43m\"\u001b[39;49m\u001b[43m)\u001b[49m)\n\u001b[1;32m    408\u001b[0m     own_fid \u001b[38;5;241m=\u001b[39m \u001b[38;5;28;01mTrue\u001b[39;00m\n\u001b[1;32m    410\u001b[0m \u001b[38;5;66;03m# Code to distinguish from NumPy binary files and pickles.\u001b[39;00m\n",
      "\u001b[0;31mFileNotFoundError\u001b[0m: [Errno 2] No such file or directory: 'positive_data/local_crystal_features.npy'"
     ]
    }
   ],
   "source": [
    "t = np.load('positive_data/local_crystal_features.npy', allow_pickle = True)"
   ]
  },
  {
   "cell_type": "code",
   "execution_count": 7,
   "metadata": {},
   "outputs": [
    {
     "ename": "NameError",
     "evalue": "name 't' is not defined",
     "output_type": "error",
     "traceback": [
      "\u001b[0;31m---------------------------------------------------------------------------\u001b[0m",
      "\u001b[0;31mNameError\u001b[0m                                 Traceback (most recent call last)",
      "Input \u001b[0;32mIn [7]\u001b[0m, in \u001b[0;36m<cell line: 2>\u001b[0;34m()\u001b[0m\n\u001b[1;32m      1\u001b[0m max_elem \u001b[38;5;241m=\u001b[39m \u001b[38;5;241m0\u001b[39m\n\u001b[0;32m----> 2\u001b[0m \u001b[38;5;28;01mfor\u001b[39;00m i,tt \u001b[38;5;129;01min\u001b[39;00m \u001b[38;5;28menumerate\u001b[39m(\u001b[43mt\u001b[49m):\n\u001b[1;32m      3\u001b[0m     \u001b[38;5;66;03m# if i%1000 == 0:\u001b[39;00m\n\u001b[1;32m      4\u001b[0m         \u001b[38;5;66;03m# print(i)\u001b[39;00m\n\u001b[1;32m      5\u001b[0m     elems \u001b[38;5;241m=\u001b[39m []\n\u001b[1;32m      6\u001b[0m     \u001b[38;5;28;01mfor\u001b[39;00m x \u001b[38;5;129;01min\u001b[39;00m tt[\u001b[38;5;124m'\u001b[39m\u001b[38;5;124mfeats\u001b[39m\u001b[38;5;124m'\u001b[39m]\u001b[38;5;241m.\u001b[39mvalues():\n",
      "\u001b[0;31mNameError\u001b[0m: name 't' is not defined"
     ]
    }
   ],
   "source": [
    "max_elem = 0\n",
    "for i,tt in enumerate(t):\n",
    "    # if i%1000 == 0:\n",
    "        # print(i)\n",
    "    elems = []\n",
    "    for x in tt['feats'].values():\n",
    "        elems.append(x['element'])\n",
    "    if len(set(elems)) > max_elem:\n",
    "        max_elem = len(set(elems))\n",
    "\n",
    "print(max_elem)\n",
    "\n",
    "del t"
   ]
  },
  {
   "cell_type": "code",
   "execution_count": 8,
   "metadata": {},
   "outputs": [
    {
     "name": "stderr",
     "output_type": "stream",
     "text": [
      "oqmd:  97%|█████████▋| 12850/13185 [1:27:38<02:55,  1.91it/s]"
     ]
    },
    {
     "name": "stdout",
     "output_type": "stream",
     "text": [
      "Could not retrieve required information from provider oqmd and url http://oqmd.org/optimade/v1/structures?filter=(elements HAS ALL \"O\") AND (nsites>=2 AND nsites<=5) AND (nelements>=2 AND nelements<=4)&response_fields=lattice_vectors,cartesian_site_positions,species_at_sites,species: [Errno Expecting value] <!DOCTYPE html>\n",
      "\n",
      "\n",
      "<html lang=\"en-us\" >\n",
      "<head>\n",
      "\n",
      "<title>Server error (500)</title>\n",
      "\n",
      "<link rel=\"stylesheet\" type=\"text/css\" href=\"https://static.oqmd.org/static/css/base.css\" />\n",
      "\n",
      "\n",
      "\n",
      "\n",
      "<script type=\"text/javascript\">window.__admin_media_prefix__ = \"https://static.oqmd.org/static/admin/\";</script>\n",
      "\n",
      "\n",
      "\n",
      "\n",
      "\n",
      "<meta name=\"robots\" content=\"NOARCHIVE\" />\n",
      "\n",
      "\n",
      "\n",
      "<link rel=\"icon\" type=\"image/ico\" href=\"https://static.oqmd.org/static/img/favicon.ico\"/>\n",
      "\n",
      "\n",
      "    <script src=\"https://cdnjs.cloudflare.com/ajax/libs/jquery/3.6.0/jquery.min.js\" integrity=\"sha512-894YE6QWD5I59HgZOGReFYm4dnWc1Qt5NtvYSaNcOP+u1T9qYdvdihz0PPSiiqn/+/3e7Jo4EaG7TubfWGUrMQ==\" crossorigin=\"anonymous\" referrerpolicy=\"no-referrer\"></script>\n",
      "\n",
      "\n",
      " \n",
      "\n",
      "<script>\n",
      "\tjQuery(document).ready(function($) {\n",
      "\t\t$(\".clickableRow\").click(function() {\n",
      "\t\t\twindow.document.location = $(this).attr(\"href\");\n",
      "\t\t});\n",
      "\t});\n",
      "</script>\n",
      "</head>\n",
      "\n",
      "\n",
      "\n",
      "<body class=\"\">\n",
      "\n",
      "<div id=\"container\">\n",
      "\t<!-- Header -->\n",
      "\t<div id=\"header\">\n",
      "\t\t<div id=\"branding\">\n",
      "\t\t\t\n",
      "<a href=\"/\">\n",
      "<img src=\"https://static.oqmd.org/static/img/new_logo_oqmd.png\" width=300 alt=\"New logo\">\n",
      "</a>\n",
      "\n",
      "  </div>\n",
      "\t\t<div id=\"auth\" class=\"auth\">\n",
      "\t\t\t\n",
      "\n",
      "\n",
      " </div>\n",
      "\t\t<div id=\"navigation\" class=\"nav\">\n",
      "\t\t\t\n",
      "<ul>\n",
      "\t<li><a href=\"/\">Home</a></li>\n",
      "\n",
      "\t<li><a href=\"/materials/\">Materials</a>\n",
      "  <ul>\n",
      "    <li> <a href=\"/materials/composition\">Search Compositions</a></li>\n",
      "    <li> <a href=\"/api/search\">Query Materials</a></li>\n",
      "    \n",
      "  </ul>\n",
      "  \n",
      "\t<li><a href=\"/analysis/\">Analysis</a>\n",
      "  <ul>\n",
      "    <li> <a href=\"/analysis/gclp/\">GCLP</a> </li>\n",
      "    <li> <a href=\"/analysis/phase_diagram/\">Phase Diagrams</a> </li>\n",
      "    <li> <a href=\"/analysis/visualize\">Visualize</a></li>\n",
      "  </ul>\n",
      "\n",
      "\t<li><a href=\"/documentation/overview\">Documentation</a>\n",
      "  <ul>\n",
      "    <li> <a href=\"/documentation/vasp\">DFT settings</a></li>\n",
      "    <li> <a href=\"https://static.oqmd.org/static/docs/index.html\">Python API</a></li>\n",
      "    <li> <a href=\"/documentation/structures\">Structure sources</a></li>\n",
      "    <li> <a href=\"/documentation/publications\">Publications</a></li>\n",
      "    <li> <a href=\"https://static.oqmd.org/static/docs/faqs.html\">FAQ</a></li>\n",
      "  </ul>\n",
      "\n",
      "\t<li><a href=\"/api\">API</a>\n",
      "  <ul>\n",
      "    <li> <a href=\"/optimade\">OPTIMADE API</a></li>\n",
      "    <li> <a href=\"https://static.oqmd.org/static/docs/restful.html\">RESTful API Documentation</a></li>\n",
      "  </ul>\n",
      "\n",
      "\t<li><a href=\"/download/\">Download</a></li>\n",
      "</ul>\n",
      " </div></div>\n",
      "  <hr>\n",
      "\n",
      "  <div id=\"sub-header\">\n",
      "     </div>\n",
      "\n",
      "\t<div id=\"global-warning\">\n",
      "\t\t\n",
      "\n",
      "</div>\n",
      "\t<div id=\"global-info\">\n",
      "\t\t\n",
      "\n",
      "</div>\n",
      "\n",
      "\t<!-- Content -->\n",
      "\t<div id=\"content\">\n",
      "    \n",
      "    \n",
      "    \n",
      "\n",
      "    <!-- sidebar -->\n",
      "    \n",
      "<h1>Server Error <em>(500)</em></h1>\n",
      "<p>There's been an error. It's been reported to the site administrators via email and should be fixed shortly. Thanks for your patience.</p>\n",
      "\n",
      "\n",
      "  </div>\n",
      "\n",
      "\t<!-- Footer -->\n",
      "\t<div id=\"footer\">\n",
      "\t\t\n",
      "<hr>\n",
      "<div style=\"width:400px;float:left\">\n",
      "    Contact us by <a href=\"mailto:oqmd.questions@gmail.com\">e-mail</a>. <br>\n",
      "    The data in OQMD is licensed under <a href=\"https://creativecommons.org/licenses/by/4.0/\">CC-BY 4.0</a></div>\n",
      "<div style=\"width:400px;float:right;text-align:right\">\n",
      "    If you are using any results from this website,\n",
      "        please reference this work as shown <a href=\"/documentation/publications\">here</a></div>\n",
      "</div></div>\n",
      "\n",
      "\n",
      "</body>\n",
      "</html>\n",
      ": 0\n"
     ]
    },
    {
     "name": "stderr",
     "output_type": "stream",
     "text": [
      "oqmd:  97%|█████████▋| 12850/13185 [1:28:09<02:18,  2.42it/s]\n"
     ]
    }
   ],
   "source": [
    "from pymatgen.ext.optimade import OptimadeRester\n",
    "\n",
    "\n",
    "\n",
    "with OptimadeRester(aliases_or_resource_urls=[\"oqmd\"],timeout=150) as r:\n",
    "\n",
    "    struct=r.get_structures(elements=['O'], nelements= [2,4], nsites = [2,5])\n",
    "    # struct=r.get_structures(elements=['O'], nelements= [2,max_elem], nsites = [2,300])"
   ]
  },
  {
   "cell_type": "code",
   "execution_count": 10,
   "metadata": {},
   "outputs": [
    {
     "data": {
      "text/plain": [
       "{}"
      ]
     },
     "execution_count": 10,
     "metadata": {},
     "output_type": "execute_result"
    }
   ],
   "source": [
    "struct"
   ]
  },
  {
   "cell_type": "code",
   "execution_count": 9,
   "metadata": {},
   "outputs": [
    {
     "ename": "KeyError",
     "evalue": "'oqmd'",
     "output_type": "error",
     "traceback": [
      "\u001b[0;31m---------------------------------------------------------------------------\u001b[0m",
      "\u001b[0;31mKeyError\u001b[0m                                  Traceback (most recent call last)",
      "Input \u001b[0;32mIn [9]\u001b[0m, in \u001b[0;36m<cell line: 1>\u001b[0;34m()\u001b[0m\n\u001b[0;32m----> 1\u001b[0m struct \u001b[38;5;241m=\u001b[39m \u001b[43mstruct\u001b[49m\u001b[43m[\u001b[49m\u001b[38;5;124;43m'\u001b[39;49m\u001b[38;5;124;43moqmd\u001b[39;49m\u001b[38;5;124;43m'\u001b[39;49m\u001b[43m]\u001b[49m\n",
      "\u001b[0;31mKeyError\u001b[0m: 'oqmd'"
     ]
    }
   ],
   "source": [
    "struct = struct['oqmd']"
   ]
  },
  {
   "cell_type": "code",
   "execution_count": null,
   "metadata": {},
   "outputs": [
    {
     "data": {
      "text/plain": [
       "(dict, 603)"
      ]
     },
     "execution_count": 27,
     "metadata": {},
     "output_type": "execute_result"
    }
   ],
   "source": [
    "type(struct), len(struct)"
   ]
  },
  {
   "cell_type": "code",
   "execution_count": null,
   "metadata": {},
   "outputs": [],
   "source": []
  },
  {
   "cell_type": "code",
   "execution_count": null,
   "metadata": {},
   "outputs": [],
   "source": [
    "theo_data = np.empty(0)\n",
    "dict_data = dict()\n",
    "for s in struct:\n",
    "    dict_data['material_id'] = str(s)\n",
    "    dict_data['structure'] = struct[s]\n",
    "    theo_data = np.append(theo_data, dict_data)\n"
   ]
  },
  {
   "cell_type": "code",
   "execution_count": null,
   "metadata": {},
   "outputs": [],
   "source": []
  },
  {
   "cell_type": "code",
   "execution_count": null,
   "metadata": {},
   "outputs": [
    {
     "name": "stdout",
     "output_type": "stream",
     "text": [
      "(603,)\n"
     ]
    },
    {
     "data": {
      "text/plain": [
       "{'material_id': '5837045',\n",
       " 'structure': Structure Summary\n",
       " Lattice\n",
       "     abc : 3.351779293254055 3.351779293254055 3.351779292883463\n",
       "  angles : 59.969461559870616 59.969461559870616 59.96946156107553\n",
       "  volume : 26.607886734026962\n",
       "       A : 1.675116016 0.967128683 2.737347781\n",
       "       B : -1.675116016 0.967128683 2.737347781\n",
       "       C : 0.0 -1.934257365 2.737347781\n",
       " PeriodicSite: O (-0.0000, 0.0000, 6.1585) [0.7499, 0.7499, 0.7499]\n",
       " PeriodicSite: Cd (-0.0000, 0.0000, 2.0536) [0.2501, 0.2501, 0.2501]}"
      ]
     },
     "execution_count": 31,
     "metadata": {},
     "output_type": "execute_result"
    }
   ],
   "source": [
    "print(theo_data.shape)\n",
    "theo_data[0]"
   ]
  },
  {
   "cell_type": "code",
   "execution_count": null,
   "metadata": {},
   "outputs": [],
   "source": [
    "np.save('theoretical_data/theoretical_structures', theo_data)"
   ]
  },
  {
   "cell_type": "code",
   "execution_count": 39,
   "metadata": {},
   "outputs": [],
   "source": [
    "# theo_data = np.load('theoretical_data/theoretical_structures'+'.npy', allow_pickle=True)"
   ]
  },
  {
   "cell_type": "code",
   "execution_count": null,
   "metadata": {},
   "outputs": [
    {
     "ename": "",
     "evalue": "",
     "output_type": "error",
     "traceback": [
      "\u001b[1;31mRunning cells with 'Python 3.8.3 ('oqmd')' requires ipykernel package.\n",
      "Run the following command to install 'ipykernel' into the Python environment. \n",
      "Command: 'conda install -n oqmd ipykernel --update-deps --force-reinstall'"
     ]
    }
   ],
   "source": [
    "from qmpy import *"
   ]
  },
  {
   "cell_type": "code",
   "execution_count": null,
   "metadata": {},
   "outputs": [],
   "source": [
    "import numpy as np"
   ]
  },
  {
   "cell_type": "code",
   "execution_count": null,
   "metadata": {},
   "outputs": [],
   "source": []
  },
  {
   "cell_type": "code",
   "execution_count": null,
   "metadata": {},
   "outputs": [],
   "source": []
  }
 ],
 "metadata": {
  "interpreter": {
   "hash": "78fbf1cb957042a9344380c5f341601f30d8ff5216b68972dc8aed50540a934d"
  },
  "kernelspec": {
   "display_name": "Python 3.9.5 ('PMG')",
   "language": "python",
   "name": "python3"
  },
  "language_info": {
   "codemirror_mode": {
    "name": "ipython",
    "version": 3
   },
   "file_extension": ".py",
   "mimetype": "text/x-python",
   "name": "python",
   "nbconvert_exporter": "python",
   "pygments_lexer": "ipython3",
   "version": "3.8.10"
  },
  "orig_nbformat": 4
 },
 "nbformat": 4,
 "nbformat_minor": 2
}
