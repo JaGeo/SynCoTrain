{
 "cells": [
  {
   "cell_type": "code",
   "execution_count": 1,
   "id": "9d0c42aa",
   "metadata": {},
   "outputs": [],
   "source": [
    "import logging\n",
    "from pymatgen.ext.matproj import MPRester\n",
    "import numpy as np"
   ]
  },
  {
   "cell_type": "markdown",
   "id": "55ac204e",
   "metadata": {},
   "source": [
    "### Structure analysis:"
   ]
  },
  {
   "cell_type": "code",
   "execution_count": 2,
   "id": "1bbfeb2e",
   "metadata": {},
   "outputs": [],
   "source": [
    "import logging\n",
    "from pymatgen.util.coord import get_angle\n",
    "from pymatgen.analysis.bond_valence import BVAnalyzer\n",
    "from pymatgen.analysis.chemenv.coordination_environments.chemenv_strategies import SimplestChemenvStrategy\n",
    "from pymatgen.analysis.chemenv.coordination_environments.coordination_geometry_finder import LocalGeometryFinder\n",
    "from pymatgen.analysis.chemenv.coordination_environments.structure_environments import LightStructureEnvironments\n",
    "from pymatgen.ext.matproj import MPRester\n",
    "from pymatgen.analysis.chemenv.utils.defs_utils import AdditionalConditions\n",
    "from pymatgen.analysis.chemenv.connectivity.connectivity_finder import ConnectivityFinder"
   ]
  },
  {
   "cell_type": "code",
   "execution_count": null,
   "id": "8ad5e883",
   "metadata": {},
   "outputs": [],
   "source": []
  },
  {
   "cell_type": "code",
   "execution_count": 4,
   "id": "c8a8b7af",
   "metadata": {},
   "outputs": [],
   "source": [
    "# mylse_structure_sites = s3[0]\n",
    "# s3[0][3].coords\n",
    "# [atom.coords for atom in mylse_structure_sites]"
   ]
  },
  {
   "cell_type": "code",
   "execution_count": 5,
   "id": "a223a488",
   "metadata": {},
   "outputs": [
    {
     "name": "stdout",
     "output_type": "stream",
     "text": [
      "arrdata.npy      coordata_4.npy  coordPlayData.npy\n",
      "coordata_0.npy   coordata_5.npy  coord_problems.npy\n",
      "coordata_10.npy  coordata_6.npy  crystal_features.npy\n",
      "coordata_1.npy   coordata_7.npy  goodata.npy\n",
      "coordata_2.npy   coordata_8.npy  local_crystal_features.npy\n",
      "coordata_3.npy   coordata_9.npy  noLightStructures.npy\n"
     ]
    }
   ],
   "source": [
    "ls data"
   ]
  },
  {
   "cell_type": "code",
   "execution_count": 6,
   "id": "190826aa",
   "metadata": {},
   "outputs": [],
   "source": [
    "testd = np.load('data/coordPlayData.npy', allow_pickle=True)"
   ]
  },
  {
   "cell_type": "code",
   "execution_count": 10,
   "id": "949b13f9",
   "metadata": {},
   "outputs": [],
   "source": [
    "SC_object = testd[7]['StructureConnectivity']"
   ]
  },
  {
   "cell_type": "code",
   "execution_count": 83,
   "id": "44160804",
   "metadata": {
    "scrolled": true
   },
   "outputs": [],
   "source": [
    "# # def crysFeaturizer(SC_object):\n",
    "# struct = SC_object.light_structure_environments.structure \n",
    "# LSE = SC_object.light_structure_environments\n",
    "# local_Envs_list = LSE.coordination_environments \n",
    "# structure_data = {}\n",
    "\n",
    "# for i, atom in enumerate(LSE.neighbors_sets):\n",
    "#     if atom==None:\n",
    "#         # save coordniates here here\n",
    "#         atomIndex = i #just for naming consistency \n",
    "#         structure_data[atomIndex] = {}\n",
    "#         structure_data[atomIndex]['index'] = atomIndex\n",
    "#         structure_data[atomIndex]['ion'] = 'anion'\n",
    "#         structure_data[atomIndex]['element'] = struct[atomIndex].species_string\n",
    "#         structure_data[atomIndex]['coords'] = struct[atomIndex].coords\n",
    "#         continue #not working with anions.\n",
    "#     atomIndex = atom[0].isite\n",
    "\n",
    "#     if i != atomIndex:\n",
    "#         print('The neighbor sets are not ordered according to the structure object!')\n",
    "#         break   #something for saving anionic coordinates here. Later do in cleanly, cations and anions in one go.\n",
    "\n",
    "#     structure_data[atomIndex] = {}\n",
    "#     structure_data[atomIndex]['index'] = atomIndex\n",
    "#     structure_data[atomIndex]['ion'] = 'cation'\n",
    "#     structure_data[atomIndex]['element'] = struct[atomIndex].species_string\n",
    "#     structure_data[atomIndex]['localEnv'] = local_Envs_list[atomIndex]\n",
    "#     structure_data[atomIndex]['coords'] = struct[atomIndex].coords\n",
    "#     neighbors = atom[0].neighb_sites_and_indices\n",
    "#     structure_data[atomIndex]['NN_distances'] = []\n",
    "#     for nb in neighbors:\n",
    "#         nb_element = nb['site'].species_string\n",
    "#         nb_distance = nb['site'].distance_from_point(struct[atomIndex].coords)\n",
    "#         structure_data[atomIndex]['NN_distances'].append([nb_distance,nb_element])\n",
    "\n",
    "# nodes=SC_object.environment_subgraph().nodes()\n",
    "# for node in nodes:\n",
    "#     distances=[]\n",
    "#     node_angleS = []\n",
    "\n",
    "# #         node_data = {}\n",
    "# #         node_data['element']=node.atom_symbol\n",
    "\n",
    "#     for edge in SC_object.environment_subgraph().edges(node, data=True):\n",
    "\n",
    "\n",
    "#         distance=struct[edge[2][\"start\"]].distance(struct[edge[2][\"end\"]], edge[2][\"delta\"])\n",
    "#         start_element = struct[edge[2][\"start\"]].species_string\n",
    "#         end_element = struct[edge[2][\"end\"]].species_string\n",
    "\n",
    "#         if node.atom_symbol!= end_element: #can't see an order on which side edge starts.\n",
    "#             neighbor_element = end_element\n",
    "#         else:\n",
    "#             neighbor_element = start_element  #this way if the 2 elements are different, the other name is saved.\n",
    "\n",
    "#         distance = [distance, neighbor_element]\n",
    "\n",
    "#         distances.append(distance)\n",
    "\n",
    "#         ligandS = edge[2][\"ligands\"]\n",
    "\n",
    "#         connectivity = {}\n",
    "#         if len(ligandS) == 1:\n",
    "#             connectivity['kind'] = \"corner\"\n",
    "#         elif len(ligandS) == 2:\n",
    "#             connectivity['kind'] = \"edge\"\n",
    "#         elif len(ligandS) >= 3:\n",
    "#             connectivity['kind'] = \"face\"\n",
    "#         else:\n",
    "#             print('There was a problem with the connectivity analysis at')\n",
    "# #                 add no connection as the connectivity type\n",
    "\n",
    "#         edge_angleS = []\n",
    "#         edge_angleS.append(connectivity)\n",
    "#         for ligand in ligandS:\n",
    "#             pos0=struct[ligand[1][\"start\"]].frac_coords\n",
    "#             pos1=struct[ligand[1][\"end\"]].frac_coords+ligand[1][\"delta\"]\n",
    "#             cart_pos0 = struct.lattice.get_cartesian_coords(pos0)\n",
    "#             cart_pos1 = struct.lattice.get_cartesian_coords(pos1)\n",
    "\n",
    "#             pos2=struct[ligand[2][\"start\"]].frac_coords\n",
    "#             pos3=struct[ligand[2][\"end\"]].frac_coords+ligand[2][\"delta\"]\n",
    "#             cart_pos2 = struct.lattice.get_cartesian_coords(pos2)\n",
    "#             cart_pos3 = struct.lattice.get_cartesian_coords(pos3)\n",
    "\n",
    "#             if edge[2]['start'] != node.isite:\n",
    "#                 poly_nb = structure_data[edge[2]['start']]['element']\n",
    "#             else:\n",
    "#                 poly_nb = structure_data[edge[2]['end']]['element']            \n",
    "#             #poly_nb is the central atom of the neighboring \n",
    "\n",
    "                # code to recognize poly nb starts here.\n",
    "                # struct[ligand[1][\"start\"]]\n",
    "\n",
    "#                 angle = get_angle(cart_pos0-cart_pos1, cart_pos2-cart_pos3, units=\"degrees\")\n",
    "#                 edge_angleS.append(angle)\n",
    "\n",
    "#             node_angleS.append(edge_angleS)\n",
    "\n",
    "#         structure_data[node.isite]['poly_distances']=distances \n",
    "\n",
    "#         structure_data[node.isite]['connectivity_angles']=node_angleS\n",
    "\n",
    "        \n",
    "#     return structure_data"
   ]
  },
  {
   "cell_type": "code",
   "execution_count": null,
   "id": "2746f289",
   "metadata": {},
   "outputs": [],
   "source": []
  },
  {
   "cell_type": "code",
   "execution_count": 36,
   "id": "43da32a4",
   "metadata": {},
   "outputs": [
    {
     "data": {
      "text/plain": [
       "[4, 16, 36, 64]"
      ]
     },
     "execution_count": 36,
     "metadata": {},
     "output_type": "execute_result"
    }
   ],
   "source": [
    "mylist = list(range(1,10))\n",
    "# for t%2==0 in mylist:\n",
    "#     print(t)\n",
    "[t**2 for t in mylist if t%2==0]"
   ]
  },
  {
   "cell_type": "code",
   "execution_count": 48,
   "id": "23a50129",
   "metadata": {},
   "outputs": [
    {
     "data": {
      "text/plain": [
       "(28,\n",
       " {'start': 8, 'end': 28, 'delta': array([0, 0, 0])},\n",
       " {'start': 10, 'end': 28, 'delta': array([0, 0, 0])})"
      ]
     },
     "execution_count": 48,
     "metadata": {},
     "output_type": "execute_result"
    }
   ],
   "source": [
    "ligand"
   ]
  },
  {
   "cell_type": "code",
   "execution_count": 46,
   "id": "a4350467",
   "metadata": {},
   "outputs": [
    {
     "data": {
      "text/plain": [
       "10"
      ]
     },
     "execution_count": 46,
     "metadata": {},
     "output_type": "execute_result"
    }
   ],
   "source": [
    "node.isite"
   ]
  },
  {
   "cell_type": "code",
   "execution_count": 86,
   "id": "051fa913",
   "metadata": {},
   "outputs": [
    {
     "data": {
      "text/plain": [
       "8"
      ]
     },
     "execution_count": 86,
     "metadata": {},
     "output_type": "execute_result"
    }
   ],
   "source": [
    "edge[2]['start']"
   ]
  },
  {
   "cell_type": "code",
   "execution_count": 88,
   "id": "ef573ae8",
   "metadata": {},
   "outputs": [
    {
     "data": {
      "text/plain": [
       "'S'"
      ]
     },
     "execution_count": 88,
     "metadata": {},
     "output_type": "execute_result"
    }
   ],
   "source": [
    "# edge[2]#['start']\n",
    "# [[edge[2]['start'],edge[2]['end']][0] if polyCentre!= node.isite]\n",
    "if edge[2]['start'] != node.isite:\n",
    "    poly_nb = structure_data[edge[2]['start']]['element']\n",
    "else:\n",
    "    poly_nb = structure_data[edge[2]['end']]['element']\n",
    "poly_nb"
   ]
  },
  {
   "cell_type": "code",
   "execution_count": 82,
   "id": "444657bc",
   "metadata": {},
   "outputs": [
    {
     "data": {
      "text/plain": [
       "'S'"
      ]
     },
     "execution_count": 82,
     "metadata": {},
     "output_type": "execute_result"
    }
   ],
   "source": [
    "# structure_data[[polyCentre for polyCentre in [edge[2]['start'],edge[2]['end']] if polyCentre!= node.isite][0]]['element']"
   ]
  },
  {
   "cell_type": "code",
   "execution_count": 74,
   "id": "b4c950a1",
   "metadata": {},
   "outputs": [
    {
     "data": {
      "text/plain": [
       "PeriodicSite: S (-2.5219, 5.0385, -6.8706) [0.6250, 0.8462, 0.7742]"
      ]
     },
     "execution_count": 74,
     "metadata": {},
     "output_type": "execute_result"
    }
   ],
   "source": [
    "struct[8]"
   ]
  },
  {
   "cell_type": "code",
   "execution_count": null,
   "id": "0120413a",
   "metadata": {},
   "outputs": [],
   "source": []
  },
  {
   "cell_type": "code",
   "execution_count": null,
   "id": "44160804",
   "metadata": {
    "scrolled": true
   },
   "outputs": [],
   "source": [
    "def crysFeaturizer(SC_object):\n",
    "    struct = SC_object.light_structure_environments.structure \n",
    "    LSE = SC_object.light_structure_environments\n",
    "    local_Envs_list = LSE.coordination_environments \n",
    "    structure_data = {}\n",
    "\n",
    "    for i, atom in enumerate(LSE.neighbors_sets):\n",
    "        if atom==None:\n",
    "            # save coordniates here here\n",
    "            atomIndex = i #just for naming consistency \n",
    "            structure_data[atomIndex] = {}\n",
    "            structure_data[atomIndex]['index'] = atomIndex\n",
    "            structure_data[atomIndex]['ion'] = 'anion'\n",
    "            structure_data[atomIndex]['element'] = struct[atomIndex].species_string\n",
    "            structure_data[atomIndex]['coords'] = struct[atomIndex].coords\n",
    "            continue #not working with anions.\n",
    "        atomIndex = atom[0].isite\n",
    "\n",
    "        if i != atomIndex:\n",
    "            print('The neighbor sets are not ordered according to the structure object!')\n",
    "            break   #something for saving anionic coordinates here. Later do in cleanly, cations and anions in one go.\n",
    "\n",
    "        structure_data[atomIndex] = {}\n",
    "        structure_data[atomIndex]['index'] = atomIndex\n",
    "        structure_data[atomIndex]['ion'] = 'cation'\n",
    "        structure_data[atomIndex]['element'] = struct[atomIndex].species_string\n",
    "        structure_data[atomIndex]['localEnv'] = local_Envs_list[atomIndex]\n",
    "        structure_data[atomIndex]['coords'] = struct[atomIndex].coords\n",
    "        neighbors = atom[0].neighb_sites_and_indices\n",
    "        structure_data[atomIndex]['NN_distances'] = []\n",
    "        for nb in neighbors:\n",
    "            nb_element = nb['site'].species_string\n",
    "            nb_distance = nb['site'].distance_from_point(struct[atomIndex].coords)\n",
    "            structure_data[atomIndex]['NN_distances'].append([nb_distance,nb_element])\n",
    "\n",
    "    nodes=SC_object.environment_subgraph().nodes()\n",
    "    for node in nodes:\n",
    "        distances=[]\n",
    "        node_angleS = []\n",
    "\n",
    "#         node_data = {}\n",
    "#         node_data['element']=node.atom_symbol\n",
    "\n",
    "        for edge in SC_object.environment_subgraph().edges(node, data=True):\n",
    "\n",
    "\n",
    "            distance=struct[edge[2][\"start\"]].distance(struct[edge[2][\"end\"]], edge[2][\"delta\"])\n",
    "            start_element = struct[edge[2][\"start\"]].species_string\n",
    "            end_element = struct[edge[2][\"end\"]].species_string\n",
    "\n",
    "            if node.atom_symbol!= end_element: #can't see an order on which side edge starts.\n",
    "                neighbor_element = end_element\n",
    "            else:\n",
    "                neighbor_element = start_element  #this way if the 2 elements are different, the other name is saved.\n",
    "\n",
    "            distance = [distance, neighbor_element]\n",
    "\n",
    "            distances.append(distance)\n",
    "\n",
    "            ligandS = edge[2][\"ligands\"]\n",
    "\n",
    "            connectivity = {}\n",
    "            if len(ligandS) == 1:\n",
    "                connectivity['kind'] = \"corner\"\n",
    "            elif len(ligandS) == 2:\n",
    "                connectivity['kind'] = \"edge\"\n",
    "            elif len(ligandS) >= 3:\n",
    "                connectivity['kind'] = \"face\"\n",
    "            else:\n",
    "                print('There was a problem with the connectivity analysis at')\n",
    "#                 add no connection as the connectivity type\n",
    "\n",
    "            edge_angleS = []\n",
    "            edge_angleS.append(connectivity)\n",
    "            for ligand in ligandS:\n",
    "                pos0=struct[ligand[1][\"start\"]].frac_coords\n",
    "                pos1=struct[ligand[1][\"end\"]].frac_coords+ligand[1][\"delta\"]\n",
    "                cart_pos0 = struct.lattice.get_cartesian_coords(pos0)\n",
    "                cart_pos1 = struct.lattice.get_cartesian_coords(pos1)\n",
    "\n",
    "                pos2=struct[ligand[2][\"start\"]].frac_coords\n",
    "                pos3=struct[ligand[2][\"end\"]].frac_coords+ligand[2][\"delta\"]\n",
    "                cart_pos2 = struct.lattice.get_cartesian_coords(pos2)\n",
    "                cart_pos3 = struct.lattice.get_cartesian_coords(pos3)\n",
    "                \n",
    "                if edge[2]['start'] != node.isite:\n",
    "                    poly_nb = structure_data[edge[2]['start']]['element']\n",
    "                else:\n",
    "                    poly_nb = structure_data[edge[2]['end']]['element']  \n",
    "\n",
    "                angle = get_angle(cart_pos0-cart_pos1, cart_pos2-cart_pos3, units=\"degrees\")\n",
    "                edge_angleS.append([angle, poly_nb])\n",
    "\n",
    "            node_angleS.append(edge_angleS)\n",
    "\n",
    "        structure_data[node.isite]['poly_distances']=distances \n",
    "\n",
    "        structure_data[node.isite]['connectivity_angles']=node_angleS\n",
    "\n",
    "        \n",
    "    return structure_data"
   ]
  },
  {
   "cell_type": "code",
   "execution_count": null,
   "id": "60825035",
   "metadata": {},
   "outputs": [],
   "source": []
  },
  {
   "cell_type": "code",
   "execution_count": null,
   "id": "975065d9",
   "metadata": {},
   "outputs": [],
   "source": [
    "data_chunk_list = [file for file in os.listdir('data') if file.startswith(\"coordata_\")]\n",
    "\n",
    "print(\"Files to be featurized are\", *data_chunk_list )\n",
    "\n",
    "crystal_features = np.empty(0)\n",
    "for chunk in data_chunk_list:\n",
    "    res= []\n",
    "    sc_data = np.load('data/'+chunk,allow_pickle=True)\n",
    "    print('Calculating features for ', chunk)\n",
    "    for datum in sc_data:\n",
    "        try:\n",
    "            SC = datum['StructureConn']\n",
    "            material_id = datum['material_id']\n",
    "        except:\n",
    "            continue\n",
    "        res.append({'material_id':material_id, feats :crysFeaturizer(SC)})\n",
    "    \n",
    "    crystal_features = np.concatenate((crystal_features,np.array(res)))\n",
    "\n",
    "\n"
   ]
  },
  {
   "cell_type": "code",
   "execution_count": null,
   "id": "2b4a30a9",
   "metadata": {},
   "outputs": [],
   "source": [
    "\n",
    "    np.save('data/crystal_features', crystal_features) "
   ]
  },
  {
   "cell_type": "code",
   "execution_count": 75,
   "id": "0f804fe2",
   "metadata": {},
   "outputs": [],
   "source": [
    "# feats = np.load('data/crystal_features.npy',allow_pickle=True)"
   ]
  },
  {
   "cell_type": "code",
   "execution_count": 3,
   "id": "a9216e0e",
   "metadata": {},
   "outputs": [],
   "source": [
    "feats = np.load('data/local_crystal_features.npy',allow_pickle=True)"
   ]
  },
  {
   "cell_type": "code",
   "execution_count": null,
   "id": "ef74dbca",
   "metadata": {},
   "outputs": [
    {
     "data": {
      "text/plain": [
       "{'index': 13,\n",
       " 'ion': 'anion',\n",
       " 'element': 'O',\n",
       " 'coords': array([ 0.        ,  0.        , 10.19403471])}"
      ]
     },
     "metadata": {},
     "output_type": "display_data"
    }
   ],
   "source": [
    "feats[0]['feats'][13]"
   ]
  },
  {
   "cell_type": "code",
   "execution_count": 10,
   "id": "bcb06755",
   "metadata": {},
   "outputs": [
    {
     "data": {
      "text/plain": [
       "{'index': 0,\n",
       " 'ion': 'cation',\n",
       " 'element': 'Ba',\n",
       " 'localEnv': [{'ce_symbol': 'C:12',\n",
       "   'ce_fraction': 1.0,\n",
       "   'csm': 0.6592628051340583,\n",
       "   'permutation': [3, 1, 10, 8, 2, 9, 6, 7, 4, 5, 0, 11]}],\n",
       " 'coords': array([2.001033  , 2.001033  , 9.80477117]),\n",
       " 'NN_distances': [[2.965759722477669, 'O'],\n",
       "  [2.856535005010672, 'O'],\n",
       "  [3.115777740396832, 'O'],\n",
       "  [2.856535005010672, 'O'],\n",
       "  [3.115777740396832, 'O'],\n",
       "  [3.115777740396832, 'O'],\n",
       "  [3.115777740396832, 'O'],\n",
       "  [2.965759722477669, 'O'],\n",
       "  [2.856535005010672, 'O'],\n",
       "  [2.965759722477669, 'O'],\n",
       "  [2.856535005010672, 'O'],\n",
       "  [2.965759722477669, 'O']],\n",
       " 'poly_distances': [[4.002066, 'Ba'],\n",
       "  [4.002066, 'Ba'],\n",
       "  [5.659776014712244, 'Ba'],\n",
       "  [5.659776014712244, 'Ba'],\n",
       "  [6.231555480793664, 'Ba'],\n",
       "  [4.776583657998, 'Ba'],\n",
       "  [6.231555480793664, 'Ba'],\n",
       "  [6.231555480793664, 'Ba'],\n",
       "  [6.231555480793664, 'Ba'],\n",
       "  [3.7082396710010004, 'Nd'],\n",
       "  [5.455966800296864, 'Nd'],\n",
       "  [5.455966800296864, 'Nd'],\n",
       "  [5.455966800296864, 'Nd'],\n",
       "  [5.455966800296864, 'Nd'],\n",
       "  [3.702999324148114, 'Nb'],\n",
       "  [3.702999324148114, 'Nb'],\n",
       "  [3.702999324148114, 'Nb'],\n",
       "  [3.702999324148114, 'Nb'],\n",
       "  [3.4725319309528393, 'Cu'],\n",
       "  [3.4725319309528393, 'Cu'],\n",
       "  [3.4725319309528393, 'Cu'],\n",
       "  [3.4725319309528393, 'Cu']],\n",
       " 'connectivity_angles': [[{'kind': 'face'},\n",
       "   84.86354341001811,\n",
       "   88.93596492980949,\n",
       "   88.93596492980949,\n",
       "   79.91599258267595],\n",
       "  [{'kind': 'face'},\n",
       "   88.93596492980949,\n",
       "   88.93596492980949,\n",
       "   79.91599258267595,\n",
       "   84.86354341001811],\n",
       "  [{'kind': 'corner'}, 164.33572933752197],\n",
       "  [{'kind': 'corner'}, 164.33572933752197],\n",
       "  [{'kind': 'corner'}, 180.0],\n",
       "  [{'kind': 'face'},\n",
       "   100.08400741732405,\n",
       "   100.08400741732405,\n",
       "   100.08400741732405,\n",
       "   100.08400741732405],\n",
       "  [{'kind': 'corner'}, 180.0],\n",
       "  [{'kind': 'corner'}, 180.0],\n",
       "  [{'kind': 'corner'}, 180.0],\n",
       "  [{'kind': 'face'},\n",
       "   84.77551468855924,\n",
       "   84.77551468855924,\n",
       "   84.77551468855924,\n",
       "   84.77551468855924],\n",
       "  [{'kind': 'corner'}, 169.63905809857735],\n",
       "  [{'kind': 'corner'}, 169.63905809857735],\n",
       "  [{'kind': 'corner'}, 169.63905809857735],\n",
       "  [{'kind': 'corner'}, 169.63905809857735],\n",
       "  [{'kind': 'face'}, 97.83213533123903, 90.0, 90.0],\n",
       "  [{'kind': 'face'}, 97.83213533123903, 90.0, 90.0],\n",
       "  [{'kind': 'face'}, 97.83213533123903, 90.0, 90.0],\n",
       "  [{'kind': 'face'}, 97.83213533123903, 90.0, 90.0],\n",
       "  [{'kind': 'face'}, 86.28262287440859, 82.16786466876098, 86.28262287440859],\n",
       "  [{'kind': 'face'}, 86.28262287440859, 82.16786466876098, 86.28262287440859],\n",
       "  [{'kind': 'face'}, 86.28262287440859, 82.16786466876098, 86.28262287440859],\n",
       "  [{'kind': 'face'}, 86.28262287440859, 82.16786466876098, 86.28262287440859]]}"
      ]
     },
     "execution_count": 10,
     "metadata": {},
     "output_type": "execute_result"
    }
   ],
   "source": [
    "feats[0]['feats'][0]\n",
    "#['material_id']#.keys()"
   ]
  },
  {
   "cell_type": "code",
   "execution_count": 77,
   "id": "d9fca9de",
   "metadata": {},
   "outputs": [],
   "source": [
    "# coordata_exp = np.load('data/coordata_10.npy', allow_pickle=True)"
   ]
  },
  {
   "cell_type": "code",
   "execution_count": 78,
   "id": "5328e911",
   "metadata": {},
   "outputs": [],
   "source": [
    "# coordata_exp[0]"
   ]
  },
  {
   "cell_type": "markdown",
   "id": "7e8f3263",
   "metadata": {},
   "source": []
  }
 ],
 "metadata": {
  "interpreter": {
   "hash": "d881fe04b8036d0b8b9635f133a2307ff78ee33e9456056d69e2a1b2a2a638df"
  },
  "kernelspec": {
   "display_name": "Python 3.9.6 64-bit ('PMG': conda)",
   "name": "python3"
  },
  "language_info": {
   "codemirror_mode": {
    "name": "ipython",
    "version": 3
   },
   "file_extension": ".py",
   "mimetype": "text/x-python",
   "name": "python",
   "nbconvert_exporter": "python",
   "pygments_lexer": "ipython3",
   "version": "3.9.6"
  }
 },
 "nbformat": 4,
 "nbformat_minor": 5
}
