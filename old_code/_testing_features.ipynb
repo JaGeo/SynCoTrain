{
 "cells": [
  {
   "cell_type": "code",
   "execution_count": 1,
   "metadata": {},
   "outputs": [],
   "source": [
    "import numpy as np\n",
    "%matplotlib inline\n",
    "import pprint"
   ]
  },
  {
   "cell_type": "code",
   "execution_count": 2,
   "metadata": {},
   "outputs": [],
   "source": [
    "import pymatgen.core"
   ]
  },
  {
   "cell_type": "code",
   "execution_count": 2,
   "metadata": {},
   "outputs": [],
   "source": [
    "import pandas as pd"
   ]
  },
  {
   "cell_type": "code",
   "execution_count": 16,
   "metadata": {},
   "outputs": [],
   "source": [
    "# test3 = np.load('tests/testDataDir/local_crystal_features.npy', allow_pickle=True)\n",
    "# test3 = np.load('positive_data/local_crystal_features.npy', allow_pickle=True)\n",
    "# test_3 = np.load('tests/testDataDir/_local_crystal_features.npy', allow_pickle=True)\n",
    "# test = np.load('positive_data/goodata.npy', allow_pickle=True)\n",
    "# test2 = np.load('tests/testDataDir/testData.npy', allow_pickle=True)\n",
    "# # !ls gitData"
   ]
  },
  {
   "cell_type": "code",
   "execution_count": 17,
   "metadata": {},
   "outputs": [],
   "source": [
    "t = np.load('data_for_dev_try/theoretical/goodata.npy', allow_pickle=True)\n",
    "p = np.load('data_for_dev_try/experimental/goodata.npy', allow_pickle=True)\n"
   ]
  },
  {
   "cell_type": "code",
   "execution_count": 22,
   "metadata": {},
   "outputs": [
    {
     "data": {
      "text/plain": [
       "((2913,), (1476,))"
      ]
     },
     "execution_count": 22,
     "metadata": {},
     "output_type": "execute_result"
    }
   ],
   "source": [
    "t.shape, p.shape"
   ]
  },
  {
   "cell_type": "code",
   "execution_count": 23,
   "metadata": {},
   "outputs": [
    {
     "data": {
      "text/plain": [
       "{'exp.tags': ['High pressure experimental phase'],\n",
       " 'icsd_ids': [173921],\n",
       " 'formula': {'Ba': 1.0, 'O': 1.0},\n",
       " 'pretty_formula': 'BaO',\n",
       " 'structure': Structure Summary\n",
       " Lattice\n",
       "     abc : 3.849351462970353 3.849351462970353 6.695042\n",
       "  angles : 90.0 90.0 119.99999076997862\n",
       "  volume : 85.913044572136\n",
       "       A : 1.924676 -3.333636 0.0\n",
       "       B : 1.924676 3.333636 0.0\n",
       "       C : 0.0 0.0 6.695042\n",
       " PeriodicSite: Ba (1.9247, 1.1112, 1.6738) [0.3333, 0.6667, 0.2500]\n",
       " PeriodicSite: Ba (1.9247, -1.1112, 5.0213) [0.6667, 0.3333, 0.7500]\n",
       " PeriodicSite: O (0.0000, 0.0000, 3.3475) [0.0000, 0.0000, 0.5000]\n",
       " PeriodicSite: O (0.0000, 0.0000, 0.0000) [0.0000, 0.0000, 0.0000],\n",
       " 'material_id': 'mp-1008500',\n",
       " 'theoretical': False,\n",
       " 'formation_energy_per_atom': -2.805526923125,\n",
       " 'e_above_hull': 0.02575102249999972}"
      ]
     },
     "execution_count": 23,
     "metadata": {},
     "output_type": "execute_result"
    }
   ],
   "source": [
    "p[0]"
   ]
  },
  {
   "cell_type": "code",
   "execution_count": 24,
   "metadata": {},
   "outputs": [
    {
     "data": {
      "text/plain": [
       "{'exp.tags': ['Silicon oxide'],\n",
       " 'icsd_ids': [44271],\n",
       " 'formula': {'Si': 1.0, 'O': 2.0},\n",
       " 'pretty_formula': 'SiO2',\n",
       " 'structure': Structure Summary\n",
       " Lattice\n",
       "     abc : 3.240551584238708 3.240551584238708 3.240551584238708\n",
       "  angles : 60.00000000000001 60.00000000000001 60.00000000000001\n",
       "  volume : 24.062559428747754\n",
       "       A : 0.0 2.291416 2.291416\n",
       "       B : 2.291416 0.0 2.291416\n",
       "       C : 2.291416 2.291416 0.0\n",
       " PeriodicSite: Si (0.0000, 0.0000, 0.0000) [0.0000, 0.0000, 0.0000]\n",
       " PeriodicSite: O (1.1457, 1.1457, 1.1457) [0.2500, 0.2500, 0.2500]\n",
       " PeriodicSite: O (3.4371, 3.4371, 3.4371) [0.7500, 0.7500, 0.7500],\n",
       " 'material_id': 'mp-10064',\n",
       " 'theoretical': True,\n",
       " 'formation_energy_per_atom': -2.0057272925,\n",
       " 'e_above_hull': 1.2722703766666656}"
      ]
     },
     "execution_count": 24,
     "metadata": {},
     "output_type": "execute_result"
    }
   ],
   "source": [
    "t[0]"
   ]
  },
  {
   "cell_type": "code",
   "execution_count": 7,
   "metadata": {},
   "outputs": [
    {
     "data": {
      "text/plain": [
       "-2.805526923125"
      ]
     },
     "execution_count": 7,
     "metadata": {},
     "output_type": "execute_result"
    }
   ],
   "source": [
    "test3[0]['formation_energy_per_atom']"
   ]
  },
  {
   "cell_type": "code",
   "execution_count": 14,
   "metadata": {},
   "outputs": [
    {
     "data": {
      "text/plain": [
       "dict_keys(['exp.tags', 'icsd_ids', 'formula', 'pretty_formula', 'structure', 'material_id', 'theoretical', 'formation_energy_per_atom', 'e_above_hull'])"
      ]
     },
     "execution_count": 14,
     "metadata": {},
     "output_type": "execute_result"
    }
   ],
   "source": [
    "test[0].keys()"
   ]
  },
  {
   "cell_type": "code",
   "execution_count": 15,
   "metadata": {},
   "outputs": [
    {
     "name": "stdout",
     "output_type": "stream",
     "text": [
      "3\n",
      "cation\n",
      "Sc\n",
      "[2.37218175 8.77048455 4.39490216]\n",
      "[{'ce_symbol': 'O:6', 'ce_fraction': 1.0, 'csm': 0.3309534467336687, 'permutation': [2, 3, 4, 1, 0, 5]}]\n",
      "[[2.069750993309562, 'O'], [2.150827995136419, 'O'], [2.0697509933095612, 'O'], [2.1984641867907304, 'O'], [2.1487614596168894, 'O'], [2.19846418679073, 'O']]\n",
      "[[3.5433803374999924, 'Ca'], [3.5433803374999924, 'Ca'], [3.2950927063338415, 'Ca'], [4.567453260364629, 'Ca'], [4.567453260364629, 'Ca'], [3.5100397182154954, 'Ca'], [3.5100397182154954, 'Ca'], [3.253851976926703, 'Sc'], [3.253851976926703, 'Sc'], [3.162909, 'Sc'], [3.7935701272652005, 'Sc'], [3.7935701272652005, 'Sc'], [3.692980054466097, 'Sc'], [3.692980054466097, 'Sc']]\n",
      "[[{'kind': 'edge'}, [96.01935413884722, 'Ca'], [97.4064022464111, 'Ca']], [{'kind': 'edge'}, [96.01935413884722, 'Ca'], [97.4064022464111, 'Ca']], [{'kind': 'edge'}, [90.79998257757502, 'Ca'], [90.79998257757505, 'Ca']], [{'kind': 'corner'}, [162.28851078898393, 'Ca']], [{'kind': 'corner'}, [162.28851078898393, 'Ca']], [{'kind': 'edge'}, [95.4992322286148, 'Ca'], [100.1045665081537, 'Ca']], [{'kind': 'edge'}, [95.4992322286148, 'Ca'], [100.1045665081537, 'Ca']], [{'kind': 'edge'}, [96.91273797008195, 'Sc'], [96.91273797008192, 'Sc']], [{'kind': 'edge'}, [96.91273797008195, 'Sc'], [96.91273797008192, 'Sc']], [{'kind': 'edge'}, [99.65035608774724, 'Sc'], [92.00087872113909, 'Sc']], [{'kind': 'corner'}, [130.1729103259995, 'Sc']], [{'kind': 'corner'}, [130.1729103259995, 'Sc']], [{'kind': 'corner'}, [118.00802992428117, 'Sc']], [{'kind': 'corner'}, [118.00802992428117, 'Sc']]]\n"
     ]
    }
   ],
   "source": [
    "for i,j in test_3[-7]['feats'][7].items():\n",
    "    print(j)"
   ]
  },
  {
   "cell_type": "code",
   "execution_count": 14,
   "metadata": {},
   "outputs": [
    {
     "name": "stdout",
     "output_type": "stream",
     "text": [
      "3\n",
      "cation\n",
      "Sc\n",
      "[2.37218175 8.77048455 4.39490216]\n",
      "[{'ce_symbol': 'O:6', 'ce_fraction': 1.0, 'csm': 0.3309534467336687, 'permutation': [2, 3, 4, 1, 0, 5]}]\n",
      "[[2.069750993309562, 'O'], [2.150827995136419, 'O'], [2.0697509933095612, 'O'], [2.1984641867907304, 'O'], [2.1487614596168894, 'O'], [2.19846418679073, 'O']]\n",
      "[[3.5433803374999924, 'Ca'], [3.5433803374999924, 'Ca'], [3.2950927063338415, 'Ca'], [4.567453260364629, 'Ca'], [4.567453260364629, 'Ca'], [3.5100397182154954, 'Ca'], [3.5100397182154954, 'Ca'], [3.253851976926703, 'Sc'], [3.253851976926703, 'Sc'], [3.162909, 'Sc'], [3.7935701272652005, 'Sc'], [3.7935701272652005, 'Sc'], [3.692980054466097, 'Sc'], [3.692980054466097, 'Sc']]\n",
      "[[{'kind': 'edge'}, [96.01935413884722, 'Ca'], [97.4064022464111, 'Ca']], [{'kind': 'edge'}, [96.01935413884722, 'Ca'], [97.4064022464111, 'Ca']], [{'kind': 'edge'}, [90.79998257757502, 'Ca'], [90.79998257757505, 'Ca']], [{'kind': 'corner'}, [162.28851078898393, 'Ca']], [{'kind': 'corner'}, [162.28851078898393, 'Ca']], [{'kind': 'edge'}, [95.4992322286148, 'Ca'], [100.1045665081537, 'Ca']], [{'kind': 'edge'}, [95.4992322286148, 'Ca'], [100.1045665081537, 'Ca']], [{'kind': 'edge'}, [96.91273797008195, 'Sc'], [96.91273797008192, 'Sc']], [{'kind': 'edge'}, [96.91273797008195, 'Sc'], [96.91273797008192, 'Sc']], [{'kind': 'edge'}, [99.65035608774724, 'Sc'], [92.00087872113909, 'Sc']], [{'kind': 'corner'}, [130.1729103259995, 'Sc']], [{'kind': 'corner'}, [130.1729103259995, 'Sc']], [{'kind': 'corner'}, [118.00802992428117, 'Sc']], [{'kind': 'corner'}, [118.00802992428117, 'Sc']]]\n"
     ]
    }
   ],
   "source": [
    "for i,j in test3[-7]['feats'][7].items():\n",
    "    print(j)"
   ]
  },
  {
   "cell_type": "code",
   "execution_count": 46,
   "metadata": {},
   "outputs": [],
   "source": [
    "df = pd.read_csv('qm9tut/res_df/poster_iter50ep10.csv')"
   ]
  },
  {
   "cell_type": "code",
   "execution_count": null,
   "metadata": {},
   "outputs": [],
   "source": []
  },
  {
   "cell_type": "code",
   "execution_count": 47,
   "metadata": {},
   "outputs": [],
   "source": [
    "np.random.seed(42)\n",
    "pAtoms = np.load(\"data_for_dev_try/PosAtomsUnder12.npy\", allow_pickle=True)\n",
    "tAtoms = np.load(\"data_for_dev_try/TheoAtomsUnder12.npy\", allow_pickle=True)\n",
    "\n",
    "# %%\n",
    "# pSynth = [np.array(1).flatten()]*len(pAtoms)    #we need the array to have the shape (1,), hence we use flatten()\n",
    "# tSynth = [np.array(0).flatten()]*len(tAtoms)\n",
    "pSynth = [np.array(1, dtype=np.int32).flatten()]*len(pAtoms)    #we need the array to have the shape (1,), hence we use flatten()\n",
    "tSynth = [np.array(0, dtype=np.int32).flatten()]*len(tAtoms)\n",
    "\n",
    "crysData = np.concatenate([pAtoms, tAtoms])\n",
    "targetData = [*pSynth, *tSynth]   #again, we need distinct arrays. np.concatenate would merge all in one array.\n",
    "crysdf = pd.DataFrame()\n",
    "crysdf['myatoms'] = crysData\n",
    "crysdf['target_pd'] = targetData\n",
    "if targetData[0].shape !=(1,):\n",
    "    print(\"Target data has the wrong shape of \", targetData[0].shape)\n",
    "    # break\n",
    "crysdf[\"targets\"] = crysdf.target_pd.map(lambda crystalClass: dict(synth=np.array(crystalClass)) )     #changes targets fromat from array to dict with array val\n",
    "crysdf = crysdf.reset_index(drop=False)\n",
    "crysdf = crysdf.rename(columns={'index':'crystal_id'})\n",
    "crysdf = crysdf.sample(frac=1, random_state=42).reset_index(drop=True)     #simply shuffles the rows of positive and Unlabeled(negative) data\n",
    "\n",
    "# epoch_num = 13\n",
    "# num_iter = 2"
   ]
  },
  {
   "cell_type": "code",
   "execution_count": 48,
   "metadata": {},
   "outputs": [],
   "source": [
    "df2 = crysdf.copy()"
   ]
  },
  {
   "cell_type": "code",
   "execution_count": 10,
   "metadata": {},
   "outputs": [],
   "source": [
    "# crysdf = pd.read_csv('qm9tut/res_df/poster_iter50ep10.csv', index_col=0)\n",
    "crysdf = pd.read_pickle('qm9tut/res_df/poster_iter70ep15tmp')\n"
   ]
  },
  {
   "cell_type": "code",
   "execution_count": 177,
   "metadata": {},
   "outputs": [],
   "source": [
    "# crysdf.head(2)"
   ]
  },
  {
   "cell_type": "code",
   "execution_count": 11,
   "metadata": {},
   "outputs": [],
   "source": [
    "pred_columns = []\n",
    "score_columns = []\n",
    "num_iter = 50\n",
    "epoch_num = 10\n",
    "for it in range(num_iter):\n",
    "    pred_col_name = 'pred_'+str(it)\n",
    "    pred_columns.append(pred_col_name)\n",
    "    \n",
    "    score_col_name = 'pred_score'+str(it)\n",
    "    score_columns.append(score_col_name)\n",
    "\n",
    "Preds = crysdf[pred_columns]"
   ]
  },
  {
   "cell_type": "code",
   "execution_count": 12,
   "metadata": {},
   "outputs": [],
   "source": [
    "def scoreFunc(x):\n",
    "    iter_num = sum(x.notna())\n",
    "    if iter_num == 0:\n",
    "        return np.nan, iter_num\n",
    "    res = x.sum()\n",
    "    score = res/iter_num\n",
    "    return score, iter_num"
   ]
  },
  {
   "cell_type": "code",
   "execution_count": 13,
   "metadata": {},
   "outputs": [],
   "source": [
    "crysdf['Preds'] = Preds.apply(scoreFunc, axis=1)\n",
    "\n",
    "crysdf[['Preds', 'iter_num']] = crysdf.Preds.tolist()\n",
    "\n",
    "res_df = crysdf[crysdf.Preds.notna()].drop(columns=[*pred_columns,*score_columns])  #selecting data with prediction values\n",
    "\n",
    "experimental_df = res_df[res_df.target_pd==1]\n",
    "theoretical_df = res_df[res_df.target_pd==0]\n",
    "\n",
    "# %%\n",
    "true_positive_rate = sum(experimental_df.Preds>=.5)/experimental_df.shape[0]\n",
    "unlabeled_synth_frac = sum(theoretical_df.Preds>=.5)/theoretical_df.shape[0]"
   ]
  },
  {
   "cell_type": "code",
   "execution_count": 14,
   "metadata": {},
   "outputs": [
    {
     "name": "stdout",
     "output_type": "stream",
     "text": [
      "Our true positive rate is 93.6% after 50 iterations of 10 epochs.\n"
     ]
    }
   ],
   "source": [
    "print('Our true positive rate is {:.1f}% after {} iterations of {} epochs.'.format(true_positive_rate*100, num_iter, epoch_num))"
   ]
  },
  {
   "cell_type": "code",
   "execution_count": 16,
   "metadata": {},
   "outputs": [
    {
     "data": {
      "text/plain": [
       "2.3000343288705802"
      ]
     },
     "execution_count": 16,
     "metadata": {},
     "output_type": "execute_result"
    }
   ],
   "source": [
    "unlabeled_synth_frac*100"
   ]
  },
  {
   "cell_type": "code",
   "execution_count": null,
   "metadata": {},
   "outputs": [],
   "source": []
  },
  {
   "cell_type": "code",
   "execution_count": 79,
   "metadata": {},
   "outputs": [],
   "source": [
    "import matplotlib.pyplot as plt\n",
    "from matplotlib.colors import ListedColormap"
   ]
  },
  {
   "cell_type": "code",
   "execution_count": 63,
   "metadata": {},
   "outputs": [],
   "source": [
    "edf = experimental_df.copy()\n",
    "del experimental_df"
   ]
  },
  {
   "cell_type": "code",
   "execution_count": 64,
   "metadata": {},
   "outputs": [],
   "source": [
    "tdf = theoretical_df.copy()\n",
    "del theoretical_df"
   ]
  },
  {
   "cell_type": "code",
   "execution_count": 175,
   "metadata": {},
   "outputs": [],
   "source": [
    "# edf.head(2)\n",
    "# tdf.head(2)"
   ]
  },
  {
   "cell_type": "code",
   "execution_count": 75,
   "metadata": {},
   "outputs": [],
   "source": [
    "edf['classPred'] = edf.Preds.map(lambda x: 1 if x>.5 else 0)\n",
    "tdf['classPred'] = tdf.Preds.map(lambda x: 1 if x>.5 else 0)"
   ]
  },
  {
   "cell_type": "code",
   "execution_count": 70,
   "metadata": {},
   "outputs": [],
   "source": [
    "figpath = \"reports/mse_poster/\""
   ]
  },
  {
   "cell_type": "code",
   "execution_count": 76,
   "metadata": {},
   "outputs": [],
   "source": [
    "# plt.scatter(mydf.sort_values(\"classPred\", ascending=False).e_ab_hull, \n",
    "#             mydf.sort_values(\"classPred\", ascending=False).fepa,\n",
    "#             c=mydf.sort_values(\"classPred\", ascending=False).classPred, \n",
    "#             cmap = 'winter',alpha = .5)\n",
    "# plt.colorbar()\n",
    "# plt.xlabel('e_above_hull', fontsize=15)\n",
    "# plt.ylabel('Formation_energy_per_atom', fontsize=15)\n",
    "# plt.title('Predicted Class Distribution of Experimental Data', fontsize=15)\n",
    "# plt.tight_layout()\n",
    "\n",
    "# plt.savefig(figpath+'pcded.jpg', format='jpg',\n",
    "#             bbox_inches='tight',dpi=300);"
   ]
  },
  {
   "cell_type": "code",
   "execution_count": 170,
   "metadata": {},
   "outputs": [
    {
     "data": {
      "image/png": "[encoded data removed]",
      "text/plain": [
       "<Figure size 432x288 with 1 Axes>"
      ]
     },
     "metadata": {
      "needs_background": "light"
     },
     "output_type": "display_data"
    }
   ],
   "source": [
    "data_classes = ['False (-) class', 'True (+) class']\n",
    "colors = ListedColormap(['r','b'])\n",
    "scatter  = plt.scatter(edf.sort_values(\"Preds\", ascending=False).e_above_hull, \n",
    "            edf.sort_values(\"Preds\", ascending=False).formation_energy_per_atom,\n",
    "            c=edf.sort_values(\"Preds\", ascending=False).classPred, \n",
    "            cmap = colors,alpha = .4)\n",
    "plt.legend(handles=scatter.legend_elements()[0], labels=data_classes)\n",
    "# plt.colorbar()\n",
    "\n",
    "plt.xlabel('Energy above hull', fontsize=15)\n",
    "plt.ylabel('Formation energy per atom', fontsize=15)\n",
    "plt.title('Prediction Distribution of Experimental Data', fontsize=15);\n",
    "plt.savefig(figpath+'pded.jpg', format='jpg',\n",
    "            bbox_inches='tight',dpi=300);\n"
   ]
  },
  {
   "cell_type": "code",
   "execution_count": null,
   "metadata": {},
   "outputs": [],
   "source": []
  },
  {
   "cell_type": "code",
   "execution_count": 171,
   "metadata": {},
   "outputs": [
    {
     "data": {
      "image/png": "[encoded data removed]",
      "text/plain": [
       "<Figure size 432x288 with 1 Axes>"
      ]
     },
     "metadata": {
      "needs_background": "light"
     },
     "output_type": "display_data"
    }
   ],
   "source": [
    "data_classes = ['Predicted (-) class', 'Predicted (+) class']\n",
    "colors = ListedColormap(['r','b'])\n",
    "scatter  = plt.scatter(tdf.sort_values(\"Preds\", ascending=True).e_above_hull, \n",
    "            tdf.sort_values(\"Preds\", ascending=True).formation_energy_per_atom,\n",
    "            c=tdf.sort_values(\"Preds\", ascending=True).classPred, \n",
    "            cmap = colors,alpha = .5)\n",
    "plt.legend(handles=scatter.legend_elements()[0], labels=data_classes)\n",
    "# plt.colorbar()\n",
    "plt.xlabel('Energy above hull', fontsize=15)\n",
    "plt.ylabel('Formation energy per atom', fontsize=15)\n",
    "plt.title('Prediction Distribution of Theorertical Data', fontsize=15);\n",
    "plt.savefig(figpath+'pdtd.jpg', format='jpg',\n",
    "            bbox_inches='tight',dpi=300);\n"
   ]
  },
  {
   "cell_type": "code",
   "execution_count": null,
   "metadata": {},
   "outputs": [],
   "source": []
  },
  {
   "cell_type": "code",
   "execution_count": 172,
   "metadata": {},
   "outputs": [
    {
     "data": {
      "image/png": "[encoded data removed]",
      "text/plain": [
       "<Figure size 432x288 with 1 Axes>"
      ]
     },
     "metadata": {
      "needs_background": "light"
     },
     "output_type": "display_data"
    }
   ],
   "source": [
    "plt.scatter(edf.Preds, edf.e_above_hull)\n",
    "plt.vlines(.5, -0.1,3, 'r',linewidth=3)\n",
    "plt.arrow(.5,2.5,.3,0, linewidth=3, color ='r', length_includes_head=True,\n",
    "          head_width=.3, head_length=0.05)\n",
    "plt.ylabel('Energy above hull', fontsize=15)\n",
    "plt.xlabel('Probability of Synthesizability', fontsize=15)\n",
    "plt.title('Prediction Distribution in Experimental Data', fontsize=15);\n",
    "plt.savefig(figpath+'pdede.jpg', format='jpg',\n",
    "            bbox_inches='tight',dpi=300);\n"
   ]
  },
  {
   "cell_type": "code",
   "execution_count": 181,
   "metadata": {},
   "outputs": [
    {
     "data": {
      "image/png": "[encoded data removed]",
      "text/plain": [
       "<Figure size 432x288 with 1 Axes>"
      ]
     },
     "metadata": {
      "needs_background": "light"
     },
     "output_type": "display_data"
    }
   ],
   "source": [
    "plt.scatter(tdf.Preds, tdf.e_above_hull)\n",
    "plt.vlines(.5, -0.1,3, 'r',linewidth=3)\n",
    "plt.arrow(.5,2.5,.3,0, linewidth=3, color ='r', length_includes_head=True,\n",
    "          head_width=.3, head_length=0.05)\n",
    "plt.ylabel('Energy above hull', fontsize=15)\n",
    "plt.xlabel('Probability of Synthesizability', fontsize=15)\n",
    "plt.title('Prediction Distribution in Theoretical Data', fontsize=15);\n",
    "plt.savefig(figpath+'pdtde.jpg', format='jpg',\n",
    "            bbox_inches='tight',dpi=300);\n"
   ]
  },
  {
   "cell_type": "code",
   "execution_count": null,
   "metadata": {},
   "outputs": [],
   "source": []
  },
  {
   "cell_type": "code",
   "execution_count": 173,
   "metadata": {},
   "outputs": [
    {
     "data": {
      "image/png": "[encoded data removed]",
      "text/plain": [
       "<Figure size 432x288 with 1 Axes>"
      ]
     },
     "metadata": {
      "needs_background": "light"
     },
     "output_type": "display_data"
    }
   ],
   "source": [
    "tdf.Preds.hist(bins=20)\n",
    "plt.vlines(.5, 0,2400, 'r',linewidth=3)\n",
    "plt.arrow(.5,2000,.3,0, linewidth=3, color ='r', length_includes_head=True,\n",
    "          head_width=200, head_length=0.05)\n",
    "plt.title('Probability Distribution for Theoretical Data', fontsize=15)\n",
    "plt.text(.6,1500, '4% predicted \\n synthesizable', fontsize = 15);\n",
    "plt.xlabel('Probability of Synthesizability', fontsize=15)\n",
    "plt.savefig(figpath+'pdtdhist.jpg',format='jpg',\n",
    "            bbox_inches='tight',dpi=300);\n"
   ]
  },
  {
   "cell_type": "code",
   "execution_count": null,
   "metadata": {},
   "outputs": [],
   "source": []
  },
  {
   "cell_type": "code",
   "execution_count": 174,
   "metadata": {},
   "outputs": [
    {
     "data": {
      "image/png": "[encoded data removed]",
      "text/plain": [
       "<Figure size 432x288 with 1 Axes>"
      ]
     },
     "metadata": {
      "needs_background": "light"
     },
     "output_type": "display_data"
    }
   ],
   "source": [
    "edf.Preds.hist(bins=40)\n",
    "plt.title('Probability Distribution for Experimental Data', fontsize=15)\n",
    "plt.vlines(.5, 0,750, 'r',linewidth=3)\n",
    "plt.arrow(.5,600,.3,0, linewidth=3, color ='r', length_includes_head=True,\n",
    "          head_width=70, head_length=0.05)\n",
    "plt.text(.55,400, '87% true- \\npositive rate', fontsize = 15);\n",
    "plt.xlabel('Probability of Synthesizability', fontsize=15)\n",
    "plt.savefig(figpath+'pdedhist.jpg',format='jpg',\n",
    "            bbox_inches='tight',dpi=300);\n"
   ]
  },
  {
   "cell_type": "code",
   "execution_count": null,
   "metadata": {},
   "outputs": [],
   "source": []
  },
  {
   "cell_type": "code",
   "execution_count": 187,
   "metadata": {},
   "outputs": [
    {
     "data": {
      "text/plain": [
       "0.26744186046511625"
      ]
     },
     "execution_count": 187,
     "metadata": {},
     "output_type": "execute_result"
    }
   ],
   "source": [
    "pos_pred_rate = sum(nfdf.Preds>.5)/len(nfdf)\n",
    "pos_pred_rate"
   ]
  },
  {
   "cell_type": "code",
   "execution_count": null,
   "metadata": {},
   "outputs": [],
   "source": []
  },
  {
   "cell_type": "code",
   "execution_count": null,
   "metadata": {},
   "outputs": [],
   "source": []
  },
  {
   "cell_type": "code",
   "execution_count": null,
   "metadata": {},
   "outputs": [],
   "source": []
  },
  {
   "cell_type": "code",
   "execution_count": 62,
   "metadata": {},
   "outputs": [
    {
     "data": {
      "text/plain": [
       "dict_keys(['material_id', 'feats'])"
      ]
     },
     "execution_count": 62,
     "metadata": {},
     "output_type": "execute_result"
    }
   ],
   "source": [
    "test3[0].keys()"
   ]
  },
  {
   "cell_type": "code",
   "execution_count": 64,
   "metadata": {},
   "outputs": [
    {
     "data": {
      "text/plain": [
       "dict_keys(['oxidation', 'ion', 'element', 'coords', 'localEnv', 'NN_distances', 'poly_distances', 'connectivity_angles'])"
      ]
     },
     "execution_count": 64,
     "metadata": {},
     "output_type": "execute_result"
    }
   ],
   "source": [
    "test3[0]['feats'][0].keys()"
   ]
  },
  {
   "cell_type": "code",
   "execution_count": 9,
   "metadata": {},
   "outputs": [],
   "source": [
    "testc = np.load('data/coordata_0.npy', allow_pickle=True)"
   ]
  },
  {
   "cell_type": "code",
   "execution_count": 12,
   "metadata": {},
   "outputs": [
    {
     "data": {
      "text/plain": [
       "pymatgen.analysis.chemenv.connectivity.structure_connectivity.StructureConnectivity"
      ]
     },
     "execution_count": 12,
     "metadata": {},
     "output_type": "execute_result"
    }
   ],
   "source": [
    "type(testc[0]['StructureConn'])"
   ]
  },
  {
   "cell_type": "code",
   "execution_count": 12,
   "metadata": {},
   "outputs": [],
   "source": [
    "# !ls data"
   ]
  },
  {
   "cell_type": "code",
   "execution_count": 3,
   "metadata": {},
   "outputs": [],
   "source": [
    "# feats = np.load('data/crystal_features.npy', allow_pickle=True)\n",
    "# feats = np.load('data/local_crystal_features.npy', allow_pickle=True)\n",
    "feats = np.load('mid_data/local_crystal_features.npy', allow_pickle=True)"
   ]
  },
  {
   "cell_type": "code",
   "execution_count": 20,
   "metadata": {},
   "outputs": [
    {
     "data": {
      "text/plain": [
       "numpy.ndarray"
      ]
     },
     "execution_count": 20,
     "metadata": {},
     "output_type": "execute_result"
    }
   ],
   "source": [
    "type(feats)"
   ]
  },
  {
   "cell_type": "code",
   "execution_count": 11,
   "metadata": {},
   "outputs": [
    {
     "data": {
      "text/plain": [
       "[[{'kind': 'corner'}, [180.0, 'Ba']],\n",
       " [{'kind': 'edge'}, [92.45740782265928, 'Ba'], [92.45740782265928, 'Ba']],\n",
       " [{'kind': 'edge'}, [92.45736571573356, 'Ba'], [92.45736571573356, 'Ba']],\n",
       " [{'kind': 'corner'}, [180.0, 'Ba']],\n",
       " [{'kind': 'edge'}, [92.45736571573356, 'Ba'], [92.45736571573356, 'Ba']],\n",
       " [{'kind': 'corner'}, [180.0, 'Ba']],\n",
       " [{'kind': 'corner'}, [180.0, 'Ba']],\n",
       " [{'kind': 'edge'}, [92.45740782265928, 'Ba'], [92.45740782265928, 'Ba']],\n",
       " [{'kind': 'edge'}, [92.45736571573356, 'Ba'], [92.45736571573356, 'Ba']],\n",
       " [{'kind': 'corner'}, [180.0, 'Ba']],\n",
       " [{'kind': 'edge'}, [92.45736571573356, 'Ba'], [92.45736571573356, 'Ba']],\n",
       " [{'kind': 'corner'}, [180.0, 'Ba']],\n",
       " [{'kind': 'edge'}, [87.54259217734074, 'Ba'], [87.54259217734072, 'Ba']],\n",
       " [{'kind': 'edge'}, [87.54263428426644, 'Ba'], [87.54263428426643, 'Ba']],\n",
       " [{'kind': 'edge'}, [87.54263428426644, 'Ba'], [87.54263428426643, 'Ba']]]"
      ]
     },
     "execution_count": 11,
     "metadata": {},
     "output_type": "execute_result"
    }
   ],
   "source": [
    "feats[0]['feats'][1]['connectivity_angles']"
   ]
  },
  {
   "cell_type": "code",
   "execution_count": 16,
   "metadata": {},
   "outputs": [],
   "source": [
    "# pp = pprint.PrettyPrinter(indent=2)\n",
    "# pp.pprint(feats[0]['feats'])"
   ]
  },
  {
   "cell_type": "code",
   "execution_count": 6,
   "metadata": {},
   "outputs": [],
   "source": [
    "import random"
   ]
  },
  {
   "cell_type": "code",
   "execution_count": 7,
   "metadata": {},
   "outputs": [
    {
     "data": {
      "text/plain": [
       "10"
      ]
     },
     "execution_count": 7,
     "metadata": {},
     "output_type": "execute_result"
    }
   ],
   "source": [
    "random.seed(42)\n",
    "testCrys = random.choices(feats, k=10)\n",
    "len(testCrys)"
   ]
  },
  {
   "cell_type": "code",
   "execution_count": 81,
   "metadata": {},
   "outputs": [],
   "source": [
    "test_ids = [crys['material_id'] for crys in testCrys]"
   ]
  },
  {
   "cell_type": "code",
   "execution_count": 82,
   "metadata": {},
   "outputs": [],
   "source": [
    "from pymatgen.ext.matproj import MPRester\n",
    "from pymatgen.core import Lattice, Structure"
   ]
  },
  {
   "cell_type": "code",
   "execution_count": 85,
   "metadata": {},
   "outputs": [],
   "source": [
    "# key=\"Q0tUKnAE52sy7hVO\"\n",
    "\n",
    "# # Get a structure from the materials project\n",
    "# a = MPRester(key)\n",
    "# test_structures=[]\n",
    "# Structures = [a.get_structure_by_material_id(test_ID, conventional_unit_cell = False) for test_ID in test_ids]\n",
    "# # we'll repeat the cell using Vesta to keep the same numbering of atoms\n",
    "\n",
    "# len(Structures)\n"
   ]
  },
  {
   "cell_type": "code",
   "execution_count": 86,
   "metadata": {},
   "outputs": [],
   "source": [
    "# [s.to(filename='gitData/testCry'+str(i)+'.cif') for i,s in enumerate(Structures)]"
   ]
  },
  {
   "cell_type": "code",
   "execution_count": 87,
   "metadata": {},
   "outputs": [],
   "source": [
    "# Structure.from_file('gitData/testCry2.cif')  #just checking"
   ]
  },
  {
   "cell_type": "code",
   "execution_count": 156,
   "metadata": {},
   "outputs": [],
   "source": [
    "# [(i, atom['element']) for i,atom in enumerate(testCrys[0]['feats'].values())]"
   ]
  },
  {
   "cell_type": "code",
   "execution_count": 2,
   "metadata": {},
   "outputs": [],
   "source": [
    "testCrys[1]"
   ]
  },
  {
   "cell_type": "code",
   "execution_count": 4,
   "metadata": {},
   "outputs": [
    {
     "data": {
      "text/plain": [
       "{1: 'apple', 2: 'ball'}"
      ]
     },
     "execution_count": 4,
     "metadata": {},
     "output_type": "execute_result"
    }
   ],
   "source": []
  },
  {
   "cell_type": "code",
   "execution_count": null,
   "metadata": {},
   "outputs": [],
   "source": []
  },
  {
   "cell_type": "code",
   "execution_count": 161,
   "metadata": {},
   "outputs": [
    {
     "data": {
      "text/plain": [
       "'mp-3943'"
      ]
     },
     "execution_count": 161,
     "metadata": {},
     "output_type": "execute_result"
    }
   ],
   "source": [
    "testCrys[0]['material_id']"
   ]
  },
  {
   "cell_type": "code",
   "execution_count": 168,
   "metadata": {},
   "outputs": [
    {
     "data": {
      "text/plain": [
       "{'index': 9, 'ion': 'anion', 'element': 'O', 'coords': array([0., 0., 0.])}"
      ]
     },
     "execution_count": 168,
     "metadata": {},
     "output_type": "execute_result"
    }
   ],
   "source": [
    "testCrys[0]['feats'][9]#['localEnv']"
   ]
  },
  {
   "cell_type": "code",
   "execution_count": 157,
   "metadata": {},
   "outputs": [
    {
     "name": "stdout",
     "output_type": "stream",
     "text": [
      "computed distances: Ba 0 [2.84388 2.88486 3.02279 3.05964] \n",
      "\n",
      "Vesta distances   : Ba 0        ,       ,       ,       , \n",
      "\n",
      "=========== \n",
      "\n",
      "computed distances: Ba 1 [2.7191  2.7229  2.729   2.98682 3.00039 3.01399 3.32627] \n",
      "\n",
      "Vesta distances   : Ba 1        ,       ,       ,       ,       ,       ,       , \n",
      "\n",
      "=========== \n",
      "\n",
      "computed distances: Ba 2 [2.7191  2.7229  2.729   2.98682 3.00039 3.01399 3.32627] \n",
      "\n",
      "Vesta distances   : Ba 2        ,       ,       ,       ,       ,       ,       , \n",
      "\n",
      "=========== \n",
      "\n",
      "computed distances: Ti 3 [1.7373  1.8905  1.99969 2.08764] \n",
      "\n",
      "Vesta distances   : Ti 3        ,       ,       ,       , \n",
      "\n",
      "=========== \n",
      "\n",
      "computed distances: Ti 4 [1.7373  1.8905  1.99969 2.08764] \n",
      "\n",
      "Vesta distances   : Ti 4        ,       ,       ,       , \n",
      "\n",
      "=========== \n",
      "\n",
      "computed distances: Ti 5 [1.82514 1.84376 2.02785 2.14168 2.20437] \n",
      "\n",
      "Vesta distances   : Ti 5        ,       ,       ,       ,       , \n",
      "\n",
      "=========== \n",
      "\n",
      "computed distances: Ti 6 [1.82514 1.84376 2.02785 2.14168 2.20437] \n",
      "\n",
      "Vesta distances   : Ti 6        ,       ,       ,       ,       , \n",
      "\n",
      "=========== \n",
      "\n",
      "computed distances: Ti 7 [1.95899 1.9684  1.98338 2.0057  2.14242] \n",
      "\n",
      "Vesta distances   : Ti 7        ,       ,       ,       ,       , \n",
      "\n",
      "=========== \n",
      "\n",
      "computed distances: Ti 8 [1.95899 1.9684  1.98338 2.0057  2.14242] \n",
      "\n",
      "Vesta distances   : Ti 8        ,       ,       ,       ,       , \n",
      "\n",
      "=========== \n",
      "\n"
     ]
    }
   ],
   "source": [
    "cations = [atom['ion'] for atom in testCrys[0]['feats'].values() if atom['ion']=='cation'] #returns cations\n",
    "for i in range(len(cations)):\n",
    "    d = set([round(t[0],5) for t in testCrys[0]['feats'][i]['NN_distances']])   #retrieves unique distances, rounds up to neglect machine percision.\n",
    "    print('computed distances:',testCrys[0]['feats'][i]['element'],i,np.sort(list(d)), '\\n')\n",
    "    print('Vesta distances   :',testCrys[0]['feats'][i]['element'],i,len(d)*'       ,','\\n')\n",
    "    print('===========','\\n')"
   ]
  },
  {
   "cell_type": "code",
   "execution_count": null,
   "metadata": {},
   "outputs": [],
   "source": []
  },
  {
   "cell_type": "code",
   "execution_count": 10,
   "metadata": {},
   "outputs": [
    {
     "data": {
      "text/plain": [
       "[[{'kind': 'face'},\n",
       "  87.0015125380009,\n",
       "  85.46647649805175,\n",
       "  85.46647649805175,\n",
       "  87.00151253800092],\n",
       " [{'kind': 'corner'}, 172.50107936928745],\n",
       " [{'kind': 'face'}, 100.439466643087, 100.439466643087, 103.8390687997337],\n",
       " [{'kind': 'corner'}, 172.50107936928745],\n",
       " [{'kind': 'corner'}, 157.61636296708681],\n",
       " [{'kind': 'face'},\n",
       "  100.43946664308697,\n",
       "  100.43946664308699,\n",
       "  103.83906879973362],\n",
       " [{'kind': 'corner'}, 172.50107936928742],\n",
       " [{'kind': 'corner'}, 172.5010793692875],\n",
       " [{'kind': 'corner'}, 157.61636296708681],\n",
       " [{'kind': 'edge'}, 98.43990162577256, 89.43682217777118],\n",
       " [{'kind': 'edge'}, 98.43990162577255, 89.43682217777118],\n",
       " [{'kind': 'edge'}, 89.43682217777123, 98.43990162577255],\n",
       " [{'kind': 'edge'}, 89.43682217777122, 98.43990162577255],\n",
       " [{'kind': 'corner'}, 136.97171207846154],\n",
       " [{'kind': 'corner'}, 136.97171207846156],\n",
       " [{'kind': 'corner'}, 140.7911995067707],\n",
       " [{'kind': 'corner'}, 140.79119950677074],\n",
       " [{'kind': 'corner'}, 136.97171207846154],\n",
       " [{'kind': 'corner'}, 136.97171207846154],\n",
       " [{'kind': 'face'}, 90.56404874100203, 95.49363740675234, 90.28626740569035],\n",
       " [{'kind': 'face'}, 90.56404874100201, 95.49363740675234, 90.28626740569035],\n",
       " [{'kind': 'face'}, 95.49363740675238, 90.56404874100204, 90.2862674056903],\n",
       " [{'kind': 'face'}, 95.49363740675238, 90.56404874100204, 90.2862674056903]]"
      ]
     },
     "execution_count": 10,
     "metadata": {},
     "output_type": "execute_result"
    }
   ],
   "source": [
    "testCrys[0]['feats'][0]['connectivity_angles']"
   ]
  },
  {
   "cell_type": "code",
   "execution_count": 1,
   "metadata": {},
   "outputs": [],
   "source": [
    "import numpy as np\n",
    "import pandas as pd"
   ]
  },
  {
   "cell_type": "code",
   "execution_count": 2,
   "metadata": {},
   "outputs": [],
   "source": [
    "t = np.load('theoretical_data/local_crystal_features.npy', allow_pickle=True)\n"
   ]
  },
  {
   "cell_type": "code",
   "execution_count": 10,
   "metadata": {},
   "outputs": [
    {
     "data": {
      "text/plain": [
       "50"
      ]
     },
     "execution_count": 10,
     "metadata": {},
     "output_type": "execute_result"
    }
   ],
   "source": [
    "len(t[10010]['feats'])"
   ]
  },
  {
   "cell_type": "code",
   "execution_count": null,
   "metadata": {},
   "outputs": [],
   "source": []
  },
  {
   "cell_type": "code",
   "execution_count": null,
   "metadata": {},
   "outputs": [],
   "source": [
    "# Preds = crysdf.drop(columns=['iter_num','Unnamed: 0', 'Preds','crystal_id', 'myatoms_x', 'target_pd_x', 'targets_x', 'myatoms_y', 'target_pd_y', 'targets_y'])\n",
    "# Preds.head()\n",
    "# def scoreFunc(x):\n",
    "#     iter_num = sum(x.notna())\n",
    "#     if iter_num == 0:\n",
    "#         return np.nan, iter_num\n",
    "#     res = x.sum()\n",
    "#     score = res/iter_num\n",
    "#     return score, iter_num\n",
    "# Preds.apply(scoreFunc, axis=1)\n",
    "\n",
    "# # %%\n",
    "# crysdf['Preds'] = Preds.apply(scoreFunc, axis=1)\n",
    "\n",
    "# # crysdf['Preds']\n",
    "\n",
    "# # %%\n",
    "# crysdf[['Preds', 'iter_num']] = crysdf.Preds.tolist()\n",
    "\n",
    "\n",
    "# # %%\n",
    "# res_df = crysdf[crysdf.Preds.notna()][['target_pd_x', 'Preds', 'iter_num']]  #selecting data with prediction values\n",
    "\n",
    "# res_df.Preds.min()\n",
    "\n",
    "# # %%\n",
    "# experimental_df = res_df[res_df.target_pd_x==1]\n",
    "# # theoretical_df = res_df[res_df.target_pd==0]\n",
    "\n",
    "# # %%\n",
    "# true_positive_rate = sum(experimental_df[experimental_df.target_pd_x==1].Preds>=.5)/experimental_df.shape[0]\n",
    "\n",
    "# true_positive_rate\n",
    "# fdf = crysdf[['crystal_id', 'target_pd_x',  'Preds']]\n",
    "# fdf.sort_values('crystal_id', inplace=True)\n",
    "\n",
    "# tdf = pd.read_csv('data_for_dev_try/tempPosPoster.csv',index_col=0)\n",
    "\n",
    "# tdf\n",
    "# fdf = fdf.set_index('crystal_id',)\n",
    "# fdf = fdf.rename(columns={'target_pd_x':'target'})\n",
    "# pfdf = fdf[fdf.target==1]\n",
    "# pfdf.head(2)\n",
    "# tdf.head(2)\n",
    "# mydf = pd.concat([pfdf, tdf], join='outer',axis=1 )\n",
    "# tdf.shape, pfdf.shape\n"
   ]
  },
  {
   "cell_type": "code",
   "execution_count": 7,
   "metadata": {},
   "outputs": [],
   "source": [
    "import ase"
   ]
  },
  {
   "cell_type": "code",
   "execution_count": 3,
   "metadata": {},
   "outputs": [],
   "source": [
    "# t = pd.read_pickle('qm9tut/res_df/to_pickle_test4ep2tmp')"
   ]
  },
  {
   "cell_type": "code",
   "execution_count": 4,
   "metadata": {},
   "outputs": [
    {
     "data": {
      "text/plain": [
       "Index(['crystal_id', 'material_id', 'theoretical', 'formation_energy_per_atom',\n",
       "       'e_above_hull', 'atoms', 'target_pd', 'targets', 'pred_0',\n",
       "       'pred_score0',\n",
       "       ...\n",
       "       'pred_63', 'pred_score63', 'pred_64', 'pred_score64', 'pred_65',\n",
       "       'pred_score65', 'pred_66', 'pred_score66', 'pred_67', 'pred_score67'],\n",
       "      dtype='object', length=144)"
      ]
     },
     "execution_count": 4,
     "metadata": {},
     "output_type": "execute_result"
    }
   ],
   "source": [
    "t.columns"
   ]
  },
  {
   "cell_type": "code",
   "execution_count": 5,
   "metadata": {},
   "outputs": [
    {
     "data": {
      "text/html": [
       "<div>\n",
       "<style scoped>\n",
       "    .dataframe tbody tr th:only-of-type {\n",
       "        vertical-align: middle;\n",
       "    }\n",
       "\n",
       "    .dataframe tbody tr th {\n",
       "        vertical-align: top;\n",
       "    }\n",
       "\n",
       "    .dataframe thead th {\n",
       "        text-align: right;\n",
       "    }\n",
       "</style>\n",
       "<table border=\"1\" class=\"dataframe\">\n",
       "  <thead>\n",
       "    <tr style=\"text-align: right;\">\n",
       "      <th></th>\n",
       "      <th>crystal_id</th>\n",
       "      <th>material_id</th>\n",
       "      <th>theoretical</th>\n",
       "      <th>formation_energy_per_atom</th>\n",
       "      <th>e_above_hull</th>\n",
       "      <th>atoms</th>\n",
       "      <th>target_pd</th>\n",
       "      <th>targets</th>\n",
       "      <th>pred_0</th>\n",
       "      <th>pred_score0</th>\n",
       "      <th>...</th>\n",
       "      <th>pred_63</th>\n",
       "      <th>pred_score63</th>\n",
       "      <th>pred_64</th>\n",
       "      <th>pred_score64</th>\n",
       "      <th>pred_65</th>\n",
       "      <th>pred_score65</th>\n",
       "      <th>pred_66</th>\n",
       "      <th>pred_score66</th>\n",
       "      <th>pred_67</th>\n",
       "      <th>pred_score67</th>\n",
       "    </tr>\n",
       "  </thead>\n",
       "  <tbody>\n",
       "    <tr>\n",
       "      <th>0</th>\n",
       "      <td>1512</td>\n",
       "      <td>mp-1101301</td>\n",
       "      <td>True</td>\n",
       "      <td>-1.353148</td>\n",
       "      <td>0.000000</td>\n",
       "      <td>(Atom('Te', [1.513814448216, 2.619598, 0.0], m...</td>\n",
       "      <td>[0]</td>\n",
       "      <td>{'synth': [0]}</td>\n",
       "      <td>NaN</td>\n",
       "      <td>NaN</td>\n",
       "      <td>...</td>\n",
       "      <td>NaN</td>\n",
       "      <td>NaN</td>\n",
       "      <td>0.0</td>\n",
       "      <td>{'synth': [tensor(-6.1078, grad_fn=&lt;UnbindBack...</td>\n",
       "      <td>NaN</td>\n",
       "      <td>NaN</td>\n",
       "      <td>NaN</td>\n",
       "      <td>NaN</td>\n",
       "      <td>NaN</td>\n",
       "      <td>NaN</td>\n",
       "    </tr>\n",
       "    <tr>\n",
       "      <th>1</th>\n",
       "      <td>3191</td>\n",
       "      <td>mp-754253</td>\n",
       "      <td>True</td>\n",
       "      <td>-1.201036</td>\n",
       "      <td>1.095833</td>\n",
       "      <td>(Atom('Eu', [9.6144605, 0.0, 1.535109], magmom...</td>\n",
       "      <td>[0]</td>\n",
       "      <td>{'synth': [0]}</td>\n",
       "      <td>NaN</td>\n",
       "      <td>NaN</td>\n",
       "      <td>...</td>\n",
       "      <td>NaN</td>\n",
       "      <td>NaN</td>\n",
       "      <td>NaN</td>\n",
       "      <td>NaN</td>\n",
       "      <td>NaN</td>\n",
       "      <td>NaN</td>\n",
       "      <td>NaN</td>\n",
       "      <td>NaN</td>\n",
       "      <td>NaN</td>\n",
       "      <td>NaN</td>\n",
       "    </tr>\n",
       "    <tr>\n",
       "      <th>2</th>\n",
       "      <td>455</td>\n",
       "      <td>mp-20352</td>\n",
       "      <td>False</td>\n",
       "      <td>-2.511587</td>\n",
       "      <td>0.000000</td>\n",
       "      <td>(Atom('Ba', [-6.536985960536867e-17, 6.5369859...</td>\n",
       "      <td>[1]</td>\n",
       "      <td>{'synth': [1]}</td>\n",
       "      <td>NaN</td>\n",
       "      <td>NaN</td>\n",
       "      <td>...</td>\n",
       "      <td>NaN</td>\n",
       "      <td>NaN</td>\n",
       "      <td>NaN</td>\n",
       "      <td>NaN</td>\n",
       "      <td>NaN</td>\n",
       "      <td>NaN</td>\n",
       "      <td>NaN</td>\n",
       "      <td>NaN</td>\n",
       "      <td>NaN</td>\n",
       "      <td>NaN</td>\n",
       "    </tr>\n",
       "    <tr>\n",
       "      <th>3</th>\n",
       "      <td>3199</td>\n",
       "      <td>mp-754694</td>\n",
       "      <td>True</td>\n",
       "      <td>-1.854980</td>\n",
       "      <td>0.058992</td>\n",
       "      <td>(Atom('Na', [-0.6775829798399998, 2.2018534012...</td>\n",
       "      <td>[0]</td>\n",
       "      <td>{'synth': [0]}</td>\n",
       "      <td>NaN</td>\n",
       "      <td>NaN</td>\n",
       "      <td>...</td>\n",
       "      <td>NaN</td>\n",
       "      <td>NaN</td>\n",
       "      <td>NaN</td>\n",
       "      <td>NaN</td>\n",
       "      <td>NaN</td>\n",
       "      <td>NaN</td>\n",
       "      <td>NaN</td>\n",
       "      <td>NaN</td>\n",
       "      <td>0.0</td>\n",
       "      <td>{'synth': [tensor(-3.9615, grad_fn=&lt;UnbindBack...</td>\n",
       "    </tr>\n",
       "    <tr>\n",
       "      <th>4</th>\n",
       "      <td>3003</td>\n",
       "      <td>mp-1016826</td>\n",
       "      <td>True</td>\n",
       "      <td>-1.203927</td>\n",
       "      <td>0.783700</td>\n",
       "      <td>(Atom('Mg', [0.0, 0.0, 0.0], magmom=0.009, ind...</td>\n",
       "      <td>[0]</td>\n",
       "      <td>{'synth': [0]}</td>\n",
       "      <td>NaN</td>\n",
       "      <td>NaN</td>\n",
       "      <td>...</td>\n",
       "      <td>0.0</td>\n",
       "      <td>{'synth': [tensor(-17.9815, grad_fn=&lt;UnbindBac...</td>\n",
       "      <td>NaN</td>\n",
       "      <td>NaN</td>\n",
       "      <td>NaN</td>\n",
       "      <td>NaN</td>\n",
       "      <td>NaN</td>\n",
       "      <td>NaN</td>\n",
       "      <td>NaN</td>\n",
       "      <td>NaN</td>\n",
       "    </tr>\n",
       "  </tbody>\n",
       "</table>\n",
       "<p>5 rows × 144 columns</p>\n",
       "</div>"
      ],
      "text/plain": [
       "   crystal_id material_id  theoretical  formation_energy_per_atom  \\\n",
       "0        1512  mp-1101301         True                  -1.353148   \n",
       "1        3191   mp-754253         True                  -1.201036   \n",
       "2         455    mp-20352        False                  -2.511587   \n",
       "3        3199   mp-754694         True                  -1.854980   \n",
       "4        3003  mp-1016826         True                  -1.203927   \n",
       "\n",
       "   e_above_hull                                              atoms target_pd  \\\n",
       "0      0.000000  (Atom('Te', [1.513814448216, 2.619598, 0.0], m...       [0]   \n",
       "1      1.095833  (Atom('Eu', [9.6144605, 0.0, 1.535109], magmom...       [0]   \n",
       "2      0.000000  (Atom('Ba', [-6.536985960536867e-17, 6.5369859...       [1]   \n",
       "3      0.058992  (Atom('Na', [-0.6775829798399998, 2.2018534012...       [0]   \n",
       "4      0.783700  (Atom('Mg', [0.0, 0.0, 0.0], magmom=0.009, ind...       [0]   \n",
       "\n",
       "          targets  pred_0 pred_score0  ...  pred_63  \\\n",
       "0  {'synth': [0]}     NaN         NaN  ...      NaN   \n",
       "1  {'synth': [0]}     NaN         NaN  ...      NaN   \n",
       "2  {'synth': [1]}     NaN         NaN  ...      NaN   \n",
       "3  {'synth': [0]}     NaN         NaN  ...      NaN   \n",
       "4  {'synth': [0]}     NaN         NaN  ...      0.0   \n",
       "\n",
       "                                        pred_score63  pred_64  \\\n",
       "0                                                NaN      0.0   \n",
       "1                                                NaN      NaN   \n",
       "2                                                NaN      NaN   \n",
       "3                                                NaN      NaN   \n",
       "4  {'synth': [tensor(-17.9815, grad_fn=<UnbindBac...      NaN   \n",
       "\n",
       "                                        pred_score64  pred_65 pred_score65  \\\n",
       "0  {'synth': [tensor(-6.1078, grad_fn=<UnbindBack...      NaN          NaN   \n",
       "1                                                NaN      NaN          NaN   \n",
       "2                                                NaN      NaN          NaN   \n",
       "3                                                NaN      NaN          NaN   \n",
       "4                                                NaN      NaN          NaN   \n",
       "\n",
       "   pred_66 pred_score66  pred_67  \\\n",
       "0      NaN          NaN      NaN   \n",
       "1      NaN          NaN      NaN   \n",
       "2      NaN          NaN      NaN   \n",
       "3      NaN          NaN      0.0   \n",
       "4      NaN          NaN      NaN   \n",
       "\n",
       "                                        pred_score67  \n",
       "0                                                NaN  \n",
       "1                                                NaN  \n",
       "2                                                NaN  \n",
       "3  {'synth': [tensor(-3.9615, grad_fn=<UnbindBack...  \n",
       "4                                                NaN  \n",
       "\n",
       "[5 rows x 144 columns]"
      ]
     },
     "execution_count": 5,
     "metadata": {},
     "output_type": "execute_result"
    }
   ],
   "source": [
    "t.head()"
   ]
  },
  {
   "cell_type": "code",
   "execution_count": 8,
   "metadata": {},
   "outputs": [
    {
     "name": "stdout",
     "output_type": "stream",
     "text": [
      "<class 'pandas.core.frame.DataFrame'>\n",
      "Int64Index: 4389 entries, 0 to 4388\n",
      "Columns: 144 entries, crystal_id to pred_score67\n",
      "dtypes: bool(1), float64(70), int64(1), object(72)\n",
      "memory usage: 20.7 MB\n"
     ]
    }
   ],
   "source": [
    "t.info(memory_usage='deep')"
   ]
  },
  {
   "cell_type": "code",
   "execution_count": null,
   "metadata": {},
   "outputs": [],
   "source": []
  },
  {
   "cell_type": "code",
   "execution_count": 6,
   "metadata": {},
   "outputs": [
    {
     "data": {
      "text/plain": [
       "ase.atoms.Atoms"
      ]
     },
     "execution_count": 6,
     "metadata": {},
     "output_type": "execute_result"
    }
   ],
   "source": [
    "type(t.atoms[0])"
   ]
  },
  {
   "cell_type": "code",
   "execution_count": null,
   "metadata": {},
   "outputs": [],
   "source": []
  }
 ],
 "metadata": {
  "kernelspec": {
   "display_name": "Python 3.8.13 ('msePoster')",
   "language": "python",
   "name": "python3"
  },
  "language_info": {
   "codemirror_mode": {
    "name": "ipython",
    "version": 3
   },
   "file_extension": ".py",
   "mimetype": "text/x-python",
   "name": "python",
   "nbconvert_exporter": "python",
   "pygments_lexer": "ipython3",
   "version": "3.8.13"
  },
  "orig_nbformat": 4,
  "vscode": {
   "interpreter": {
    "hash": "db622d12f4680da78aa635018c9274919fb6a9daf4ec269869a175b38503eadb"
   }
  }
 },
 "nbformat": 4,
 "nbformat_minor": 2
}
