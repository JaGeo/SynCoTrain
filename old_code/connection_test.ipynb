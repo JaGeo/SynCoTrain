{
 "cells": [
  {
   "cell_type": "code",
   "execution_count": 1,
   "id": "8e567247",
   "metadata": {},
   "outputs": [],
   "source": [
    "import logging\n",
    "import numpy as np\n",
    "\n",
    "from pymatgen.analysis.bond_valence import BVAnalyzer\n",
    "from pymatgen.analysis.chemenv.coordination_environments.chemenv_strategies import SimplestChemenvStrategy\n",
    "from pymatgen.analysis.chemenv.coordination_environments.coordination_geometry_finder import LocalGeometryFinder\n",
    "from pymatgen.analysis.chemenv.coordination_environments.structure_environments import LightStructureEnvironments\n",
    "from pymatgen.ext.matproj import MPRester\n",
    "from pymatgen.analysis.chemenv.utils.defs_utils import AdditionalConditions\n",
    "from pymatgen.analysis.chemenv.connectivity.connectivity_finder import ConnectivityFinder"
   ]
  },
  {
   "cell_type": "code",
   "execution_count": 92,
   "id": "aef1b387",
   "metadata": {},
   "outputs": [],
   "source": [
    "coordPlayData = np.load(\"../chemheuristics/coordPlayData.npy\", allow_pickle=True)"
   ]
  },
  {
   "cell_type": "code",
   "execution_count": 105,
   "id": "758e58ad",
   "metadata": {},
   "outputs": [],
   "source": [
    "test = coordPlayData[0]['StructureConnectivity'].light_structure_environments"
   ]
  },
  {
   "cell_type": "code",
   "execution_count": 106,
   "id": "0aa123f0",
   "metadata": {},
   "outputs": [],
   "source": [
    "cf= ConnectivityFinder()"
   ]
  },
  {
   "cell_type": "code",
   "execution_count": 108,
   "id": "c972b815",
   "metadata": {},
   "outputs": [],
   "source": [
    "sc = cf.get_structure_connectivity(light_structure_environments=test)"
   ]
  },
  {
   "cell_type": "code",
   "execution_count": 163,
   "id": "b32cbb03",
   "metadata": {},
   "outputs": [],
   "source": [
    "nodes = sc.environment_subgraph().nodes()\n",
    "connection_dict = {}\n",
    "elements_dict ={}\n",
    "coord_dict = {}\n",
    "for node in nodes: \n",
    "    legDeltas = []\n",
    "    for (n1, n2, data) in sc.environment_subgraph().edges(node, data=True):\n",
    "        legDelta = []\n",
    "        if n1.isite == data[\"start\"]:\n",
    "            legDelta.append([n2.isite, len(data[\"ligands\"]), data[\"delta\"]])\n",
    "        else:\n",
    "            legDelta.append([n2.isite, len(data[\"ligands\"]), data[\"delta\"]])\n",
    "\n",
    "        legDeltas.append(legDelta)\n",
    "\n",
    "    connection_dict['Node' + str(node.isite)] = legDeltas\n",
    "    elements_dict['Node' + str(node.isite)] = node.central_site.specie\n",
    "    coord_dict['Node' + str(node.isite)] = node.ce_symbol\n",
    "    "
   ]
  },
  {
   "cell_type": "code",
   "execution_count": 164,
   "id": "21697dbd",
   "metadata": {},
   "outputs": [],
   "source": [
    "coordPlayData[0]['connection_dict'] = connection_dict"
   ]
  },
  {
   "cell_type": "code",
   "execution_count": 165,
   "id": "7158fe57",
   "metadata": {},
   "outputs": [],
   "source": [
    "coordPlayData[0]['element']=elements_dict"
   ]
  },
  {
   "cell_type": "code",
   "execution_count": 166,
   "id": "1079a113",
   "metadata": {},
   "outputs": [],
   "source": [
    "coordPlayData[0]['coordination']=coord_dict"
   ]
  },
  {
   "cell_type": "code",
   "execution_count": 168,
   "id": "fc41a7ab",
   "metadata": {
    "scrolled": true
   },
   "outputs": [
    {
     "data": {
      "text/plain": [
       "{'Node0': Element Ba,\n",
       " 'Node1': Element Ba,\n",
       " 'Node2': Element Yb,\n",
       " 'Node3': Element Yb,\n",
       " 'Node4': Element Yb,\n",
       " 'Node5': Element Yb,\n",
       " 'Node6': Element Si,\n",
       " 'Node7': Element Si,\n",
       " 'Node8': Element Si,\n",
       " 'Node9': Element Si,\n",
       " 'Node10': Element Si,\n",
       " 'Node11': Element Si}"
      ]
     },
     "execution_count": 168,
     "metadata": {},
     "output_type": "execute_result"
    }
   ],
   "source": [
    "coordPlayData[0]['element']"
   ]
  },
  {
   "cell_type": "code",
   "execution_count": 169,
   "id": "40dfe8e8",
   "metadata": {
    "scrolled": false
   },
   "outputs": [
    {
     "data": {
      "text/plain": [
       "{'Node0': 'PP:10',\n",
       " 'Node1': 'PP:10',\n",
       " 'Node2': 'O:6',\n",
       " 'Node3': 'O:6',\n",
       " 'Node4': 'O:6',\n",
       " 'Node5': 'O:6',\n",
       " 'Node6': 'T:4',\n",
       " 'Node7': 'T:4',\n",
       " 'Node8': 'T:4',\n",
       " 'Node9': 'T:4',\n",
       " 'Node10': 'T:4',\n",
       " 'Node11': 'T:4'}"
      ]
     },
     "execution_count": 169,
     "metadata": {},
     "output_type": "execute_result"
    }
   ],
   "source": [
    "coordPlayData[0]['coordination']"
   ]
  },
  {
   "cell_type": "code",
   "execution_count": 170,
   "id": "416ebee4",
   "metadata": {
    "scrolled": true
   },
   "outputs": [
    {
     "data": {
      "text/plain": [
       "{'Node0': [[[2, 2, (0, 0, 0)]],\n",
       "  [[2, 2, (0, -1, 0)]],\n",
       "  [[2, 1, (0, -1, 1)]],\n",
       "  [[3, 1, (0, 0, 1)]],\n",
       "  [[4, 1, (-1, 0, 1)]],\n",
       "  [[5, 2, (0, -1, 0)]],\n",
       "  [[5, 2, (0, 0, 0)]],\n",
       "  [[5, 1, (0, -1, 1)]],\n",
       "  [[6, 2, (0, 0, 1)]],\n",
       "  [[6, 2, (0, 0, 0)]],\n",
       "  [[8, 1, (0, 0, 1)]],\n",
       "  [[8, 2, (0, -1, 1)]],\n",
       "  [[9, 1, (0, 0, 0)]],\n",
       "  [[10, 1, (-1, 0, 0)]],\n",
       "  [[11, 2, (0, -1, 1)]],\n",
       "  [[11, 1, (0, 0, 1)]]],\n",
       " 'Node1': [[[2, 1, (1, 0, -1)]],\n",
       "  [[3, 2, (0, 0, 0)]],\n",
       "  [[3, 2, (0, 1, 0)]],\n",
       "  [[3, 1, (0, 1, -1)]],\n",
       "  [[4, 2, (0, 0, 0)]],\n",
       "  [[4, 2, (0, 1, 0)]],\n",
       "  [[4, 1, (0, 1, -1)]],\n",
       "  [[5, 1, (0, 0, -1)]],\n",
       "  [[7, 2, (0, 0, 0)]],\n",
       "  [[7, 2, (0, 0, -1)]],\n",
       "  [[8, 1, (1, 0, 0)]],\n",
       "  [[9, 2, (0, 1, -1)]],\n",
       "  [[9, 1, (0, 0, -1)]],\n",
       "  [[10, 1, (0, 0, -1)]],\n",
       "  [[10, 2, (0, 1, -1)]],\n",
       "  [[11, 1, (0, 0, 0)]]],\n",
       " 'Node2': [[[0, 2, (0, 0, 0)]],\n",
       "  [[0, 2, (0, -1, 0)]],\n",
       "  [[0, 1, (0, -1, 1)]],\n",
       "  [[1, 1, (1, 0, -1)]],\n",
       "  [[4, 2, (-1, 1, 0)]],\n",
       "  [[5, 2, (0, 0, 0)]],\n",
       "  [[6, 1, (0, 0, 0)]],\n",
       "  [[6, 1, (0, 1, 0)]],\n",
       "  [[8, 1, (0, 0, 1)]],\n",
       "  [[8, 1, (0, 0, 0)]],\n",
       "  [[10, 1, (-1, 0, 0)]],\n",
       "  [[10, 1, (-1, 1, 0)]]],\n",
       " 'Node3': [[[0, 1, (0, 0, 1)]],\n",
       "  [[1, 2, (0, 0, 0)]],\n",
       "  [[1, 2, (0, 1, 0)]],\n",
       "  [[1, 1, (0, 1, -1)]],\n",
       "  [[4, 2, (0, 0, 0)]],\n",
       "  [[5, 2, (0, -1, 0)]],\n",
       "  [[7, 1, (0, -1, 0)]],\n",
       "  [[7, 1, (0, 0, 0)]],\n",
       "  [[9, 1, (0, 0, -1)]],\n",
       "  [[9, 1, (0, 0, 0)]],\n",
       "  [[11, 1, (0, -1, 0)]],\n",
       "  [[11, 1, (0, 0, 0)]]],\n",
       " 'Node4': [[[0, 1, (-1, 0, 1)]],\n",
       "  [[1, 2, (0, 0, 0)]],\n",
       "  [[1, 2, (0, 1, 0)]],\n",
       "  [[1, 1, (0, 1, -1)]],\n",
       "  [[2, 2, (-1, 1, 0)]],\n",
       "  [[3, 2, (0, 0, 0)]],\n",
       "  [[7, 1, (0, 0, 0)]],\n",
       "  [[7, 1, (0, -1, 0)]],\n",
       "  [[8, 1, (1, -1, 0)]],\n",
       "  [[8, 1, (1, 0, 0)]],\n",
       "  [[10, 1, (0, 0, 0)]],\n",
       "  [[10, 1, (0, 0, -1)]]],\n",
       " 'Node5': [[[0, 2, (0, -1, 0)]],\n",
       "  [[0, 2, (0, 0, 0)]],\n",
       "  [[0, 1, (0, -1, 1)]],\n",
       "  [[1, 1, (0, 0, -1)]],\n",
       "  [[2, 2, (0, 0, 0)]],\n",
       "  [[3, 2, (0, -1, 0)]],\n",
       "  [[6, 1, (0, 0, 0)]],\n",
       "  [[6, 1, (0, 1, 0)]],\n",
       "  [[9, 1, (0, 0, 0)]],\n",
       "  [[9, 1, (0, 1, 0)]],\n",
       "  [[11, 1, (0, 0, 1)]],\n",
       "  [[11, 1, (0, 0, 0)]]],\n",
       " 'Node6': [[[0, 2, (0, 0, 1)]],\n",
       "  [[0, 2, (0, 0, 0)]],\n",
       "  [[2, 1, (0, 0, 0)]],\n",
       "  [[2, 1, (0, 1, 0)]],\n",
       "  [[5, 1, (0, 0, 0)]],\n",
       "  [[5, 1, (0, 1, 0)]],\n",
       "  [[8, 1, (0, 0, 0)]],\n",
       "  [[11, 1, (0, 0, 0)]]],\n",
       " 'Node7': [[[1, 2, (0, 0, 0)]],\n",
       "  [[1, 2, (0, 0, -1)]],\n",
       "  [[3, 1, (0, -1, 0)]],\n",
       "  [[3, 1, (0, 0, 0)]],\n",
       "  [[4, 1, (0, 0, 0)]],\n",
       "  [[4, 1, (0, -1, 0)]],\n",
       "  [[9, 1, (0, 0, 0)]],\n",
       "  [[10, 1, (0, 0, 0)]]],\n",
       " 'Node8': [[[0, 1, (0, 0, 1)]],\n",
       "  [[0, 2, (0, -1, 1)]],\n",
       "  [[1, 1, (1, 0, 0)]],\n",
       "  [[2, 1, (0, 0, 1)]],\n",
       "  [[2, 1, (0, 0, 0)]],\n",
       "  [[4, 1, (1, -1, 0)]],\n",
       "  [[4, 1, (1, 0, 0)]],\n",
       "  [[6, 1, (0, 0, 0)]]],\n",
       " 'Node9': [[[0, 1, (0, 0, 0)]],\n",
       "  [[1, 2, (0, 1, -1)]],\n",
       "  [[1, 1, (0, 0, -1)]],\n",
       "  [[3, 1, (0, 0, -1)]],\n",
       "  [[3, 1, (0, 0, 0)]],\n",
       "  [[5, 1, (0, 0, 0)]],\n",
       "  [[5, 1, (0, 1, 0)]],\n",
       "  [[7, 1, (0, 0, 0)]]],\n",
       " 'Node10': [[[0, 1, (-1, 0, 0)]],\n",
       "  [[1, 1, (0, 0, -1)]],\n",
       "  [[1, 2, (0, 1, -1)]],\n",
       "  [[2, 1, (-1, 0, 0)]],\n",
       "  [[2, 1, (-1, 1, 0)]],\n",
       "  [[4, 1, (0, 0, 0)]],\n",
       "  [[4, 1, (0, 0, -1)]],\n",
       "  [[7, 1, (0, 0, 0)]]],\n",
       " 'Node11': [[[0, 2, (0, -1, 1)]],\n",
       "  [[0, 1, (0, 0, 1)]],\n",
       "  [[1, 1, (0, 0, 0)]],\n",
       "  [[3, 1, (0, -1, 0)]],\n",
       "  [[3, 1, (0, 0, 0)]],\n",
       "  [[5, 1, (0, 0, 1)]],\n",
       "  [[5, 1, (0, 0, 0)]],\n",
       "  [[6, 1, (0, 0, 0)]]]}"
      ]
     },
     "execution_count": 170,
     "metadata": {},
     "output_type": "execute_result"
    }
   ],
   "source": [
    "coordPlayData[0]['connection_dict']"
   ]
  },
  {
   "cell_type": "raw",
   "id": "28bac060",
   "metadata": {},
   "source": [
    "# from the print_links() source code\n",
    "nodes = sc.environment_subgraph().nodes()\n",
    "print(\"Links in graph :\")\n",
    "for node in nodes:\n",
    "    print(node.isite, \" is connected with : \")\n",
    "    for (n1, n2, data) in sc.environment_subgraph().edges(node, data=True):\n",
    "        if n1.isite == data[\"start\"]:\n",
    "            print(\"  - {:d} by {:d} ligands ({:d} {:d} {:d})\".format(\n",
    "                n2.isite,\n",
    "                len(data[\"ligands\"]),\n",
    "                data[\"delta\"][0],\n",
    "                data[\"delta\"][1],\n",
    "                data[\"delta\"][2],\n",
    "            ))\n",
    "        else:\n",
    "            print(\"  - {:d} by {:d} ligands ({:d} {:d} {:d})\".format(\n",
    "                n2.isite,\n",
    "                len(data[\"ligands\"]),\n",
    "                -1 * data[\"delta\"][0],\n",
    "                -1 * data[\"delta\"][1],\n",
    "                -1 * data[\"delta\"][2],\n",
    "            ))"
   ]
  },
  {
   "cell_type": "code",
   "execution_count": null,
   "id": "2880c540",
   "metadata": {},
   "outputs": [],
   "source": []
  },
  {
   "cell_type": "code",
   "execution_count": null,
   "id": "351ad6e7",
   "metadata": {},
   "outputs": [],
   "source": []
  }
 ],
 "metadata": {
  "kernelspec": {
   "display_name": "Python 3",
   "language": "python",
   "name": "python3"
  },
  "language_info": {
   "codemirror_mode": {
    "name": "ipython",
    "version": 3
   },
   "file_extension": ".py",
   "mimetype": "text/x-python",
   "name": "python",
   "nbconvert_exporter": "python",
   "pygments_lexer": "ipython3",
   "version": "3.9.5"
  },
  "toc": {
   "base_numbering": 1,
   "nav_menu": {},
   "number_sections": true,
   "sideBar": true,
   "skip_h1_title": false,
   "title_cell": "Table of Contents",
   "title_sidebar": "Contents",
   "toc_cell": false,
   "toc_position": {},
   "toc_section_display": true,
   "toc_window_display": false
  },
  "varInspector": {
   "cols": {
    "lenName": 16,
    "lenType": 16,
    "lenVar": 40
   },
   "kernels_config": {
    "python": {
     "delete_cmd_postfix": "",
     "delete_cmd_prefix": "del ",
     "library": "var_list.py",
     "varRefreshCmd": "print(var_dic_list())"
    },
    "r": {
     "delete_cmd_postfix": ") ",
     "delete_cmd_prefix": "rm(",
     "library": "var_list.r",
     "varRefreshCmd": "cat(var_dic_list()) "
    }
   },
   "types_to_exclude": [
    "module",
    "function",
    "builtin_function_or_method",
    "instance",
    "_Feature"
   ],
   "window_display": false
  }
 },
 "nbformat": 4,
 "nbformat_minor": 5
}
